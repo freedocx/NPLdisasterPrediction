{
 "cells": [
  {
   "cell_type": "code",
   "execution_count": 1,
   "metadata": {},
   "outputs": [],
   "source": [
    "import pandas as pd\n",
    "import requests\n",
    "import csv\n",
    "import re"
   ]
  },
  {
   "cell_type": "code",
   "execution_count": 2,
   "metadata": {},
   "outputs": [],
   "source": [
    "train = pd.read_csv(\"train.csv\")"
   ]
  },
  {
   "cell_type": "code",
   "execution_count": 3,
   "metadata": {},
   "outputs": [],
   "source": [
    "train = train[\"text\"]"
   ]
  },
  {
   "cell_type": "code",
   "execution_count": null,
   "metadata": {},
   "outputs": [],
   "source": [
    "def chase_redirects(url):\n",
    "    try:\n",
    "        r = requests.head(url,timeout=5)\n",
    "        if 300 < r.status_code < 400:\n",
    "            url = r.headers['location']\n",
    "            return chase_redirects(url)\n",
    "        else:\n",
    "            return url\n",
    "    except Exception as e:\n",
    "        print(e)\n",
    "        return None\n",
    "    \n",
    "\n",
    "def get_links(x):\n",
    "    links = list()\n",
    "    l = re.findall(r'(http|ftp|https)://([\\w_-]+(?:(?:\\.[\\w_-]+)+))([\\w.,@?^=%&:/~+#-]*[\\w@?^=%&/~+#-])?',x)\n",
    "    for tup in l:\n",
    "        new_url = chase_redirects(tup[0] + \"://\" + ''.join(tup[1:]))\n",
    "        if new_url != None:        \n",
    "            links.append(new_url)\n",
    "    global count\n",
    "    count = count + 1\n",
    "    if (count % 1000 == 0):\n",
    "        print(\"1000+\")\n",
    "    return links\n",
    "count = 0\n",
    "#links = train.apply(get_links)\n",
    "#####NO CORRER TARDA MUCHO"
   ]
  },
  {
   "cell_type": "code",
   "execution_count": null,
   "metadata": {},
   "outputs": [],
   "source": [
    "#links.to_csv(\"data_process/redirected_links.csv\")"
   ]
  },
  {
   "cell_type": "code",
   "execution_count": 7,
   "metadata": {},
   "outputs": [
    {
     "data": {
      "text/plain": [
       "31      [https://twitter.com/dannypurewal/status/62928...\n",
       "32      [https://twitter.com/Valis_Ablaze/status/62927...\n",
       "33      [https://africanbaze.com/breaking-newsnigeria-...\n",
       "35      [https://twitter.com/AnyOtherAnnaK/status/6291...\n",
       "37                        [https://www.yabaleftonline.ng]\n",
       "38          [https://www.youtube.com/watch?v=yG08hLEWzyM]\n",
       "40      [http://freewebcamsex.me/2015-02-02-taking-in-...\n",
       "44      [https://twitter.com/RevDominic/status/6292723...\n",
       "45      [https://www.crowdfireapp.com/?utm_source=week...\n",
       "46      [https://mashable.com/2015/08/04/how-the-west-...\n",
       "48      [http://freewebcamsex.me/2015-02-02-taking-in-...\n",
       "50      [https://chroniclet.com?utm_source=twitterfeed...\n",
       "51      [https://www.freepressjournal.in/man-wife-get-...\n",
       "52      [http://barbadostoday.bb/2015/08/05/jamaica-tw...\n",
       "53      [http://www.groovytracks.com/uncategorized/pol...\n",
       "54      [https://twitter.com/Alexis_Sanchez/status/629...\n",
       "55      [https://twitter.com/dwlazar/status/6291405613...\n",
       "56      [https://twitter.com/crimeairnetwork/status/62...\n",
       "57              [https://www.instagram.com/p/6C610ilI9j/]\n",
       "59      [https://mashable.com/2015/08/04/how-the-west-...\n",
       "61      [https://www.facebook.com/thetorchpnu/posts/81...\n",
       "62          [https://www.youtube.com/watch?v=nLp9DL2Heec]\n",
       "64                               [https://beatsradio.ca/]\n",
       "65      [https://twitter.com/dannypurewal/status/62928...\n",
       "68      [https://www.waze.com/irregular_traffic?bbox=-...\n",
       "69      [https://www.sigalert.com/Map.asp?region=San+F...\n",
       "70      [https://www.lawsociety.org.uk/for-the-public/...\n",
       "71      [https://www.hoffmannpersonalinjury.com/speedi...\n",
       "72      [https://www.facebook.com/walkercotoday/posts/...\n",
       "75      [https://www.sleepdr.com/the-sleep-blog/?utm_c...\n",
       "                              ...                        \n",
       "7555    [http://www.cnbc.com/2015/08/05/cramer-igers-3...\n",
       "7558    [https://twitter.com/chararararar_/status/6290...\n",
       "7559      [http://terratopi.roflclub.asia/article/56137/]\n",
       "7566    [http://www.cnbc.com/2015/08/05/cramer-igers-3...\n",
       "7570    [http://www.cnbc.com/2015/08/05/cramer-igers-3...\n",
       "7573    [https://twitter.com/AustinVanbebber/status/62...\n",
       "7574             [http://www.bullfax.com/?q=node/2760929]\n",
       "7575    [https://twitter.com/lexx_crowe/status/6290753...\n",
       "7576    [https://www.facebook.com/HHTENT/posts/1096323...\n",
       "7580    [http://www.cnbc.com/2015/08/05/cramer-igers-3...\n",
       "7581    [https://twitter.com/MTownell/status/629062510...\n",
       "7582    [http://www.cnbc.com/2015/08/05/cramer-igers-3...\n",
       "7583    [https://www.facebook.com/photo.php?fbid=88157...\n",
       "7584            [https://www.instagram.com/p/6BUl7yLAb3/]\n",
       "7585    [https://twitter.com/CalgaryPolice/status/6290...\n",
       "7586    [https://twitter.com/juanito_cigala/status/629...\n",
       "7588    [https://www.rt.com/6ojh/, https://twitter.com...\n",
       "7590    [https://www.facebook.com/PAGASA.DOST.GOV.PH/p...\n",
       "7595                 [http://m.memphisweather.net/#radar]\n",
       "7596    [https://forecast.weather.gov/wwamap/wwatxtget...\n",
       "7597    [https://www.abc.net.au/news/2015-08-06/mh370-...\n",
       "7598    [https://www.newslocker.com/en-uk/region/bath-...\n",
       "7599    [https://apps.apple.com/us/app/earthquake-inte...\n",
       "7600    [https://twitter.com/TriCityHerald/status/6290...\n",
       "7601    [http://www.latimes.com/local/lanow/la-me-ln-r...\n",
       "7604      [https://www.youtube.com/watch?v=yG08hLEWzyM&3]\n",
       "7607    [https://twitter.com/StormChasersHQ/status/626...\n",
       "7608    [https://gizmodo.com/two-giant-cranes-holding-...\n",
       "7610    [https://earthquake.usgs.gov/earthquakes/event...\n",
       "7612    [https://abcnews.go.com/US/wireStory/latest-co...\n",
       "Name: text, Length: 3526, dtype: object"
      ]
     },
     "execution_count": 7,
     "metadata": {},
     "output_type": "execute_result"
    }
   ],
   "source": [
    "links.loc[links.str.len() > 0]"
   ]
  }
 ],
 "metadata": {
  "kernelspec": {
   "display_name": "Python 3",
   "language": "python",
   "name": "python3"
  },
  "language_info": {
   "codemirror_mode": {
    "name": "ipython",
    "version": 3
   },
   "file_extension": ".py",
   "mimetype": "text/x-python",
   "name": "python",
   "nbconvert_exporter": "python",
   "pygments_lexer": "ipython3",
   "version": "3.7.6"
  }
 },
 "nbformat": 4,
 "nbformat_minor": 4
}
