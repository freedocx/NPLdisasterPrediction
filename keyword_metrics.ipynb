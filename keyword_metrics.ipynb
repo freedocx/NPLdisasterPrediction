{
 "cells": [
  {
   "cell_type": "code",
   "execution_count": 1,
   "metadata": {},
   "outputs": [],
   "source": [
    "import pandas as pd\n",
    "import numpy as np\n",
    "from sklearn.preprocessing import MinMaxScaler\n",
    "import math"
   ]
  },
  {
   "cell_type": "code",
   "execution_count": 2,
   "metadata": {},
   "outputs": [],
   "source": [
    "train = pd.read_csv('train.csv')\n",
    "train = train.loc[train['text'].drop_duplicates().index]"
   ]
  },
  {
   "cell_type": "code",
   "execution_count": 3,
   "metadata": {},
   "outputs": [],
   "source": [
    "tkeyword = train[train['target']==1][['id','keyword']].groupby('keyword').agg('count')\n",
    "tkeyword.columns = ['keyword_t_count']\n",
    "tkeyword.reset_index(inplace=True)"
   ]
  },
  {
   "cell_type": "code",
   "execution_count": 4,
   "metadata": {},
   "outputs": [],
   "source": [
    "fkeyword = train[train['target']==0][['id','keyword']].groupby('keyword').agg('count')\n",
    "fkeyword.columns = ['keyword_f_count']\n",
    "fkeyword.reset_index(inplace=True)"
   ]
  },
  {
   "cell_type": "code",
   "execution_count": 5,
   "metadata": {},
   "outputs": [],
   "source": [
    "keyword = tkeyword.merge(fkeyword)"
   ]
  },
  {
   "cell_type": "code",
   "execution_count": 6,
   "metadata": {},
   "outputs": [],
   "source": [
    "keyword['keyword_metric']= keyword['keyword_t_count'] - keyword['keyword_f_count']\n",
    "keyword['keyword_total']= keyword['keyword_t_count'] + keyword['keyword_f_count']\n",
    "keyword['keyword_metric'] = keyword['keyword_metric']/keyword['keyword_total']\n",
    "keyword = keyword.sort_values(by='keyword_total')\n",
    "keyword['keyword_total'] = keyword['keyword_total'].apply(lambda x: 1 if x<20 else math.log(x+10,20))\n",
    "scaler = MinMaxScaler()\n",
    "x = keyword['keyword_total'].values.reshape(-1, 1)\n",
    "keyword['keyword_total'] = scaler.fit_transform(x)\n",
    "keyword['keyword_metric'] = keyword['keyword_metric'] * keyword['keyword_total']"
   ]
  },
  {
   "cell_type": "code",
   "execution_count": 7,
   "metadata": {},
   "outputs": [],
   "source": [
    "keyword.drop('keyword_total',axis=1,inplace=True)"
   ]
  },
  {
   "cell_type": "code",
   "execution_count": 8,
   "metadata": {},
   "outputs": [
    {
     "data": {
      "text/plain": [
       "(0.8403855539409509, -0.8802189264555614)"
      ]
     },
     "execution_count": 8,
     "metadata": {},
     "output_type": "execute_result"
    }
   ],
   "source": [
    "keyword['keyword_metric'].max(),keyword['keyword_metric'].min()"
   ]
  },
  {
   "cell_type": "code",
   "execution_count": 9,
   "metadata": {},
   "outputs": [
    {
     "data": {
      "text/html": [
       "<div>\n",
       "<style scoped>\n",
       "    .dataframe tbody tr th:only-of-type {\n",
       "        vertical-align: middle;\n",
       "    }\n",
       "\n",
       "    .dataframe tbody tr th {\n",
       "        vertical-align: top;\n",
       "    }\n",
       "\n",
       "    .dataframe thead th {\n",
       "        text-align: right;\n",
       "    }\n",
       "</style>\n",
       "<table border=\"1\" class=\"dataframe\">\n",
       "  <thead>\n",
       "    <tr style=\"text-align: right;\">\n",
       "      <th></th>\n",
       "      <th>keyword</th>\n",
       "      <th>keyword_t_count</th>\n",
       "      <th>keyword_f_count</th>\n",
       "      <th>keyword_metric</th>\n",
       "    </tr>\n",
       "  </thead>\n",
       "  <tbody>\n",
       "    <tr>\n",
       "      <th>150</th>\n",
       "      <td>outbreak</td>\n",
       "      <td>38</td>\n",
       "      <td>1</td>\n",
       "      <td>0.840386</td>\n",
       "    </tr>\n",
       "    <tr>\n",
       "      <th>149</th>\n",
       "      <td>oil%20spill</td>\n",
       "      <td>37</td>\n",
       "      <td>1</td>\n",
       "      <td>0.819880</td>\n",
       "    </tr>\n",
       "    <tr>\n",
       "      <th>202</th>\n",
       "      <td>typhoon</td>\n",
       "      <td>35</td>\n",
       "      <td>1</td>\n",
       "      <td>0.777615</td>\n",
       "    </tr>\n",
       "    <tr>\n",
       "      <th>184</th>\n",
       "      <td>suicide%20bombing</td>\n",
       "      <td>31</td>\n",
       "      <td>1</td>\n",
       "      <td>0.687590</td>\n",
       "    </tr>\n",
       "    <tr>\n",
       "      <th>183</th>\n",
       "      <td>suicide%20bomber</td>\n",
       "      <td>30</td>\n",
       "      <td>1</td>\n",
       "      <td>0.663827</td>\n",
       "    </tr>\n",
       "    <tr>\n",
       "      <th>144</th>\n",
       "      <td>nuclear%20disaster</td>\n",
       "      <td>31</td>\n",
       "      <td>3</td>\n",
       "      <td>0.641872</td>\n",
       "    </tr>\n",
       "    <tr>\n",
       "      <th>93</th>\n",
       "      <td>evacuated</td>\n",
       "      <td>32</td>\n",
       "      <td>4</td>\n",
       "      <td>0.640389</td>\n",
       "    </tr>\n",
       "    <tr>\n",
       "      <th>159</th>\n",
       "      <td>razed</td>\n",
       "      <td>31</td>\n",
       "      <td>4</td>\n",
       "      <td>0.618401</td>\n",
       "    </tr>\n",
       "    <tr>\n",
       "      <th>163</th>\n",
       "      <td>rescuers</td>\n",
       "      <td>29</td>\n",
       "      <td>3</td>\n",
       "      <td>0.595911</td>\n",
       "    </tr>\n",
       "    <tr>\n",
       "      <th>211</th>\n",
       "      <td>wildfire</td>\n",
       "      <td>29</td>\n",
       "      <td>4</td>\n",
       "      <td>0.573250</td>\n",
       "    </tr>\n",
       "  </tbody>\n",
       "</table>\n",
       "</div>"
      ],
      "text/plain": [
       "                keyword  keyword_t_count  keyword_f_count  keyword_metric\n",
       "150            outbreak               38                1        0.840386\n",
       "149         oil%20spill               37                1        0.819880\n",
       "202             typhoon               35                1        0.777615\n",
       "184   suicide%20bombing               31                1        0.687590\n",
       "183    suicide%20bomber               30                1        0.663827\n",
       "144  nuclear%20disaster               31                3        0.641872\n",
       "93            evacuated               32                4        0.640389\n",
       "159               razed               31                4        0.618401\n",
       "163            rescuers               29                3        0.595911\n",
       "211            wildfire               29                4        0.573250"
      ]
     },
     "execution_count": 9,
     "metadata": {},
     "output_type": "execute_result"
    }
   ],
   "source": [
    "keyword.nlargest(10,columns='keyword_metric')"
   ]
  },
  {
   "cell_type": "code",
   "execution_count": 35,
   "metadata": {},
   "outputs": [
    {
     "data": {
      "text/html": [
       "<div>\n",
       "<style scoped>\n",
       "    .dataframe tbody tr th:only-of-type {\n",
       "        vertical-align: middle;\n",
       "    }\n",
       "\n",
       "    .dataframe tbody tr th {\n",
       "        vertical-align: top;\n",
       "    }\n",
       "\n",
       "    .dataframe thead th {\n",
       "        text-align: right;\n",
       "    }\n",
       "</style>\n",
       "<table border=\"1\" class=\"dataframe\">\n",
       "  <thead>\n",
       "    <tr style=\"text-align: right;\">\n",
       "      <th></th>\n",
       "      <th>keyword</th>\n",
       "      <th>keyword_t_count</th>\n",
       "      <th>keyword_f_count</th>\n",
       "      <th>keyword_metric</th>\n",
       "    </tr>\n",
       "  </thead>\n",
       "  <tbody>\n",
       "    <tr>\n",
       "      <th>28</th>\n",
       "      <td>body%20bags</td>\n",
       "      <td>1</td>\n",
       "      <td>40</td>\n",
       "      <td>-0.880219</td>\n",
       "    </tr>\n",
       "    <tr>\n",
       "      <th>167</th>\n",
       "      <td>ruin</td>\n",
       "      <td>1</td>\n",
       "      <td>36</td>\n",
       "      <td>-0.798962</td>\n",
       "    </tr>\n",
       "    <tr>\n",
       "      <th>216</th>\n",
       "      <td>wrecked</td>\n",
       "      <td>3</td>\n",
       "      <td>36</td>\n",
       "      <td>-0.749533</td>\n",
       "    </tr>\n",
       "    <tr>\n",
       "      <th>116</th>\n",
       "      <td>harm</td>\n",
       "      <td>4</td>\n",
       "      <td>37</td>\n",
       "      <td>-0.744801</td>\n",
       "    </tr>\n",
       "    <tr>\n",
       "      <th>18</th>\n",
       "      <td>blazing</td>\n",
       "      <td>1</td>\n",
       "      <td>33</td>\n",
       "      <td>-0.733567</td>\n",
       "    </tr>\n",
       "    <tr>\n",
       "      <th>170</th>\n",
       "      <td>screaming</td>\n",
       "      <td>2</td>\n",
       "      <td>34</td>\n",
       "      <td>-0.731873</td>\n",
       "    </tr>\n",
       "    <tr>\n",
       "      <th>95</th>\n",
       "      <td>explode</td>\n",
       "      <td>3</td>\n",
       "      <td>35</td>\n",
       "      <td>-0.728782</td>\n",
       "    </tr>\n",
       "    <tr>\n",
       "      <th>7</th>\n",
       "      <td>armageddon</td>\n",
       "      <td>5</td>\n",
       "      <td>37</td>\n",
       "      <td>-0.719660</td>\n",
       "    </tr>\n",
       "    <tr>\n",
       "      <th>26</th>\n",
       "      <td>body%20bag</td>\n",
       "      <td>1</td>\n",
       "      <td>32</td>\n",
       "      <td>-0.710830</td>\n",
       "    </tr>\n",
       "    <tr>\n",
       "      <th>198</th>\n",
       "      <td>traumatised</td>\n",
       "      <td>2</td>\n",
       "      <td>33</td>\n",
       "      <td>-0.710016</td>\n",
       "    </tr>\n",
       "  </tbody>\n",
       "</table>\n",
       "</div>"
      ],
      "text/plain": [
       "         keyword  keyword_t_count  keyword_f_count  keyword_metric\n",
       "28   body%20bags                1               40       -0.880219\n",
       "167         ruin                1               36       -0.798962\n",
       "216      wrecked                3               36       -0.749533\n",
       "116         harm                4               37       -0.744801\n",
       "18       blazing                1               33       -0.733567\n",
       "170    screaming                2               34       -0.731873\n",
       "95       explode                3               35       -0.728782\n",
       "7     armageddon                5               37       -0.719660\n",
       "26    body%20bag                1               32       -0.710830\n",
       "198  traumatised                2               33       -0.710016"
      ]
     },
     "execution_count": 35,
     "metadata": {},
     "output_type": "execute_result"
    }
   ],
   "source": [
    "keyword.nsmallest(10,columns='keyword_metric')"
   ]
  },
  {
   "cell_type": "code",
   "execution_count": 10,
   "metadata": {},
   "outputs": [],
   "source": [
    "keyword.to_csv('data_process/keyword.csv',index=False)"
   ]
  },
  {
   "cell_type": "code",
   "execution_count": null,
   "metadata": {},
   "outputs": [],
   "source": []
  }
 ],
 "metadata": {
  "kernelspec": {
   "display_name": "Python 3",
   "language": "python",
   "name": "python3"
  },
  "language_info": {
   "codemirror_mode": {
    "name": "ipython",
    "version": 3
   },
   "file_extension": ".py",
   "mimetype": "text/x-python",
   "name": "python",
   "nbconvert_exporter": "python",
   "pygments_lexer": "ipython3",
   "version": "3.7.6"
  }
 },
 "nbformat": 4,
 "nbformat_minor": 4
}
