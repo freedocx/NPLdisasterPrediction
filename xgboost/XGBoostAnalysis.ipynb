{
 "cells": [
  {
   "cell_type": "code",
   "execution_count": 1,
   "metadata": {},
   "outputs": [],
   "source": [
    "import xgboost as xgb\n",
    "from sklearn.ensemble import RandomForestRegressor\n",
    "from sklearn.metrics import mean_squared_error\n",
    "import pandas as pd\n",
    "import numpy as np\n",
    "%matplotlib inline\n",
    "import matplotlib.pyplot as plt\n",
    "import seaborn as sns; sns.set()\n",
    "from sklearn import tree\n",
    "from sklearn.model_selection import train_test_split\n",
    "from sklearn.metrics import accuracy_score\n",
    "import re"
   ]
  },
  {
   "cell_type": "markdown",
   "metadata": {},
   "source": [
    "# XGBoost"
   ]
  },
  {
   "cell_type": "markdown",
   "metadata": {},
   "source": [
    "* **learning_rate:** tasa de aprendizaje\n",
    "* **max_depth:** máxima profundidad de cada árbol\n",
    "* **subsample:** porcentaje de muestras usadas para cada árbol (valor muy bajo, posible underfitting)\n",
    "* **colsample_bytree:** porcentaje de features usadas para cada árbol (valores muy alto, posible overfitting)\n",
    "* **n_estimators:** cantidad de árboles a construir.\n",
    "* **objective:** función de error a utilizar (algunas: reg:squarederror para regresión, reg:logistic o binary:logistic para clasificación)\n",
    "\n",
    "Parámetros de regularización:\n",
    "\n",
    "* **gamma:** umbral para hacer split basado en la reducción de error de hacer el nuevo split.\n",
    "* **alpha:** regularización para los pesos de las hojas. Un valor más alto genera una mayor regularización.\n",
    "* **lambda:** similar alpha pero para la sintonia fina."
   ]
  },
  {
   "cell_type": "markdown",
   "metadata": {},
   "source": [
    "### Dataset del TP2\n",
    "* Hacemos una transformacion basica solo para probar el XGBoost"
   ]
  },
  {
   "cell_type": "code",
   "execution_count": 2,
   "metadata": {},
   "outputs": [],
   "source": [
    "train = pd.read_csv('../train.csv')\n",
    "\n",
    "train['keyword'] = train['keyword'].transform(lambda x: len(x) if (isinstance(x, str)) else 0)\n",
    "train['location'] = train['location'].transform(lambda x: len(x) if (isinstance(x, str)) else 0)\n",
    "train['text'] = train['text'].transform(lambda x: len(x) if (isinstance(x, str)) else 0)\n",
    "train = train[['keyword', 'location', 'text', 'target']]"
   ]
  },
  {
   "cell_type": "markdown",
   "metadata": {},
   "source": [
    "### Divimos el dataSet en Train y Test"
   ]
  },
  {
   "cell_type": "code",
   "execution_count": 3,
   "metadata": {},
   "outputs": [],
   "source": [
    "X, y = train.iloc[:,:-1],train.iloc[:,-1]\n",
    "X_train, X_test, y_train, y_test = \\\n",
    "    train_test_split(X, y, test_size=0.2, random_state=123)"
   ]
  },
  {
   "cell_type": "markdown",
   "metadata": {},
   "source": [
    "### Instanciamos XGBoost"
   ]
  },
  {
   "cell_type": "code",
   "execution_count": 4,
   "metadata": {},
   "outputs": [],
   "source": [
    "xg_reg = xgb.XGBClassifier(eval_metric='auc',n_jobs=4,silent=False)"
   ]
  },
  {
   "cell_type": "markdown",
   "metadata": {},
   "source": [
    "### Entrenamos"
   ]
  },
  {
   "cell_type": "code",
   "execution_count": 5,
   "metadata": {},
   "outputs": [
    {
     "name": "stdout",
     "output_type": "stream",
     "text": [
      "[19:11:51] WARNING: C:\\Users\\Administrator\\workspace\\xgboost-win64_release_1.1.0\\src\\learner.cc:480: \n",
      "Parameters: { silent } might not be used.\n",
      "\n",
      "  This may not be accurate due to some parameters are only used in language bindings but\n",
      "  passed down to XGBoost core.  Or some parameters are not used but slip through this\n",
      "  verification. Please open an issue if you find above cases.\n",
      "\n",
      "\n"
     ]
    },
    {
     "data": {
      "text/plain": [
       "XGBClassifier(base_score=0.5, booster='gbtree', colsample_bylevel=1,\n",
       "              colsample_bynode=1, colsample_bytree=1, eval_metric='auc',\n",
       "              gamma=0, gpu_id=-1, importance_type='gain',\n",
       "              interaction_constraints='', learning_rate=0.300000012,\n",
       "              max_delta_step=0, max_depth=6, min_child_weight=1, missing=nan,\n",
       "              monotone_constraints='()', n_estimators=100, n_jobs=4,\n",
       "              num_parallel_tree=1, random_state=0, reg_alpha=0, reg_lambda=1,\n",
       "              scale_pos_weight=1, silent=False, subsample=1,\n",
       "              tree_method='exact', validate_parameters=1, verbosity=None)"
      ]
     },
     "execution_count": 5,
     "metadata": {},
     "output_type": "execute_result"
    }
   ],
   "source": [
    "xg_reg.fit(X_train,y_train)"
   ]
  },
  {
   "cell_type": "markdown",
   "metadata": {},
   "source": [
    "### Predecimos"
   ]
  },
  {
   "cell_type": "code",
   "execution_count": 6,
   "metadata": {},
   "outputs": [],
   "source": [
    "preds = xg_reg.predict(X_test)"
   ]
  },
  {
   "cell_type": "markdown",
   "metadata": {},
   "source": [
    "### Calculamos el Error con 'accuracy' como medicion"
   ]
  },
  {
   "cell_type": "code",
   "execution_count": 7,
   "metadata": {},
   "outputs": [
    {
     "name": "stdout",
     "output_type": "stream",
     "text": [
      "Accuracy: 62.84%\n"
     ]
    }
   ],
   "source": [
    "preds = [round(value) for value in preds]\n",
    "# evaluate predictions\n",
    "accuracy = accuracy_score(y_test, preds)\n",
    "print(\"Accuracy: %.2f%%\" % (accuracy * 100.0))"
   ]
  },
  {
   "cell_type": "code",
   "execution_count": 8,
   "metadata": {},
   "outputs": [],
   "source": [
    "dfAcc = pd.DataFrame({'transformation': [], 'accuracy': []})\n",
    "dfAcc.loc[dfAcc.shape[0]] = ['Trans0', accuracy]"
   ]
  },
  {
   "cell_type": "markdown",
   "metadata": {},
   "source": [
    "### XGBoost Transformacion1 - Agregando feature 'text_contains_keyword'"
   ]
  },
  {
   "cell_type": "code",
   "execution_count": 9,
   "metadata": {},
   "outputs": [
    {
     "data": {
      "text/html": [
       "<div>\n",
       "<style scoped>\n",
       "    .dataframe tbody tr th:only-of-type {\n",
       "        vertical-align: middle;\n",
       "    }\n",
       "\n",
       "    .dataframe tbody tr th {\n",
       "        vertical-align: top;\n",
       "    }\n",
       "\n",
       "    .dataframe thead th {\n",
       "        text-align: right;\n",
       "    }\n",
       "</style>\n",
       "<table border=\"1\" class=\"dataframe\">\n",
       "  <thead>\n",
       "    <tr style=\"text-align: right;\">\n",
       "      <th></th>\n",
       "      <th>keyword</th>\n",
       "      <th>text_contains_keyword</th>\n",
       "      <th>text</th>\n",
       "      <th>target</th>\n",
       "    </tr>\n",
       "  </thead>\n",
       "  <tbody>\n",
       "    <tr>\n",
       "      <td>0</td>\n",
       "      <td>0</td>\n",
       "      <td>0</td>\n",
       "      <td>69</td>\n",
       "      <td>1</td>\n",
       "    </tr>\n",
       "    <tr>\n",
       "      <td>1</td>\n",
       "      <td>0</td>\n",
       "      <td>0</td>\n",
       "      <td>38</td>\n",
       "      <td>1</td>\n",
       "    </tr>\n",
       "    <tr>\n",
       "      <td>2</td>\n",
       "      <td>0</td>\n",
       "      <td>0</td>\n",
       "      <td>133</td>\n",
       "      <td>1</td>\n",
       "    </tr>\n",
       "    <tr>\n",
       "      <td>3</td>\n",
       "      <td>0</td>\n",
       "      <td>0</td>\n",
       "      <td>65</td>\n",
       "      <td>1</td>\n",
       "    </tr>\n",
       "    <tr>\n",
       "      <td>4</td>\n",
       "      <td>0</td>\n",
       "      <td>0</td>\n",
       "      <td>88</td>\n",
       "      <td>1</td>\n",
       "    </tr>\n",
       "    <tr>\n",
       "      <td>...</td>\n",
       "      <td>...</td>\n",
       "      <td>...</td>\n",
       "      <td>...</td>\n",
       "      <td>...</td>\n",
       "    </tr>\n",
       "    <tr>\n",
       "      <td>7608</td>\n",
       "      <td>0</td>\n",
       "      <td>0</td>\n",
       "      <td>83</td>\n",
       "      <td>1</td>\n",
       "    </tr>\n",
       "    <tr>\n",
       "      <td>7609</td>\n",
       "      <td>0</td>\n",
       "      <td>0</td>\n",
       "      <td>125</td>\n",
       "      <td>1</td>\n",
       "    </tr>\n",
       "    <tr>\n",
       "      <td>7610</td>\n",
       "      <td>0</td>\n",
       "      <td>0</td>\n",
       "      <td>65</td>\n",
       "      <td>1</td>\n",
       "    </tr>\n",
       "    <tr>\n",
       "      <td>7611</td>\n",
       "      <td>0</td>\n",
       "      <td>0</td>\n",
       "      <td>137</td>\n",
       "      <td>1</td>\n",
       "    </tr>\n",
       "    <tr>\n",
       "      <td>7612</td>\n",
       "      <td>0</td>\n",
       "      <td>0</td>\n",
       "      <td>94</td>\n",
       "      <td>1</td>\n",
       "    </tr>\n",
       "  </tbody>\n",
       "</table>\n",
       "<p>7613 rows × 4 columns</p>\n",
       "</div>"
      ],
      "text/plain": [
       "      keyword  text_contains_keyword  text  target\n",
       "0           0                      0    69       1\n",
       "1           0                      0    38       1\n",
       "2           0                      0   133       1\n",
       "3           0                      0    65       1\n",
       "4           0                      0    88       1\n",
       "...       ...                    ...   ...     ...\n",
       "7608        0                      0    83       1\n",
       "7609        0                      0   125       1\n",
       "7610        0                      0    65       1\n",
       "7611        0                      0   137       1\n",
       "7612        0                      0    94       1\n",
       "\n",
       "[7613 rows x 4 columns]"
      ]
     },
     "execution_count": 9,
     "metadata": {},
     "output_type": "execute_result"
    }
   ],
   "source": [
    "train = pd.read_csv('../train.csv')\n",
    "\n",
    "#cantidad rows 7613\n",
    "def is_in_text(keyword, text):\n",
    "    is_in = 1\n",
    "    arrKeyword = keyword.split(\"_\")\n",
    "    for key in arrKeyword:\n",
    "        if not(key.upper() in text.upper() and key != ''):\n",
    "            is_in = 0\n",
    "            break\n",
    "    \n",
    "    return is_in\n",
    "\n",
    "\n",
    "train['keyword'] = train['keyword'].apply(lambda x: x.replace('%20', '_') if (isinstance(x, str)) else '')\n",
    "train['text_contains_keyword'] = train.apply(lambda x: is_in_text(x.keyword, x.text), axis=1)\n",
    "train['keyword'] = train['keyword'].transform(lambda x: len(x) if (isinstance(x, str)) else 0)\n",
    "train['text'] = train['text'].transform(lambda x: len(x) if (isinstance(x, str)) else 0)\n",
    "\n",
    "train = train[['keyword', 'text_contains_keyword', 'text', 'target']]\n",
    "train"
   ]
  },
  {
   "cell_type": "code",
   "execution_count": 10,
   "metadata": {},
   "outputs": [
    {
     "name": "stdout",
     "output_type": "stream",
     "text": [
      "[19:11:52] WARNING: C:\\Users\\Administrator\\workspace\\xgboost-win64_release_1.1.0\\src\\learner.cc:480: \n",
      "Parameters: { silent } might not be used.\n",
      "\n",
      "  This may not be accurate due to some parameters are only used in language bindings but\n",
      "  passed down to XGBoost core.  Or some parameters are not used but slip through this\n",
      "  verification. Please open an issue if you find above cases.\n",
      "\n",
      "\n",
      "Accuracy: 63.10%\n"
     ]
    }
   ],
   "source": [
    "X, y = train.iloc[:,:-1],train.iloc[:,-1]\n",
    "X_train, X_test, y_train, y_test = \\\n",
    "    train_test_split(X, y, test_size=0.2, random_state=123)\n",
    "\n",
    "xg_reg = xgb.XGBClassifier(objective='binary:logistic', eval_metric='auc',n_jobs=4, silent=False)\n",
    "xg_reg.fit(X_train,y_train)\n",
    "preds = xg_reg.predict(X_test)\n",
    "preds = [round(value) for value in preds]\n",
    "# evaluate predictions\n",
    "accuracy = accuracy_score(y_test, preds)\n",
    "print(\"Accuracy: %.2f%%\" % (accuracy * 100.0))"
   ]
  },
  {
   "cell_type": "code",
   "execution_count": 11,
   "metadata": {},
   "outputs": [
    {
     "data": {
      "text/plain": [
       "Text(0.5, 1.0, 'Evolution Accuracy')"
      ]
     },
     "execution_count": 11,
     "metadata": {},
     "output_type": "execute_result"
    },
    {
     "data": {
      "image/png": "[encoded data removed]",
      "text/plain": [
       "<Figure size 864x432 with 1 Axes>"
      ]
     },
     "metadata": {
      "needs_background": "light"
     },
     "output_type": "display_data"
    }
   ],
   "source": [
    "dfAcc.loc[dfAcc.shape[0]] = ['Trans1', accuracy]\n",
    "plt.figure(figsize=(12, 6))\n",
    "g = sns.lineplot(x=\"transformation\", y=\"accuracy\", data=dfAcc)\n",
    "g.set_title(\"Evolution Accuracy\", fontsize=20)"
   ]
  },
  {
   "cell_type": "code",
   "execution_count": 12,
   "metadata": {},
   "outputs": [
    {
     "data": {
      "text/plain": [
       "<matplotlib.axes._subplots.AxesSubplot at 0x1ded5c17388>"
      ]
     },
     "execution_count": 12,
     "metadata": {},
     "output_type": "execute_result"
    },
    {
     "data": {
      "image/png": "[encoded data removed]",
      "text/plain": [
       "<Figure size 720x216 with 1 Axes>"
      ]
     },
     "metadata": {
      "needs_background": "light"
     },
     "output_type": "display_data"
    }
   ],
   "source": [
    "fig, ax = plt.subplots(figsize=(10,3))\n",
    "xgb.plot_importance(xg_reg, max_num_features=50, height=0.8, ax=ax)"
   ]
  },
  {
   "cell_type": "markdown",
   "metadata": {},
   "source": [
    "### XGBoost Transformacion2 - Agregando feature 'mean_keyword'\n",
    "* Cantidad de veces que se repite la keyword / la cantidad total de tweets"
   ]
  },
  {
   "cell_type": "code",
   "execution_count": 13,
   "metadata": {},
   "outputs": [
    {
     "data": {
      "text/html": [
       "<div>\n",
       "<style scoped>\n",
       "    .dataframe tbody tr th:only-of-type {\n",
       "        vertical-align: middle;\n",
       "    }\n",
       "\n",
       "    .dataframe tbody tr th {\n",
       "        vertical-align: top;\n",
       "    }\n",
       "\n",
       "    .dataframe thead th {\n",
       "        text-align: right;\n",
       "    }\n",
       "</style>\n",
       "<table border=\"1\" class=\"dataframe\">\n",
       "  <thead>\n",
       "    <tr style=\"text-align: right;\">\n",
       "      <th></th>\n",
       "      <th>keyword</th>\n",
       "      <th>text_contains_keyword</th>\n",
       "      <th>mean_keyword</th>\n",
       "      <th>text</th>\n",
       "      <th>target</th>\n",
       "    </tr>\n",
       "  </thead>\n",
       "  <tbody>\n",
       "    <tr>\n",
       "      <td>0</td>\n",
       "      <td>0</td>\n",
       "      <td>0</td>\n",
       "      <td>0.008013</td>\n",
       "      <td>69</td>\n",
       "      <td>1</td>\n",
       "    </tr>\n",
       "    <tr>\n",
       "      <td>1</td>\n",
       "      <td>0</td>\n",
       "      <td>0</td>\n",
       "      <td>0.008013</td>\n",
       "      <td>38</td>\n",
       "      <td>1</td>\n",
       "    </tr>\n",
       "    <tr>\n",
       "      <td>2</td>\n",
       "      <td>0</td>\n",
       "      <td>0</td>\n",
       "      <td>0.008013</td>\n",
       "      <td>133</td>\n",
       "      <td>1</td>\n",
       "    </tr>\n",
       "    <tr>\n",
       "      <td>3</td>\n",
       "      <td>0</td>\n",
       "      <td>0</td>\n",
       "      <td>0.008013</td>\n",
       "      <td>65</td>\n",
       "      <td>1</td>\n",
       "    </tr>\n",
       "    <tr>\n",
       "      <td>4</td>\n",
       "      <td>0</td>\n",
       "      <td>0</td>\n",
       "      <td>0.008013</td>\n",
       "      <td>88</td>\n",
       "      <td>1</td>\n",
       "    </tr>\n",
       "    <tr>\n",
       "      <td>...</td>\n",
       "      <td>...</td>\n",
       "      <td>...</td>\n",
       "      <td>...</td>\n",
       "      <td>...</td>\n",
       "      <td>...</td>\n",
       "    </tr>\n",
       "    <tr>\n",
       "      <td>7608</td>\n",
       "      <td>0</td>\n",
       "      <td>0</td>\n",
       "      <td>0.008013</td>\n",
       "      <td>83</td>\n",
       "      <td>1</td>\n",
       "    </tr>\n",
       "    <tr>\n",
       "      <td>7609</td>\n",
       "      <td>0</td>\n",
       "      <td>0</td>\n",
       "      <td>0.008013</td>\n",
       "      <td>125</td>\n",
       "      <td>1</td>\n",
       "    </tr>\n",
       "    <tr>\n",
       "      <td>7610</td>\n",
       "      <td>0</td>\n",
       "      <td>0</td>\n",
       "      <td>0.008013</td>\n",
       "      <td>65</td>\n",
       "      <td>1</td>\n",
       "    </tr>\n",
       "    <tr>\n",
       "      <td>7611</td>\n",
       "      <td>0</td>\n",
       "      <td>0</td>\n",
       "      <td>0.008013</td>\n",
       "      <td>137</td>\n",
       "      <td>1</td>\n",
       "    </tr>\n",
       "    <tr>\n",
       "      <td>7612</td>\n",
       "      <td>0</td>\n",
       "      <td>0</td>\n",
       "      <td>0.008013</td>\n",
       "      <td>94</td>\n",
       "      <td>1</td>\n",
       "    </tr>\n",
       "  </tbody>\n",
       "</table>\n",
       "<p>7613 rows × 5 columns</p>\n",
       "</div>"
      ],
      "text/plain": [
       "      keyword  text_contains_keyword  mean_keyword  text  target\n",
       "0           0                      0      0.008013    69       1\n",
       "1           0                      0      0.008013    38       1\n",
       "2           0                      0      0.008013   133       1\n",
       "3           0                      0      0.008013    65       1\n",
       "4           0                      0      0.008013    88       1\n",
       "...       ...                    ...           ...   ...     ...\n",
       "7608        0                      0      0.008013    83       1\n",
       "7609        0                      0      0.008013   125       1\n",
       "7610        0                      0      0.008013    65       1\n",
       "7611        0                      0      0.008013   137       1\n",
       "7612        0                      0      0.008013    94       1\n",
       "\n",
       "[7613 rows x 5 columns]"
      ]
     },
     "execution_count": 13,
     "metadata": {},
     "output_type": "execute_result"
    }
   ],
   "source": [
    "train = pd.read_csv('../train.csv')\n",
    "\n",
    "#cantidad rows 7613\n",
    "def is_in_text(keyword, text):\n",
    "    is_in = 1\n",
    "    arrKeyword = keyword.split(\"_\")\n",
    "    for key in arrKeyword:\n",
    "        if not(key.upper() in text.upper() and key != ''):\n",
    "            is_in = 0\n",
    "            break\n",
    "    \n",
    "    return is_in\n",
    "\n",
    "\n",
    "train['keyword'] = train['keyword'].apply(lambda x: x.replace('%20', '_') if (isinstance(x, str)) else '')\n",
    "\n",
    "keywords = train['keyword'].value_counts().to_frame().reset_index()\n",
    "keywords.columns =['keyword', 'mean_keyword']\n",
    "train = pd.merge(train, keywords, how='left', on='keyword')\n",
    "\n",
    "train['mean_keyword'] = train['mean_keyword'].apply(lambda x: x/len(train))\n",
    "train['text_contains_keyword'] = train.apply(lambda x: is_in_text(x.keyword, x.text), axis=1)\n",
    "train['keyword'] = train['keyword'].transform(lambda x: len(x) if (isinstance(x, str)) else 0)\n",
    "train['text'] = train['text'].transform(lambda x: len(x) if (isinstance(x, str)) else 0)\n",
    "\n",
    "train = train[['keyword', 'text_contains_keyword', 'mean_keyword', 'text', 'target']]\n",
    "train"
   ]
  },
  {
   "cell_type": "code",
   "execution_count": 14,
   "metadata": {},
   "outputs": [
    {
     "name": "stdout",
     "output_type": "stream",
     "text": [
      "[19:11:55] WARNING: C:\\Users\\Administrator\\workspace\\xgboost-win64_release_1.1.0\\src\\learner.cc:480: \n",
      "Parameters: { silent } might not be used.\n",
      "\n",
      "  This may not be accurate due to some parameters are only used in language bindings but\n",
      "  passed down to XGBoost core.  Or some parameters are not used but slip through this\n",
      "  verification. Please open an issue if you find above cases.\n",
      "\n",
      "\n",
      "Accuracy: 66.12%\n"
     ]
    }
   ],
   "source": [
    "X, y = train.iloc[:,:-1],train.iloc[:,-1]\n",
    "X_train, X_test, y_train, y_test = \\\n",
    "    train_test_split(X, y, test_size=0.2, random_state=123)\n",
    "\n",
    "xg_reg = xgb.XGBClassifier(objective='binary:logistic', eval_metric='auc',n_jobs=4, silent=False)\n",
    "xg_reg.fit(X_train,y_train)\n",
    "preds = xg_reg.predict(X_test)\n",
    "preds = [round(value) for value in preds]\n",
    "# evaluate predictions\n",
    "accuracy = accuracy_score(y_test, preds)\n",
    "print(\"Accuracy: %.2f%%\" % (accuracy * 100.0))"
   ]
  },
  {
   "cell_type": "code",
   "execution_count": 15,
   "metadata": {},
   "outputs": [
    {
     "data": {
      "text/plain": [
       "Text(0.5, 1.0, 'Evolution Accuracy')"
      ]
     },
     "execution_count": 15,
     "metadata": {},
     "output_type": "execute_result"
    },
    {
     "data": {
      "image/png": "[encoded data removed]",
      "text/plain": [
       "<Figure size 864x432 with 1 Axes>"
      ]
     },
     "metadata": {
      "needs_background": "light"
     },
     "output_type": "display_data"
    }
   ],
   "source": [
    "dfAcc.loc[dfAcc.shape[0]] = ['Trans2', accuracy]\n",
    "plt.figure(figsize=(12, 6))\n",
    "g = sns.lineplot(x=\"transformation\", y=\"accuracy\", data=dfAcc)\n",
    "g.set_title(\"Evolution Accuracy\", fontsize=20)"
   ]
  },
  {
   "cell_type": "code",
   "execution_count": 16,
   "metadata": {},
   "outputs": [
    {
     "data": {
      "text/plain": [
       "<matplotlib.axes._subplots.AxesSubplot at 0x1ded5c59788>"
      ]
     },
     "execution_count": 16,
     "metadata": {},
     "output_type": "execute_result"
    },
    {
     "data": {
      "image/png": "[encoded data removed]",
      "text/plain": [
       "<Figure size 720x288 with 1 Axes>"
      ]
     },
     "metadata": {
      "needs_background": "light"
     },
     "output_type": "display_data"
    }
   ],
   "source": [
    "fig, ax = plt.subplots(figsize=(10,4))\n",
    "xgb.plot_importance(xg_reg, max_num_features=50, height=0.8, ax=ax)"
   ]
  },
  {
   "cell_type": "markdown",
   "metadata": {},
   "source": [
    "### XGBoost Transformacion3 - Agregando feature 'mean_text_contains_keyword'\n",
    "* Cantidad de veces que si aparece la keyword en el texto/ la cantidad total que aparece la keyword"
   ]
  },
  {
   "cell_type": "code",
   "execution_count": 17,
   "metadata": {},
   "outputs": [
    {
     "data": {
      "text/html": [
       "<div>\n",
       "<style scoped>\n",
       "    .dataframe tbody tr th:only-of-type {\n",
       "        vertical-align: middle;\n",
       "    }\n",
       "\n",
       "    .dataframe tbody tr th {\n",
       "        vertical-align: top;\n",
       "    }\n",
       "\n",
       "    .dataframe thead th {\n",
       "        text-align: right;\n",
       "    }\n",
       "</style>\n",
       "<table border=\"1\" class=\"dataframe\">\n",
       "  <thead>\n",
       "    <tr style=\"text-align: right;\">\n",
       "      <th></th>\n",
       "      <th>keyword</th>\n",
       "      <th>text_contains_keyword</th>\n",
       "      <th>mean_keyword</th>\n",
       "      <th>mean_text_contains_keyword</th>\n",
       "      <th>text</th>\n",
       "      <th>target</th>\n",
       "    </tr>\n",
       "  </thead>\n",
       "  <tbody>\n",
       "    <tr>\n",
       "      <td>0</td>\n",
       "      <td>0</td>\n",
       "      <td>0</td>\n",
       "      <td>0.008013</td>\n",
       "      <td>0.0</td>\n",
       "      <td>69</td>\n",
       "      <td>1</td>\n",
       "    </tr>\n",
       "    <tr>\n",
       "      <td>1</td>\n",
       "      <td>0</td>\n",
       "      <td>0</td>\n",
       "      <td>0.008013</td>\n",
       "      <td>0.0</td>\n",
       "      <td>38</td>\n",
       "      <td>1</td>\n",
       "    </tr>\n",
       "    <tr>\n",
       "      <td>2</td>\n",
       "      <td>0</td>\n",
       "      <td>0</td>\n",
       "      <td>0.008013</td>\n",
       "      <td>0.0</td>\n",
       "      <td>133</td>\n",
       "      <td>1</td>\n",
       "    </tr>\n",
       "    <tr>\n",
       "      <td>3</td>\n",
       "      <td>0</td>\n",
       "      <td>0</td>\n",
       "      <td>0.008013</td>\n",
       "      <td>0.0</td>\n",
       "      <td>65</td>\n",
       "      <td>1</td>\n",
       "    </tr>\n",
       "    <tr>\n",
       "      <td>4</td>\n",
       "      <td>0</td>\n",
       "      <td>0</td>\n",
       "      <td>0.008013</td>\n",
       "      <td>0.0</td>\n",
       "      <td>88</td>\n",
       "      <td>1</td>\n",
       "    </tr>\n",
       "    <tr>\n",
       "      <td>...</td>\n",
       "      <td>...</td>\n",
       "      <td>...</td>\n",
       "      <td>...</td>\n",
       "      <td>...</td>\n",
       "      <td>...</td>\n",
       "      <td>...</td>\n",
       "    </tr>\n",
       "    <tr>\n",
       "      <td>7608</td>\n",
       "      <td>0</td>\n",
       "      <td>0</td>\n",
       "      <td>0.008013</td>\n",
       "      <td>0.0</td>\n",
       "      <td>83</td>\n",
       "      <td>1</td>\n",
       "    </tr>\n",
       "    <tr>\n",
       "      <td>7609</td>\n",
       "      <td>0</td>\n",
       "      <td>0</td>\n",
       "      <td>0.008013</td>\n",
       "      <td>0.0</td>\n",
       "      <td>125</td>\n",
       "      <td>1</td>\n",
       "    </tr>\n",
       "    <tr>\n",
       "      <td>7610</td>\n",
       "      <td>0</td>\n",
       "      <td>0</td>\n",
       "      <td>0.008013</td>\n",
       "      <td>0.0</td>\n",
       "      <td>65</td>\n",
       "      <td>1</td>\n",
       "    </tr>\n",
       "    <tr>\n",
       "      <td>7611</td>\n",
       "      <td>0</td>\n",
       "      <td>0</td>\n",
       "      <td>0.008013</td>\n",
       "      <td>0.0</td>\n",
       "      <td>137</td>\n",
       "      <td>1</td>\n",
       "    </tr>\n",
       "    <tr>\n",
       "      <td>7612</td>\n",
       "      <td>0</td>\n",
       "      <td>0</td>\n",
       "      <td>0.008013</td>\n",
       "      <td>0.0</td>\n",
       "      <td>94</td>\n",
       "      <td>1</td>\n",
       "    </tr>\n",
       "  </tbody>\n",
       "</table>\n",
       "<p>7613 rows × 6 columns</p>\n",
       "</div>"
      ],
      "text/plain": [
       "      keyword  text_contains_keyword  mean_keyword  \\\n",
       "0           0                      0      0.008013   \n",
       "1           0                      0      0.008013   \n",
       "2           0                      0      0.008013   \n",
       "3           0                      0      0.008013   \n",
       "4           0                      0      0.008013   \n",
       "...       ...                    ...           ...   \n",
       "7608        0                      0      0.008013   \n",
       "7609        0                      0      0.008013   \n",
       "7610        0                      0      0.008013   \n",
       "7611        0                      0      0.008013   \n",
       "7612        0                      0      0.008013   \n",
       "\n",
       "      mean_text_contains_keyword  text  target  \n",
       "0                            0.0    69       1  \n",
       "1                            0.0    38       1  \n",
       "2                            0.0   133       1  \n",
       "3                            0.0    65       1  \n",
       "4                            0.0    88       1  \n",
       "...                          ...   ...     ...  \n",
       "7608                         0.0    83       1  \n",
       "7609                         0.0   125       1  \n",
       "7610                         0.0    65       1  \n",
       "7611                         0.0   137       1  \n",
       "7612                         0.0    94       1  \n",
       "\n",
       "[7613 rows x 6 columns]"
      ]
     },
     "execution_count": 17,
     "metadata": {},
     "output_type": "execute_result"
    }
   ],
   "source": [
    "train = pd.read_csv('../train.csv')\n",
    "\n",
    "#cantidad rows 7613\n",
    "def is_in_text(keyword, text):\n",
    "    is_in = 1\n",
    "    arrKeyword = keyword.split(\"_\")\n",
    "    for key in arrKeyword:\n",
    "        if not(key.upper() in text.upper() and key != ''):\n",
    "            is_in = 0\n",
    "            break\n",
    "    \n",
    "    return is_in\n",
    "\n",
    "\n",
    "train['keyword'] = train['keyword'].apply(lambda x: x.replace('%20', '_') if (isinstance(x, str)) else '')\n",
    "\n",
    "keywords = train['keyword'].value_counts().to_frame().reset_index()\n",
    "keywords.columns =['keyword', 'mean_keyword']\n",
    "train = pd.merge(train, keywords, how='left', on='keyword')\n",
    "\n",
    "train['mean_keyword'] = train['mean_keyword'].apply(lambda x: x/len(train))\n",
    "train['text_contains_keyword'] = train.apply(lambda x: is_in_text(x.keyword, x.text), axis=1)\n",
    "\n",
    "groupbyKeyword = train.groupby(['keyword'])['text_contains_keyword']\n",
    "text_contains_keyword_sum = groupbyKeyword.sum().reset_index(name='value')\n",
    "text_contains_keyword_count = groupbyKeyword.count().reset_index(name='value')\n",
    "mean_text_contains_keyword = pd.DataFrame({'keyword': text_contains_keyword_sum['keyword'], 'mean_text_contains_keyword': text_contains_keyword_sum['value']/text_contains_keyword_count['value']})\n",
    "train = pd.merge(train, mean_text_contains_keyword, how='left', on='keyword')\n",
    "\n",
    "train['keyword'] = train['keyword'].transform(lambda x: len(x) if (isinstance(x, str)) else 0)\n",
    "train['text'] = train['text'].transform(lambda x: len(x) if (isinstance(x, str)) else 0)\n",
    "\n",
    "train = train[['keyword', 'text_contains_keyword', 'mean_keyword', 'mean_text_contains_keyword', 'text', 'target']]\n",
    "train"
   ]
  },
  {
   "cell_type": "code",
   "execution_count": 18,
   "metadata": {},
   "outputs": [
    {
     "name": "stdout",
     "output_type": "stream",
     "text": [
      "[19:11:59] WARNING: C:\\Users\\Administrator\\workspace\\xgboost-win64_release_1.1.0\\src\\learner.cc:480: \n",
      "Parameters: { silent } might not be used.\n",
      "\n",
      "  This may not be accurate due to some parameters are only used in language bindings but\n",
      "  passed down to XGBoost core.  Or some parameters are not used but slip through this\n",
      "  verification. Please open an issue if you find above cases.\n",
      "\n",
      "\n",
      "Accuracy: 71.04%\n"
     ]
    }
   ],
   "source": [
    "X, y = train.iloc[:,:-1],train.iloc[:,-1]\n",
    "X_train, X_test, y_train, y_test = \\\n",
    "    train_test_split(X, y, test_size=0.2, random_state=123)\n",
    "\n",
    "xg_reg = xgb.XGBClassifier(objective='binary:logistic', eval_metric='auc',n_jobs=4, silent=False)\n",
    "xg_reg.fit(X_train,y_train)\n",
    "preds = xg_reg.predict(X_test)\n",
    "preds = [round(value) for value in preds]\n",
    "# evaluate predictions\n",
    "accuracy = accuracy_score(y_test, preds)\n",
    "print(\"Accuracy: %.2f%%\" % (accuracy * 100.0))"
   ]
  },
  {
   "cell_type": "code",
   "execution_count": 19,
   "metadata": {},
   "outputs": [
    {
     "data": {
      "text/plain": [
       "Text(0.5, 1.0, 'Evolution Accuracy')"
      ]
     },
     "execution_count": 19,
     "metadata": {},
     "output_type": "execute_result"
    },
    {
     "data": {
      "image/png": "[encoded data removed]",
      "text/plain": [
       "<Figure size 864x432 with 1 Axes>"
      ]
     },
     "metadata": {
      "needs_background": "light"
     },
     "output_type": "display_data"
    }
   ],
   "source": [
    "dfAcc.loc[dfAcc.shape[0]] = ['Trans3', accuracy]\n",
    "plt.figure(figsize=(12, 6))\n",
    "g = sns.lineplot(x=\"transformation\", y=\"accuracy\", data=dfAcc)\n",
    "g.set_title(\"Evolution Accuracy\", fontsize=20)"
   ]
  },
  {
   "cell_type": "code",
   "execution_count": 20,
   "metadata": {},
   "outputs": [
    {
     "data": {
      "text/plain": [
       "<matplotlib.axes._subplots.AxesSubplot at 0x1dede224688>"
      ]
     },
     "execution_count": 20,
     "metadata": {},
     "output_type": "execute_result"
    },
    {
     "data": {
      "image/png": "[encoded data removed]",
      "text/plain": [
       "<Figure size 720x360 with 1 Axes>"
      ]
     },
     "metadata": {
      "needs_background": "light"
     },
     "output_type": "display_data"
    }
   ],
   "source": [
    "fig, ax = plt.subplots(figsize=(10,5))\n",
    "xgb.plot_importance(xg_reg, max_num_features=50, height=0.8, ax=ax)"
   ]
  },
  {
   "cell_type": "markdown",
   "metadata": {},
   "source": [
    "### XGBoost Transformacion4 - Agregando feature 'word_count'\n",
    "* Cantidad de palabras que aparecen en el tweet"
   ]
  },
  {
   "cell_type": "code",
   "execution_count": 21,
   "metadata": {},
   "outputs": [
    {
     "data": {
      "text/html": [
       "<div>\n",
       "<style scoped>\n",
       "    .dataframe tbody tr th:only-of-type {\n",
       "        vertical-align: middle;\n",
       "    }\n",
       "\n",
       "    .dataframe tbody tr th {\n",
       "        vertical-align: top;\n",
       "    }\n",
       "\n",
       "    .dataframe thead th {\n",
       "        text-align: right;\n",
       "    }\n",
       "</style>\n",
       "<table border=\"1\" class=\"dataframe\">\n",
       "  <thead>\n",
       "    <tr style=\"text-align: right;\">\n",
       "      <th></th>\n",
       "      <th>keyword</th>\n",
       "      <th>text_contains_keyword</th>\n",
       "      <th>mean_keyword</th>\n",
       "      <th>mean_text_contains_keyword</th>\n",
       "      <th>text</th>\n",
       "      <th>word_count</th>\n",
       "      <th>target</th>\n",
       "    </tr>\n",
       "  </thead>\n",
       "  <tbody>\n",
       "    <tr>\n",
       "      <td>0</td>\n",
       "      <td>0</td>\n",
       "      <td>0</td>\n",
       "      <td>0.008013</td>\n",
       "      <td>0.0</td>\n",
       "      <td>69</td>\n",
       "      <td>13</td>\n",
       "      <td>1</td>\n",
       "    </tr>\n",
       "    <tr>\n",
       "      <td>1</td>\n",
       "      <td>0</td>\n",
       "      <td>0</td>\n",
       "      <td>0.008013</td>\n",
       "      <td>0.0</td>\n",
       "      <td>38</td>\n",
       "      <td>7</td>\n",
       "      <td>1</td>\n",
       "    </tr>\n",
       "    <tr>\n",
       "      <td>2</td>\n",
       "      <td>0</td>\n",
       "      <td>0</td>\n",
       "      <td>0.008013</td>\n",
       "      <td>0.0</td>\n",
       "      <td>133</td>\n",
       "      <td>22</td>\n",
       "      <td>1</td>\n",
       "    </tr>\n",
       "    <tr>\n",
       "      <td>3</td>\n",
       "      <td>0</td>\n",
       "      <td>0</td>\n",
       "      <td>0.008013</td>\n",
       "      <td>0.0</td>\n",
       "      <td>65</td>\n",
       "      <td>8</td>\n",
       "      <td>1</td>\n",
       "    </tr>\n",
       "    <tr>\n",
       "      <td>4</td>\n",
       "      <td>0</td>\n",
       "      <td>0</td>\n",
       "      <td>0.008013</td>\n",
       "      <td>0.0</td>\n",
       "      <td>88</td>\n",
       "      <td>16</td>\n",
       "      <td>1</td>\n",
       "    </tr>\n",
       "    <tr>\n",
       "      <td>...</td>\n",
       "      <td>...</td>\n",
       "      <td>...</td>\n",
       "      <td>...</td>\n",
       "      <td>...</td>\n",
       "      <td>...</td>\n",
       "      <td>...</td>\n",
       "      <td>...</td>\n",
       "    </tr>\n",
       "    <tr>\n",
       "      <td>7608</td>\n",
       "      <td>0</td>\n",
       "      <td>0</td>\n",
       "      <td>0.008013</td>\n",
       "      <td>0.0</td>\n",
       "      <td>83</td>\n",
       "      <td>11</td>\n",
       "      <td>1</td>\n",
       "    </tr>\n",
       "    <tr>\n",
       "      <td>7609</td>\n",
       "      <td>0</td>\n",
       "      <td>0</td>\n",
       "      <td>0.008013</td>\n",
       "      <td>0.0</td>\n",
       "      <td>125</td>\n",
       "      <td>20</td>\n",
       "      <td>1</td>\n",
       "    </tr>\n",
       "    <tr>\n",
       "      <td>7610</td>\n",
       "      <td>0</td>\n",
       "      <td>0</td>\n",
       "      <td>0.008013</td>\n",
       "      <td>0.0</td>\n",
       "      <td>65</td>\n",
       "      <td>8</td>\n",
       "      <td>1</td>\n",
       "    </tr>\n",
       "    <tr>\n",
       "      <td>7611</td>\n",
       "      <td>0</td>\n",
       "      <td>0</td>\n",
       "      <td>0.008013</td>\n",
       "      <td>0.0</td>\n",
       "      <td>137</td>\n",
       "      <td>19</td>\n",
       "      <td>1</td>\n",
       "    </tr>\n",
       "    <tr>\n",
       "      <td>7612</td>\n",
       "      <td>0</td>\n",
       "      <td>0</td>\n",
       "      <td>0.008013</td>\n",
       "      <td>0.0</td>\n",
       "      <td>94</td>\n",
       "      <td>13</td>\n",
       "      <td>1</td>\n",
       "    </tr>\n",
       "  </tbody>\n",
       "</table>\n",
       "<p>7613 rows × 7 columns</p>\n",
       "</div>"
      ],
      "text/plain": [
       "      keyword  text_contains_keyword  mean_keyword  \\\n",
       "0           0                      0      0.008013   \n",
       "1           0                      0      0.008013   \n",
       "2           0                      0      0.008013   \n",
       "3           0                      0      0.008013   \n",
       "4           0                      0      0.008013   \n",
       "...       ...                    ...           ...   \n",
       "7608        0                      0      0.008013   \n",
       "7609        0                      0      0.008013   \n",
       "7610        0                      0      0.008013   \n",
       "7611        0                      0      0.008013   \n",
       "7612        0                      0      0.008013   \n",
       "\n",
       "      mean_text_contains_keyword  text  word_count  target  \n",
       "0                            0.0    69          13       1  \n",
       "1                            0.0    38           7       1  \n",
       "2                            0.0   133          22       1  \n",
       "3                            0.0    65           8       1  \n",
       "4                            0.0    88          16       1  \n",
       "...                          ...   ...         ...     ...  \n",
       "7608                         0.0    83          11       1  \n",
       "7609                         0.0   125          20       1  \n",
       "7610                         0.0    65           8       1  \n",
       "7611                         0.0   137          19       1  \n",
       "7612                         0.0    94          13       1  \n",
       "\n",
       "[7613 rows x 7 columns]"
      ]
     },
     "execution_count": 21,
     "metadata": {},
     "output_type": "execute_result"
    }
   ],
   "source": [
    "train = pd.read_csv('../train.csv')\n",
    "\n",
    "#cantidad rows 7613\n",
    "def is_in_text(keyword, text):\n",
    "    is_in = 1\n",
    "    arrKeyword = keyword.split(\"_\")\n",
    "    for key in arrKeyword:\n",
    "        if not(key.upper() in text.upper() and key != ''):\n",
    "            is_in = 0\n",
    "            break\n",
    "    \n",
    "    return is_in\n",
    "\n",
    "\n",
    "train['keyword'] = train['keyword'].apply(lambda x: x.replace('%20', '_') if (isinstance(x, str)) else '')\n",
    "\n",
    "keywords = train['keyword'].value_counts().to_frame().reset_index()\n",
    "keywords.columns =['keyword', 'mean_keyword']\n",
    "train = pd.merge(train, keywords, how='left', on='keyword')\n",
    "\n",
    "train['mean_keyword'] = train['mean_keyword'].apply(lambda x: x/len(train))\n",
    "train['text_contains_keyword'] = train.apply(lambda x: is_in_text(x.keyword, x.text), axis=1)\n",
    "\n",
    "groupbyKeyword = train.groupby(['keyword'])['text_contains_keyword']\n",
    "text_contains_keyword_sum = groupbyKeyword.sum().reset_index(name='value')\n",
    "text_contains_keyword_count = groupbyKeyword.count().reset_index(name='value')\n",
    "mean_text_contains_keyword = pd.DataFrame({'keyword': text_contains_keyword_sum['keyword'], 'mean_text_contains_keyword': text_contains_keyword_sum['value']/text_contains_keyword_count['value']})\n",
    "train = pd.merge(train, mean_text_contains_keyword, how='left', on='keyword')\n",
    "\n",
    "train['keyword'] = train['keyword'].transform(lambda x: len(x) if (isinstance(x, str)) else 0)\n",
    "train['word_count'] = train['text'].apply(lambda x: len(str(x).split()))\n",
    "train['text'] = train['text'].transform(lambda x: len(x) if (isinstance(x, str)) else 0)\n",
    "\n",
    "train = train[['keyword', 'text_contains_keyword', 'mean_keyword', 'mean_text_contains_keyword', 'text', 'word_count', 'target']]\n",
    "train"
   ]
  },
  {
   "cell_type": "code",
   "execution_count": 22,
   "metadata": {},
   "outputs": [
    {
     "name": "stdout",
     "output_type": "stream",
     "text": [
      "[19:12:02] WARNING: C:\\Users\\Administrator\\workspace\\xgboost-win64_release_1.1.0\\src\\learner.cc:480: \n",
      "Parameters: { silent } might not be used.\n",
      "\n",
      "  This may not be accurate due to some parameters are only used in language bindings but\n",
      "  passed down to XGBoost core.  Or some parameters are not used but slip through this\n",
      "  verification. Please open an issue if you find above cases.\n",
      "\n",
      "\n",
      "Accuracy: 72.82%\n"
     ]
    }
   ],
   "source": [
    "X, y = train.iloc[:,:-1],train.iloc[:,-1]\n",
    "X_train, X_test, y_train, y_test = \\\n",
    "    train_test_split(X, y, test_size=0.2, random_state=123)\n",
    "\n",
    "xg_reg = xgb.XGBClassifier(objective='binary:logistic', eval_metric='auc',n_jobs=4, silent=False)\n",
    "xg_reg.fit(X_train,y_train)\n",
    "preds = xg_reg.predict(X_test)\n",
    "preds = [round(value) for value in preds]\n",
    "# evaluate predictions\n",
    "accuracy = accuracy_score(y_test, preds)\n",
    "print(\"Accuracy: %.2f%%\" % (accuracy * 100.0))"
   ]
  },
  {
   "cell_type": "code",
   "execution_count": 23,
   "metadata": {},
   "outputs": [
    {
     "data": {
      "text/plain": [
       "Text(0.5, 1.0, 'Evolution Accuracy')"
      ]
     },
     "execution_count": 23,
     "metadata": {},
     "output_type": "execute_result"
    },
    {
     "data": {
      "image/png": "[encoded data removed]",
      "text/plain": [
       "<Figure size 864x432 with 1 Axes>"
      ]
     },
     "metadata": {
      "needs_background": "light"
     },
     "output_type": "display_data"
    }
   ],
   "source": [
    "dfAcc.loc[dfAcc.shape[0]] = ['Trans4', accuracy]\n",
    "plt.figure(figsize=(12, 6))\n",
    "g = sns.lineplot(x=\"transformation\", y=\"accuracy\", data=dfAcc)\n",
    "g.set_title(\"Evolution Accuracy\", fontsize=20)"
   ]
  },
  {
   "cell_type": "code",
   "execution_count": 24,
   "metadata": {},
   "outputs": [
    {
     "data": {
      "text/plain": [
       "<matplotlib.axes._subplots.AxesSubplot at 0x1dede1c7288>"
      ]
     },
     "execution_count": 24,
     "metadata": {},
     "output_type": "execute_result"
    },
    {
     "data": {
      "image/png": "[encoded data removed]",
      "text/plain": [
       "<Figure size 720x432 with 1 Axes>"
      ]
     },
     "metadata": {
      "needs_background": "light"
     },
     "output_type": "display_data"
    }
   ],
   "source": [
    "fig, ax = plt.subplots(figsize=(10,6))\n",
    "xgb.plot_importance(xg_reg, max_num_features=50, height=0.8, ax=ax)"
   ]
  },
  {
   "cell_type": "markdown",
   "metadata": {},
   "source": [
    "### XGBoost Transformacion5 - Agregando features 'word_mean_len', 'upper_count', 'white_count', 'url_count', 'hashtag_count', 'mention_count'\n",
    "* Todas estas features se basan en el texto del tweet"
   ]
  },
  {
   "cell_type": "code",
   "execution_count": 25,
   "metadata": {},
   "outputs": [
    {
     "data": {
      "text/html": [
       "<div>\n",
       "<style scoped>\n",
       "    .dataframe tbody tr th:only-of-type {\n",
       "        vertical-align: middle;\n",
       "    }\n",
       "\n",
       "    .dataframe tbody tr th {\n",
       "        vertical-align: top;\n",
       "    }\n",
       "\n",
       "    .dataframe thead th {\n",
       "        text-align: right;\n",
       "    }\n",
       "</style>\n",
       "<table border=\"1\" class=\"dataframe\">\n",
       "  <thead>\n",
       "    <tr style=\"text-align: right;\">\n",
       "      <th></th>\n",
       "      <th>keyword</th>\n",
       "      <th>text_contains_keyword</th>\n",
       "      <th>mean_keyword</th>\n",
       "      <th>mean_text_contains_keyword</th>\n",
       "      <th>text</th>\n",
       "      <th>word_count</th>\n",
       "      <th>word_mean_len</th>\n",
       "      <th>upper_count</th>\n",
       "      <th>white_count</th>\n",
       "      <th>url_count</th>\n",
       "      <th>hashtag_count</th>\n",
       "      <th>mention_count</th>\n",
       "      <th>target</th>\n",
       "    </tr>\n",
       "  </thead>\n",
       "  <tbody>\n",
       "    <tr>\n",
       "      <td>0</td>\n",
       "      <td>0</td>\n",
       "      <td>0</td>\n",
       "      <td>0.008013</td>\n",
       "      <td>0.0</td>\n",
       "      <td>69</td>\n",
       "      <td>13</td>\n",
       "      <td>4.384615</td>\n",
       "      <td>22</td>\n",
       "      <td>12</td>\n",
       "      <td>0</td>\n",
       "      <td>1</td>\n",
       "      <td>0</td>\n",
       "      <td>1</td>\n",
       "    </tr>\n",
       "    <tr>\n",
       "      <td>1</td>\n",
       "      <td>0</td>\n",
       "      <td>0</td>\n",
       "      <td>0.008013</td>\n",
       "      <td>0.0</td>\n",
       "      <td>38</td>\n",
       "      <td>7</td>\n",
       "      <td>4.571429</td>\n",
       "      <td>11</td>\n",
       "      <td>6</td>\n",
       "      <td>0</td>\n",
       "      <td>0</td>\n",
       "      <td>0</td>\n",
       "      <td>1</td>\n",
       "    </tr>\n",
       "    <tr>\n",
       "      <td>2</td>\n",
       "      <td>0</td>\n",
       "      <td>0</td>\n",
       "      <td>0.008013</td>\n",
       "      <td>0.0</td>\n",
       "      <td>133</td>\n",
       "      <td>22</td>\n",
       "      <td>5.090909</td>\n",
       "      <td>23</td>\n",
       "      <td>21</td>\n",
       "      <td>0</td>\n",
       "      <td>0</td>\n",
       "      <td>0</td>\n",
       "      <td>1</td>\n",
       "    </tr>\n",
       "    <tr>\n",
       "      <td>3</td>\n",
       "      <td>0</td>\n",
       "      <td>0</td>\n",
       "      <td>0.008013</td>\n",
       "      <td>0.0</td>\n",
       "      <td>65</td>\n",
       "      <td>8</td>\n",
       "      <td>7.125000</td>\n",
       "      <td>9</td>\n",
       "      <td>8</td>\n",
       "      <td>0</td>\n",
       "      <td>1</td>\n",
       "      <td>0</td>\n",
       "      <td>1</td>\n",
       "    </tr>\n",
       "    <tr>\n",
       "      <td>4</td>\n",
       "      <td>0</td>\n",
       "      <td>0</td>\n",
       "      <td>0.008013</td>\n",
       "      <td>0.0</td>\n",
       "      <td>88</td>\n",
       "      <td>16</td>\n",
       "      <td>4.500000</td>\n",
       "      <td>19</td>\n",
       "      <td>16</td>\n",
       "      <td>0</td>\n",
       "      <td>2</td>\n",
       "      <td>0</td>\n",
       "      <td>1</td>\n",
       "    </tr>\n",
       "    <tr>\n",
       "      <td>...</td>\n",
       "      <td>...</td>\n",
       "      <td>...</td>\n",
       "      <td>...</td>\n",
       "      <td>...</td>\n",
       "      <td>...</td>\n",
       "      <td>...</td>\n",
       "      <td>...</td>\n",
       "      <td>...</td>\n",
       "      <td>...</td>\n",
       "      <td>...</td>\n",
       "      <td>...</td>\n",
       "      <td>...</td>\n",
       "      <td>...</td>\n",
       "    </tr>\n",
       "    <tr>\n",
       "      <td>7608</td>\n",
       "      <td>0</td>\n",
       "      <td>0</td>\n",
       "      <td>0.008013</td>\n",
       "      <td>0.0</td>\n",
       "      <td>83</td>\n",
       "      <td>11</td>\n",
       "      <td>6.636364</td>\n",
       "      <td>17</td>\n",
       "      <td>10</td>\n",
       "      <td>1</td>\n",
       "      <td>0</td>\n",
       "      <td>0</td>\n",
       "      <td>1</td>\n",
       "    </tr>\n",
       "    <tr>\n",
       "      <td>7609</td>\n",
       "      <td>0</td>\n",
       "      <td>0</td>\n",
       "      <td>0.008013</td>\n",
       "      <td>0.0</td>\n",
       "      <td>125</td>\n",
       "      <td>20</td>\n",
       "      <td>5.300000</td>\n",
       "      <td>25</td>\n",
       "      <td>19</td>\n",
       "      <td>0</td>\n",
       "      <td>0</td>\n",
       "      <td>2</td>\n",
       "      <td>1</td>\n",
       "    </tr>\n",
       "    <tr>\n",
       "      <td>7610</td>\n",
       "      <td>0</td>\n",
       "      <td>0</td>\n",
       "      <td>0.008013</td>\n",
       "      <td>0.0</td>\n",
       "      <td>65</td>\n",
       "      <td>8</td>\n",
       "      <td>7.250000</td>\n",
       "      <td>17</td>\n",
       "      <td>7</td>\n",
       "      <td>1</td>\n",
       "      <td>0</td>\n",
       "      <td>0</td>\n",
       "      <td>1</td>\n",
       "    </tr>\n",
       "    <tr>\n",
       "      <td>7611</td>\n",
       "      <td>0</td>\n",
       "      <td>0</td>\n",
       "      <td>0.008013</td>\n",
       "      <td>0.0</td>\n",
       "      <td>137</td>\n",
       "      <td>19</td>\n",
       "      <td>6.263158</td>\n",
       "      <td>22</td>\n",
       "      <td>18</td>\n",
       "      <td>0</td>\n",
       "      <td>0</td>\n",
       "      <td>0</td>\n",
       "      <td>1</td>\n",
       "    </tr>\n",
       "    <tr>\n",
       "      <td>7612</td>\n",
       "      <td>0</td>\n",
       "      <td>0</td>\n",
       "      <td>0.008013</td>\n",
       "      <td>0.0</td>\n",
       "      <td>94</td>\n",
       "      <td>13</td>\n",
       "      <td>6.307692</td>\n",
       "      <td>28</td>\n",
       "      <td>12</td>\n",
       "      <td>1</td>\n",
       "      <td>0</td>\n",
       "      <td>0</td>\n",
       "      <td>1</td>\n",
       "    </tr>\n",
       "  </tbody>\n",
       "</table>\n",
       "<p>7613 rows × 13 columns</p>\n",
       "</div>"
      ],
      "text/plain": [
       "      keyword  text_contains_keyword  mean_keyword  \\\n",
       "0           0                      0      0.008013   \n",
       "1           0                      0      0.008013   \n",
       "2           0                      0      0.008013   \n",
       "3           0                      0      0.008013   \n",
       "4           0                      0      0.008013   \n",
       "...       ...                    ...           ...   \n",
       "7608        0                      0      0.008013   \n",
       "7609        0                      0      0.008013   \n",
       "7610        0                      0      0.008013   \n",
       "7611        0                      0      0.008013   \n",
       "7612        0                      0      0.008013   \n",
       "\n",
       "      mean_text_contains_keyword  text  word_count  word_mean_len  \\\n",
       "0                            0.0    69          13       4.384615   \n",
       "1                            0.0    38           7       4.571429   \n",
       "2                            0.0   133          22       5.090909   \n",
       "3                            0.0    65           8       7.125000   \n",
       "4                            0.0    88          16       4.500000   \n",
       "...                          ...   ...         ...            ...   \n",
       "7608                         0.0    83          11       6.636364   \n",
       "7609                         0.0   125          20       5.300000   \n",
       "7610                         0.0    65           8       7.250000   \n",
       "7611                         0.0   137          19       6.263158   \n",
       "7612                         0.0    94          13       6.307692   \n",
       "\n",
       "      upper_count  white_count  url_count  hashtag_count  mention_count  \\\n",
       "0              22           12          0              1              0   \n",
       "1              11            6          0              0              0   \n",
       "2              23           21          0              0              0   \n",
       "3               9            8          0              1              0   \n",
       "4              19           16          0              2              0   \n",
       "...           ...          ...        ...            ...            ...   \n",
       "7608           17           10          1              0              0   \n",
       "7609           25           19          0              0              2   \n",
       "7610           17            7          1              0              0   \n",
       "7611           22           18          0              0              0   \n",
       "7612           28           12          1              0              0   \n",
       "\n",
       "      target  \n",
       "0          1  \n",
       "1          1  \n",
       "2          1  \n",
       "3          1  \n",
       "4          1  \n",
       "...      ...  \n",
       "7608       1  \n",
       "7609       1  \n",
       "7610       1  \n",
       "7611       1  \n",
       "7612       1  \n",
       "\n",
       "[7613 rows x 13 columns]"
      ]
     },
     "execution_count": 25,
     "metadata": {},
     "output_type": "execute_result"
    }
   ],
   "source": [
    "train = pd.read_csv('../train.csv')\n",
    "\n",
    "#cantidad rows 7613\n",
    "def is_in_text(keyword, text):\n",
    "    is_in = 1\n",
    "    arrKeyword = keyword.split(\"_\")\n",
    "    for key in arrKeyword:\n",
    "        if not(key.upper() in text.upper() and key != ''):\n",
    "            is_in = 0\n",
    "            break\n",
    "    \n",
    "    return is_in\n",
    "\n",
    "\n",
    "train['keyword'] = train['keyword'].apply(lambda x: x.replace('%20', '_') if (isinstance(x, str)) else '')\n",
    "\n",
    "keywords = train['keyword'].value_counts().to_frame().reset_index()\n",
    "keywords.columns =['keyword', 'mean_keyword']\n",
    "train = pd.merge(train, keywords, how='left', on='keyword')\n",
    "\n",
    "train['mean_keyword'] = train['mean_keyword'].apply(lambda x: x/len(train))\n",
    "train['text_contains_keyword'] = train.apply(lambda x: is_in_text(x.keyword, x.text), axis=1)\n",
    "\n",
    "groupbyKeyword = train.groupby(['keyword'])['text_contains_keyword']\n",
    "text_contains_keyword_sum = groupbyKeyword.sum().reset_index(name='value')\n",
    "text_contains_keyword_count = groupbyKeyword.count().reset_index(name='value')\n",
    "mean_text_contains_keyword = pd.DataFrame({'keyword': text_contains_keyword_sum['keyword'], 'mean_text_contains_keyword': text_contains_keyword_sum['value']/text_contains_keyword_count['value']})\n",
    "train = pd.merge(train, mean_text_contains_keyword, how='left', on='keyword')\n",
    "\n",
    "train['keyword'] = train['keyword'].transform(lambda x: len(x) if (isinstance(x, str)) else 0)\n",
    "\n",
    "train['word_count'] = train['text'].apply(lambda x: len(str(x).split()))\n",
    "train['word_mean_len'] = train['text'].apply(lambda x: np.mean([len(c) for c in str(x).split()])) \n",
    "train['upper_count'] = train['text'].apply(lambda x: len(re.findall(\"[ A-Z ]\",x)))\n",
    "train['white_count'] = train['text'].apply(lambda x: len(re.findall(r'\\s+',x)))\n",
    "train['url_count'] = train['text'].apply(lambda x: len([w for w in str(x).lower().split() if 'http' in w or 'https' in w]))\n",
    "train['hashtag_count'] = train['text'].apply(lambda x: len([c for c in str(x) if c == '#']))\n",
    "train['mention_count'] = train['text'].apply(lambda x: len([c for c in str(x) if c == '@']))\n",
    "train['text'] = train['text'].transform(lambda x: len(x) if (isinstance(x, str)) else 0)\n",
    "\n",
    "train = train[['keyword', 'text_contains_keyword', 'mean_keyword', 'mean_text_contains_keyword', 'text', \\\n",
    "               'word_count', 'word_mean_len', 'upper_count', 'white_count', 'url_count', 'hashtag_count', 'mention_count', 'target']]\n",
    "train"
   ]
  },
  {
   "cell_type": "code",
   "execution_count": 26,
   "metadata": {},
   "outputs": [
    {
     "name": "stdout",
     "output_type": "stream",
     "text": [
      "[19:12:06] WARNING: C:\\Users\\Administrator\\workspace\\xgboost-win64_release_1.1.0\\src\\learner.cc:480: \n",
      "Parameters: { silent } might not be used.\n",
      "\n",
      "  This may not be accurate due to some parameters are only used in language bindings but\n",
      "  passed down to XGBoost core.  Or some parameters are not used but slip through this\n",
      "  verification. Please open an issue if you find above cases.\n",
      "\n",
      "\n",
      "Accuracy: 73.34%\n"
     ]
    }
   ],
   "source": [
    "X, y = train.iloc[:,:-1],train.iloc[:,-1]\n",
    "X_train, X_test, y_train, y_test = \\\n",
    "    train_test_split(X, y, test_size=0.2, random_state=123)\n",
    "\n",
    "xg_reg = xgb.XGBClassifier(objective='binary:logistic', eval_metric='auc',n_jobs=4, silent=False)\n",
    "xg_reg.fit(X_train,y_train)\n",
    "preds = xg_reg.predict(X_test)\n",
    "preds = [round(value) for value in preds]\n",
    "# evaluate predictions\n",
    "accuracy = accuracy_score(y_test, preds)\n",
    "print(\"Accuracy: %.2f%%\" % (accuracy * 100.0))"
   ]
  },
  {
   "cell_type": "code",
   "execution_count": 27,
   "metadata": {},
   "outputs": [
    {
     "data": {
      "text/plain": [
       "Text(0.5, 1.0, 'Evolution Accuracy')"
      ]
     },
     "execution_count": 27,
     "metadata": {},
     "output_type": "execute_result"
    },
    {
     "data": {
      "image/png": "[encoded data removed]",
      "text/plain": [
       "<Figure size 864x432 with 1 Axes>"
      ]
     },
     "metadata": {
      "needs_background": "light"
     },
     "output_type": "display_data"
    }
   ],
   "source": [
    "dfAcc.loc[dfAcc.shape[0]] = ['Trans5', accuracy]\n",
    "plt.figure(figsize=(12, 6))\n",
    "g = sns.lineplot(x=\"transformation\", y=\"accuracy\", data=dfAcc)\n",
    "g.set_title(\"Evolution Accuracy\", fontsize=20)"
   ]
  },
  {
   "cell_type": "code",
   "execution_count": 28,
   "metadata": {},
   "outputs": [
    {
     "data": {
      "text/plain": [
       "<matplotlib.axes._subplots.AxesSubplot at 0x1dede41eb08>"
      ]
     },
     "execution_count": 28,
     "metadata": {},
     "output_type": "execute_result"
    },
    {
     "data": {
      "image/png": "[encoded data removed]",
      "text/plain": [
       "<Figure size 720x720 with 1 Axes>"
      ]
     },
     "metadata": {
      "needs_background": "light"
     },
     "output_type": "display_data"
    }
   ],
   "source": [
    "fig, ax = plt.subplots(figsize=(10,10))\n",
    "xgb.plot_importance(xg_reg, max_num_features=50, height=0.8, ax=ax)"
   ]
  },
  {
   "cell_type": "markdown",
   "metadata": {},
   "source": [
    "### XGBoost Transformacion6 - Agregando feature de 100 dimensiones generado por GLoVe - Embedding\n",
    "* Cargamos una imagen pre entrenada por GloVe de 100 dimensiones, el archivo tiene como nombre 'embedd_train.csv'"
   ]
  },
  {
   "cell_type": "code",
   "execution_count": 29,
   "metadata": {},
   "outputs": [
    {
     "data": {
      "text/html": [
       "<div>\n",
       "<style scoped>\n",
       "    .dataframe tbody tr th:only-of-type {\n",
       "        vertical-align: middle;\n",
       "    }\n",
       "\n",
       "    .dataframe tbody tr th {\n",
       "        vertical-align: top;\n",
       "    }\n",
       "\n",
       "    .dataframe thead th {\n",
       "        text-align: right;\n",
       "    }\n",
       "</style>\n",
       "<table border=\"1\" class=\"dataframe\">\n",
       "  <thead>\n",
       "    <tr style=\"text-align: right;\">\n",
       "      <th></th>\n",
       "      <th>0</th>\n",
       "      <th>1</th>\n",
       "      <th>2</th>\n",
       "      <th>3</th>\n",
       "      <th>4</th>\n",
       "      <th>5</th>\n",
       "      <th>6</th>\n",
       "      <th>7</th>\n",
       "      <th>8</th>\n",
       "      <th>9</th>\n",
       "      <th>...</th>\n",
       "      <th>mean_text_contains_keyword</th>\n",
       "      <th>text</th>\n",
       "      <th>word_count</th>\n",
       "      <th>word_mean_len</th>\n",
       "      <th>upper_count</th>\n",
       "      <th>white_count</th>\n",
       "      <th>url_count</th>\n",
       "      <th>hashtag_count</th>\n",
       "      <th>mention_count</th>\n",
       "      <th>target</th>\n",
       "    </tr>\n",
       "  </thead>\n",
       "  <tbody>\n",
       "    <tr>\n",
       "      <td>0</td>\n",
       "      <td>5473</td>\n",
       "      <td>718</td>\n",
       "      <td>154</td>\n",
       "      <td>66</td>\n",
       "      <td>1666</td>\n",
       "      <td>3595</td>\n",
       "      <td>13</td>\n",
       "      <td>0</td>\n",
       "      <td>0</td>\n",
       "      <td>0</td>\n",
       "      <td>...</td>\n",
       "      <td>0.0</td>\n",
       "      <td>69</td>\n",
       "      <td>13</td>\n",
       "      <td>4.384615</td>\n",
       "      <td>22</td>\n",
       "      <td>12</td>\n",
       "      <td>0</td>\n",
       "      <td>1</td>\n",
       "      <td>0</td>\n",
       "      <td>1</td>\n",
       "    </tr>\n",
       "    <tr>\n",
       "      <td>1</td>\n",
       "      <td>83</td>\n",
       "      <td>2</td>\n",
       "      <td>119</td>\n",
       "      <td>744</td>\n",
       "      <td>7954</td>\n",
       "      <td>7955</td>\n",
       "      <td>1118</td>\n",
       "      <td>0</td>\n",
       "      <td>0</td>\n",
       "      <td>0</td>\n",
       "      <td>...</td>\n",
       "      <td>0.0</td>\n",
       "      <td>38</td>\n",
       "      <td>7</td>\n",
       "      <td>4.571429</td>\n",
       "      <td>11</td>\n",
       "      <td>6</td>\n",
       "      <td>0</td>\n",
       "      <td>0</td>\n",
       "      <td>0</td>\n",
       "      <td>1</td>\n",
       "    </tr>\n",
       "    <tr>\n",
       "      <td>2</td>\n",
       "      <td>1453</td>\n",
       "      <td>1360</td>\n",
       "      <td>1955</td>\n",
       "      <td>615</td>\n",
       "      <td>7956</td>\n",
       "      <td>1667</td>\n",
       "      <td>172</td>\n",
       "      <td>1955</td>\n",
       "      <td>615</td>\n",
       "      <td>1555</td>\n",
       "      <td>...</td>\n",
       "      <td>0.0</td>\n",
       "      <td>133</td>\n",
       "      <td>22</td>\n",
       "      <td>5.090909</td>\n",
       "      <td>23</td>\n",
       "      <td>21</td>\n",
       "      <td>0</td>\n",
       "      <td>0</td>\n",
       "      <td>0</td>\n",
       "      <td>1</td>\n",
       "    </tr>\n",
       "    <tr>\n",
       "      <td>3</td>\n",
       "      <td>7</td>\n",
       "      <td>4305</td>\n",
       "      <td>1241</td>\n",
       "      <td>172</td>\n",
       "      <td>1555</td>\n",
       "      <td>30</td>\n",
       "      <td>0</td>\n",
       "      <td>0</td>\n",
       "      <td>0</td>\n",
       "      <td>0</td>\n",
       "      <td>...</td>\n",
       "      <td>0.0</td>\n",
       "      <td>65</td>\n",
       "      <td>8</td>\n",
       "      <td>7.125000</td>\n",
       "      <td>9</td>\n",
       "      <td>8</td>\n",
       "      <td>0</td>\n",
       "      <td>1</td>\n",
       "      <td>0</td>\n",
       "      <td>1</td>\n",
       "    </tr>\n",
       "    <tr>\n",
       "      <td>4</td>\n",
       "      <td>20</td>\n",
       "      <td>1361</td>\n",
       "      <td>195</td>\n",
       "      <td>5474</td>\n",
       "      <td>1803</td>\n",
       "      <td>188</td>\n",
       "      <td>1241</td>\n",
       "      <td>7957</td>\n",
       "      <td>112</td>\n",
       "      <td>0</td>\n",
       "      <td>...</td>\n",
       "      <td>0.0</td>\n",
       "      <td>88</td>\n",
       "      <td>16</td>\n",
       "      <td>4.500000</td>\n",
       "      <td>19</td>\n",
       "      <td>16</td>\n",
       "      <td>0</td>\n",
       "      <td>2</td>\n",
       "      <td>0</td>\n",
       "      <td>1</td>\n",
       "    </tr>\n",
       "    <tr>\n",
       "      <td>...</td>\n",
       "      <td>...</td>\n",
       "      <td>...</td>\n",
       "      <td>...</td>\n",
       "      <td>...</td>\n",
       "      <td>...</td>\n",
       "      <td>...</td>\n",
       "      <td>...</td>\n",
       "      <td>...</td>\n",
       "      <td>...</td>\n",
       "      <td>...</td>\n",
       "      <td>...</td>\n",
       "      <td>...</td>\n",
       "      <td>...</td>\n",
       "      <td>...</td>\n",
       "      <td>...</td>\n",
       "      <td>...</td>\n",
       "      <td>...</td>\n",
       "      <td>...</td>\n",
       "      <td>...</td>\n",
       "      <td>...</td>\n",
       "      <td>...</td>\n",
       "    </tr>\n",
       "    <tr>\n",
       "      <td>7608</td>\n",
       "      <td>36</td>\n",
       "      <td>709</td>\n",
       "      <td>1412</td>\n",
       "      <td>962</td>\n",
       "      <td>285</td>\n",
       "      <td>82</td>\n",
       "      <td>556</td>\n",
       "      <td>129</td>\n",
       "      <td>0</td>\n",
       "      <td>0</td>\n",
       "      <td>...</td>\n",
       "      <td>0.0</td>\n",
       "      <td>83</td>\n",
       "      <td>11</td>\n",
       "      <td>6.636364</td>\n",
       "      <td>17</td>\n",
       "      <td>10</td>\n",
       "      <td>1</td>\n",
       "      <td>0</td>\n",
       "      <td>0</td>\n",
       "      <td>1</td>\n",
       "    </tr>\n",
       "    <tr>\n",
       "      <td>7609</td>\n",
       "      <td>7658</td>\n",
       "      <td>7659</td>\n",
       "      <td>7660</td>\n",
       "      <td>646</td>\n",
       "      <td>110</td>\n",
       "      <td>34</td>\n",
       "      <td>30</td>\n",
       "      <td>70</td>\n",
       "      <td>109</td>\n",
       "      <td>371</td>\n",
       "      <td>...</td>\n",
       "      <td>0.0</td>\n",
       "      <td>125</td>\n",
       "      <td>20</td>\n",
       "      <td>5.300000</td>\n",
       "      <td>25</td>\n",
       "      <td>19</td>\n",
       "      <td>0</td>\n",
       "      <td>0</td>\n",
       "      <td>2</td>\n",
       "      <td>1</td>\n",
       "    </tr>\n",
       "    <tr>\n",
       "      <td>7610</td>\n",
       "      <td>740</td>\n",
       "      <td>558</td>\n",
       "      <td>408</td>\n",
       "      <td>1441</td>\n",
       "      <td>0</td>\n",
       "      <td>0</td>\n",
       "      <td>0</td>\n",
       "      <td>0</td>\n",
       "      <td>0</td>\n",
       "      <td>0</td>\n",
       "      <td>...</td>\n",
       "      <td>0.0</td>\n",
       "      <td>65</td>\n",
       "      <td>8</td>\n",
       "      <td>7.250000</td>\n",
       "      <td>17</td>\n",
       "      <td>7</td>\n",
       "      <td>1</td>\n",
       "      <td>0</td>\n",
       "      <td>0</td>\n",
       "      <td>1</td>\n",
       "    </tr>\n",
       "    <tr>\n",
       "      <td>7611</td>\n",
       "      <td>14</td>\n",
       "      <td>1106</td>\n",
       "      <td>424</td>\n",
       "      <td>2221</td>\n",
       "      <td>343</td>\n",
       "      <td>53</td>\n",
       "      <td>169</td>\n",
       "      <td>4688</td>\n",
       "      <td>424</td>\n",
       "      <td>2221</td>\n",
       "      <td>...</td>\n",
       "      <td>0.0</td>\n",
       "      <td>137</td>\n",
       "      <td>19</td>\n",
       "      <td>6.263158</td>\n",
       "      <td>22</td>\n",
       "      <td>18</td>\n",
       "      <td>0</td>\n",
       "      <td>0</td>\n",
       "      <td>0</td>\n",
       "      <td>1</td>\n",
       "    </tr>\n",
       "    <tr>\n",
       "      <td>7612</td>\n",
       "      <td>124</td>\n",
       "      <td>129</td>\n",
       "      <td>432</td>\n",
       "      <td>109</td>\n",
       "      <td>30</td>\n",
       "      <td>93</td>\n",
       "      <td>398</td>\n",
       "      <td>3</td>\n",
       "      <td>0</td>\n",
       "      <td>0</td>\n",
       "      <td>...</td>\n",
       "      <td>0.0</td>\n",
       "      <td>94</td>\n",
       "      <td>13</td>\n",
       "      <td>6.307692</td>\n",
       "      <td>28</td>\n",
       "      <td>12</td>\n",
       "      <td>1</td>\n",
       "      <td>0</td>\n",
       "      <td>0</td>\n",
       "      <td>1</td>\n",
       "    </tr>\n",
       "  </tbody>\n",
       "</table>\n",
       "<p>7613 rows × 113 columns</p>\n",
       "</div>"
      ],
      "text/plain": [
       "         0     1     2     3     4     5     6     7    8     9  ...  \\\n",
       "0     5473   718   154    66  1666  3595    13     0    0     0  ...   \n",
       "1       83     2   119   744  7954  7955  1118     0    0     0  ...   \n",
       "2     1453  1360  1955   615  7956  1667   172  1955  615  1555  ...   \n",
       "3        7  4305  1241   172  1555    30     0     0    0     0  ...   \n",
       "4       20  1361   195  5474  1803   188  1241  7957  112     0  ...   \n",
       "...    ...   ...   ...   ...   ...   ...   ...   ...  ...   ...  ...   \n",
       "7608    36   709  1412   962   285    82   556   129    0     0  ...   \n",
       "7609  7658  7659  7660   646   110    34    30    70  109   371  ...   \n",
       "7610   740   558   408  1441     0     0     0     0    0     0  ...   \n",
       "7611    14  1106   424  2221   343    53   169  4688  424  2221  ...   \n",
       "7612   124   129   432   109    30    93   398     3    0     0  ...   \n",
       "\n",
       "      mean_text_contains_keyword  text  word_count  word_mean_len  \\\n",
       "0                            0.0    69          13       4.384615   \n",
       "1                            0.0    38           7       4.571429   \n",
       "2                            0.0   133          22       5.090909   \n",
       "3                            0.0    65           8       7.125000   \n",
       "4                            0.0    88          16       4.500000   \n",
       "...                          ...   ...         ...            ...   \n",
       "7608                         0.0    83          11       6.636364   \n",
       "7609                         0.0   125          20       5.300000   \n",
       "7610                         0.0    65           8       7.250000   \n",
       "7611                         0.0   137          19       6.263158   \n",
       "7612                         0.0    94          13       6.307692   \n",
       "\n",
       "      upper_count  white_count  url_count  hashtag_count  mention_count  \\\n",
       "0              22           12          0              1              0   \n",
       "1              11            6          0              0              0   \n",
       "2              23           21          0              0              0   \n",
       "3               9            8          0              1              0   \n",
       "4              19           16          0              2              0   \n",
       "...           ...          ...        ...            ...            ...   \n",
       "7608           17           10          1              0              0   \n",
       "7609           25           19          0              0              2   \n",
       "7610           17            7          1              0              0   \n",
       "7611           22           18          0              0              0   \n",
       "7612           28           12          1              0              0   \n",
       "\n",
       "      target  \n",
       "0          1  \n",
       "1          1  \n",
       "2          1  \n",
       "3          1  \n",
       "4          1  \n",
       "...      ...  \n",
       "7608       1  \n",
       "7609       1  \n",
       "7610       1  \n",
       "7611       1  \n",
       "7612       1  \n",
       "\n",
       "[7613 rows x 113 columns]"
      ]
     },
     "execution_count": 29,
     "metadata": {},
     "output_type": "execute_result"
    }
   ],
   "source": [
    "import pickle\n",
    "\n",
    "pickle_in = open(\"../embedd_train.csv\",\"rb\")\n",
    "embedd_train = pickle.load(pickle_in)\n",
    "embedd_train = pd.DataFrame(embedd_train)\n",
    "embedd_train\n",
    "\n",
    "train = pd.read_csv('../train.csv')\n",
    "\n",
    "#cantidad rows 7613\n",
    "def is_in_text(keyword, text):\n",
    "    is_in = 1\n",
    "    arrKeyword = keyword.split(\"_\")\n",
    "    for key in arrKeyword:\n",
    "        if not(key.upper() in text.upper() and key != ''):\n",
    "            is_in = 0\n",
    "            break\n",
    "    \n",
    "    return is_in\n",
    "\n",
    "\n",
    "train['keyword'] = train['keyword'].apply(lambda x: x.replace('%20', '_') if (isinstance(x, str)) else '')\n",
    "\n",
    "keywords = train['keyword'].value_counts().to_frame().reset_index()\n",
    "keywords.columns =['keyword', 'mean_keyword']\n",
    "train = pd.merge(train, keywords, how='left', on='keyword')\n",
    "\n",
    "train['mean_keyword'] = train['mean_keyword'].apply(lambda x: x/len(train))\n",
    "train['text_contains_keyword'] = train.apply(lambda x: is_in_text(x.keyword, x.text), axis=1)\n",
    "\n",
    "groupbyKeyword = train.groupby(['keyword'])['text_contains_keyword']\n",
    "text_contains_keyword_sum = groupbyKeyword.sum().reset_index(name='value')\n",
    "text_contains_keyword_count = groupbyKeyword.count().reset_index(name='value')\n",
    "mean_text_contains_keyword = pd.DataFrame({'keyword': text_contains_keyword_sum['keyword'], 'mean_text_contains_keyword': text_contains_keyword_sum['value']/text_contains_keyword_count['value']})\n",
    "train = pd.merge(train, mean_text_contains_keyword, how='left', on='keyword')\n",
    "\n",
    "train['keyword'] = train['keyword'].transform(lambda x: len(x) if (isinstance(x, str)) else 0)\n",
    "\n",
    "train['word_count'] = train['text'].apply(lambda x: len(str(x).split()))\n",
    "train['word_mean_len'] = train['text'].apply(lambda x: np.mean([len(c) for c in str(x).split()])) \n",
    "train['upper_count'] = train['text'].apply(lambda x: len(re.findall(\"[ A-Z ]\",x)))\n",
    "train['white_count'] = train['text'].apply(lambda x: len(re.findall(r'\\s+',x)))\n",
    "train['url_count'] = train['text'].apply(lambda x: len([w for w in str(x).lower().split() if 'http' in w or 'https' in w]))\n",
    "train['hashtag_count'] = train['text'].apply(lambda x: len([c for c in str(x) if c == '#']))\n",
    "train['mention_count'] = train['text'].apply(lambda x: len([c for c in str(x) if c == '@']))\n",
    "train['text'] = train['text'].transform(lambda x: len(x) if (isinstance(x, str)) else 0)\n",
    "\n",
    "train = train[[ 'keyword', 'text_contains_keyword', 'mean_keyword', 'mean_text_contains_keyword', 'text', \\\n",
    "               'word_count', 'word_mean_len', 'upper_count', 'white_count', 'url_count', 'hashtag_count', 'mention_count', 'target']]\n",
    "\n",
    "train = pd.concat([embedd_train, train],axis=1)\n",
    "train"
   ]
  },
  {
   "cell_type": "code",
   "execution_count": 30,
   "metadata": {},
   "outputs": [
    {
     "name": "stdout",
     "output_type": "stream",
     "text": [
      "Accuracy: 74.46%\n"
     ]
    }
   ],
   "source": [
    "X, y = train.iloc[:,:-1],train.iloc[:,-1]\n",
    "X_train, X_test, y_train, y_test = \\\n",
    "    train_test_split(X, y, test_size=0.2, random_state=123)\n",
    "\n",
    "xg_reg = xgb.XGBClassifier(objective='binary:logistic', eval_metric='auc',n_jobs=4, colsample_bytree = 0.3, learning_rate = 0.3, max_depth = 9, alpha = 10, n_estimators = 500)\n",
    "xg_reg.fit(X_train,y_train)\n",
    "preds = xg_reg.predict(X_test)\n",
    "preds = [round(value) for value in preds]\n",
    "# evaluate predictions\n",
    "accuracy = accuracy_score(y_test, preds)\n",
    "print(\"Accuracy: %.2f%%\" % (accuracy * 100.0))"
   ]
  },
  {
   "cell_type": "code",
   "execution_count": 31,
   "metadata": {},
   "outputs": [
    {
     "data": {
      "text/plain": [
       "Text(0.5, 1.0, 'Evolution Accuracy')"
      ]
     },
     "execution_count": 31,
     "metadata": {},
     "output_type": "execute_result"
    },
    {
     "data": {
      "image/png": "[encoded data removed]",
      "text/plain": [
       "<Figure size 864x432 with 1 Axes>"
      ]
     },
     "metadata": {
      "needs_background": "light"
     },
     "output_type": "display_data"
    }
   ],
   "source": [
    "dfAcc.loc[dfAcc.shape[0]] = ['Trans6', accuracy]\n",
    "plt.figure(figsize=(12, 6))\n",
    "g = sns.lineplot(x=\"transformation\", y=\"accuracy\", markers=True, dashes=False, data=dfAcc)\n",
    "g.set_title(\"Evolution Accuracy\", fontsize=20)"
   ]
  },
  {
   "cell_type": "code",
   "execution_count": 32,
   "metadata": {},
   "outputs": [
    {
     "data": {
      "text/plain": [
       "<matplotlib.axes._subplots.AxesSubplot at 0x1dedfaa9988>"
      ]
     },
     "execution_count": 32,
     "metadata": {},
     "output_type": "execute_result"
    },
    {
     "data": {
      "image/png": "[encoded data removed]",
      "text/plain": [
       "<Figure size 720x864 with 1 Axes>"
      ]
     },
     "metadata": {
      "needs_background": "light"
     },
     "output_type": "display_data"
    }
   ],
   "source": [
    "fig, ax = plt.subplots(figsize=(10,12))\n",
    "xgb.plot_importance(xg_reg, max_num_features=50, height=0.8, ax=ax)"
   ]
  },
  {
   "cell_type": "code",
   "execution_count": null,
   "metadata": {},
   "outputs": [],
   "source": [
    "#from tqdm import tqdm\n",
    "#from keras.preprocessing.text import Tokenizer\n",
    "#from keras.preprocessing.sequence import pad_sequences\n",
    "#from nltk import word_tokenize\n",
    "#from nltk.corpus import stopwords"
   ]
  }
 ],
 "metadata": {
  "kernelspec": {
   "display_name": "Python 3",
   "language": "python",
   "name": "python3"
  },
  "language_info": {
   "codemirror_mode": {
    "name": "ipython",
    "version": 3
   },
   "file_extension": ".py",
   "mimetype": "text/x-python",
   "name": "python",
   "nbconvert_exporter": "python",
   "pygments_lexer": "ipython3",
   "version": "3.7.4"
  }
 },
 "nbformat": 4,
 "nbformat_minor": 4
}
