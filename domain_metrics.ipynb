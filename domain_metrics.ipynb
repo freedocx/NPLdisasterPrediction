{
 "cells": [
  {
   "cell_type": "code",
   "execution_count": 1,
   "metadata": {},
   "outputs": [],
   "source": [
    "import pandas as pd\n",
    "import numpy as np\n",
    "from sklearn.preprocessing import MinMaxScaler\n",
    "scaler = MinMaxScaler()\n",
    "import math"
   ]
  },
  {
   "cell_type": "code",
   "execution_count": 2,
   "metadata": {},
   "outputs": [],
   "source": [
    "train = pd.read_csv('train.csv')\n",
    "links = pd.read_csv(\"data_process/redirected_links.csv\",names=[\"Enlace Real\"],  converters={'Enlace Real': eval})\n"
   ]
  },
  {
   "cell_type": "code",
   "execution_count": 3,
   "metadata": {},
   "outputs": [],
   "source": [
    "train = pd.merge(links, train, right_index=True, left_index=True)"
   ]
  },
  {
   "cell_type": "code",
   "execution_count": 4,
   "metadata": {},
   "outputs": [],
   "source": [
    "lista = list()\n",
    "def get_domain(string):\n",
    "    if len(string)==0:\n",
    "        return(' ')\n",
    "    for s in string.split(\"/\"):\n",
    "        if \".\" in s:\n",
    "            return s.replace(\"www.\",\"\")\n",
    "for index,row in train.loc[train[\"Enlace Real\"].str.len()>0].iterrows():\n",
    "    for url in row[\"Enlace Real\"]:\n",
    "        lista.append([index, url, row[\"target\"],get_domain(url)])"
   ]
  },
  {
   "cell_type": "code",
   "execution_count": 5,
   "metadata": {},
   "outputs": [],
   "source": [
    "enlaces_target = pd.DataFrame(data=lista,columns=[\"id\",\"Enlace\",\"target\",\"Dominio\"])"
   ]
  },
  {
   "cell_type": "code",
   "execution_count": 6,
   "metadata": {},
   "outputs": [
    {
     "data": {
      "text/html": [
       "<div>\n",
       "<style scoped>\n",
       "    .dataframe tbody tr th:only-of-type {\n",
       "        vertical-align: middle;\n",
       "    }\n",
       "\n",
       "    .dataframe tbody tr th {\n",
       "        vertical-align: top;\n",
       "    }\n",
       "\n",
       "    .dataframe thead th {\n",
       "        text-align: right;\n",
       "    }\n",
       "</style>\n",
       "<table border=\"1\" class=\"dataframe\">\n",
       "  <thead>\n",
       "    <tr style=\"text-align: right;\">\n",
       "      <th></th>\n",
       "      <th>Dominio</th>\n",
       "      <th>cant_verdaderos</th>\n",
       "      <th>cant_falsos</th>\n",
       "    </tr>\n",
       "  </thead>\n",
       "  <tbody>\n",
       "    <tr>\n",
       "      <th>0</th>\n",
       "      <td>twitter.com</td>\n",
       "      <td>481</td>\n",
       "      <td>600</td>\n",
       "    </tr>\n",
       "    <tr>\n",
       "      <th>1</th>\n",
       "      <td>bbc.co.uk</td>\n",
       "      <td>62</td>\n",
       "      <td>2</td>\n",
       "    </tr>\n",
       "    <tr>\n",
       "      <th>2</th>\n",
       "      <td>youtube.com</td>\n",
       "      <td>55</td>\n",
       "      <td>110</td>\n",
       "    </tr>\n",
       "    <tr>\n",
       "      <th>3</th>\n",
       "      <td>abcnews.go.com</td>\n",
       "      <td>49</td>\n",
       "      <td>5</td>\n",
       "    </tr>\n",
       "    <tr>\n",
       "      <th>4</th>\n",
       "      <td>facebook.com</td>\n",
       "      <td>40</td>\n",
       "      <td>51</td>\n",
       "    </tr>\n",
       "  </tbody>\n",
       "</table>\n",
       "</div>"
      ],
      "text/plain": [
       "          Dominio  cant_verdaderos  cant_falsos\n",
       "0     twitter.com              481          600\n",
       "1       bbc.co.uk               62            2\n",
       "2     youtube.com               55          110\n",
       "3  abcnews.go.com               49            5\n",
       "4    facebook.com               40           51"
      ]
     },
     "execution_count": 6,
     "metadata": {},
     "output_type": "execute_result"
    }
   ],
   "source": [
    "enlaces_t = enlaces_target.loc[enlaces_target.target == 1]['Dominio'].value_counts()\n",
    "enlaces_t = pd.DataFrame({'Dominio': enlaces_t.index, 'cant_verdaderos': enlaces_t.values})\n",
    "enlaces_f = enlaces_target.loc[enlaces_target.target == 0]['Dominio'].value_counts()\n",
    "enlaces_f = pd.DataFrame({'Dominio': enlaces_f.index, 'cant_falsos': enlaces_f.values})\n",
    "\n",
    "enlaces = pd.merge(enlaces_t, enlaces_f, how='inner', on='Dominio')\n",
    "enlaces.head(5)"
   ]
  },
  {
   "cell_type": "code",
   "execution_count": 7,
   "metadata": {},
   "outputs": [],
   "source": [
    "enlaces['domain_metric'] = enlaces['cant_verdaderos'] - enlaces['cant_falsos']\n",
    "enlaces['cant_total'] = enlaces['cant_verdaderos'] + enlaces['cant_falsos']\n",
    "enlaces['domain_metric'] = enlaces['domain_metric']/enlaces['cant_total']\n",
    "enlaces = enlaces.sort_values(by='cant_total')\n",
    "enlaces['cant_total'] = enlaces['cant_total'].apply(lambda x: 1 if x<20 else math.log(x+10,20))\n",
    "scaler = MinMaxScaler()\n",
    "x = enlaces['cant_total'].values.reshape(-1, 1)\n",
    "enlaces['cant_total'] = scaler.fit_transform(x)\n",
    "enlaces['domain_metric'] = enlaces['domain_metric'] * enlaces['cant_total']"
   ]
  },
  {
   "cell_type": "code",
   "execution_count": 8,
   "metadata": {},
   "outputs": [],
   "source": [
    "enlaces = enlaces[['Dominio','domain_metric']]\n",
    "enlaces_target = enlaces_target.merge(enlaces).groupby('id').agg({'domain_metric':['mean','std','max','min']})\n",
    "enlaces_target.columns =enlaces_target.columns.get_level_values(0) + '_' + enlaces_target.columns.get_level_values(1)\n",
    "enlaces_target.reset_index(inplace=True)"
   ]
  },
  {
   "cell_type": "code",
   "execution_count": 9,
   "metadata": {},
   "outputs": [],
   "source": [
    "enlaces_target.to_csv('data_process/enlaces.csv',index=False)"
   ]
  },
  {
   "cell_type": "code",
   "execution_count": 11,
   "metadata": {},
   "outputs": [
    {
     "data": {
      "text/plain": [
       "(2316, 5)"
      ]
     },
     "execution_count": 11,
     "metadata": {},
     "output_type": "execute_result"
    }
   ],
   "source": [
    "enlaces_target.shape"
   ]
  }
 ],
 "metadata": {
  "kernelspec": {
   "display_name": "Python 3",
   "language": "python",
   "name": "python3"
  },
  "language_info": {
   "codemirror_mode": {
    "name": "ipython",
    "version": 3
   },
   "file_extension": ".py",
   "mimetype": "text/x-python",
   "name": "python",
   "nbconvert_exporter": "python",
   "pygments_lexer": "ipython3",
   "version": "3.7.6"
  }
 },
 "nbformat": 4,
 "nbformat_minor": 4
}
