{
 "cells": [
  {
   "cell_type": "code",
   "execution_count": 1,
   "metadata": {},
   "outputs": [],
   "source": [
    "import pandas as pd\n",
    "import numpy as np\n",
    "import re"
   ]
  },
  {
   "cell_type": "code",
   "execution_count": 2,
   "metadata": {},
   "outputs": [],
   "source": [
    "train = pd.read_csv('train.csv', low_memory=False)\n",
    "test = pd.read_csv('test.csv', low_memory=False)"
   ]
  },
  {
   "cell_type": "code",
   "execution_count": 3,
   "metadata": {},
   "outputs": [],
   "source": [
    "train = train.loc[train['text'].drop_duplicates().index]"
   ]
  },
  {
   "cell_type": "code",
   "execution_count": 4,
   "metadata": {},
   "outputs": [],
   "source": [
    "test['target'] = 2\n",
    "totaldata = pd.concat([train,test])\n",
    "totaldata['textsize'] = totaldata['text'].apply(len)\n",
    "totaldata['haslocacion'] = totaldata['location'].notna()\n",
    "totaldata.drop('location',axis=1,inplace=True)"
   ]
  },
  {
   "cell_type": "code",
   "execution_count": 5,
   "metadata": {},
   "outputs": [],
   "source": [
    "############## keyword"
   ]
  },
  {
   "cell_type": "code",
   "execution_count": 6,
   "metadata": {},
   "outputs": [],
   "source": [
    "keyword = pd.read_csv('data_process/keyword.csv')\n",
    "totaldata = totaldata.merge(keyword,how='left')\n",
    "totaldata.drop('keyword',axis=1,inplace=True)\n",
    "del keyword"
   ]
  },
  {
   "cell_type": "code",
   "execution_count": 7,
   "metadata": {},
   "outputs": [],
   "source": [
    "############## links, label, mentions"
   ]
  },
  {
   "cell_type": "code",
   "execution_count": 8,
   "metadata": {},
   "outputs": [],
   "source": [
    "def get_links(x):\n",
    "    l = re.findall(r'(http|ftp|https)://([\\w_-]+(?:(?:\\.[\\w_-]+)+))([\\w.,@?^=%&:/~+#-]*[\\w@?^=%&/~+#-])?',x)\n",
    "    return l\n",
    "def hashtags(x): \n",
    "    return re.findall(r'#[a-zA-z0-9_]{1,}',x)\n",
    "def arrobas(x):\n",
    "    return re.findall(r'@[a-zA-z0-9_]{1,}',x)\n",
    "\n",
    "totaldata[[\"mentions_count\",\"links_count\",\"label_count\"]] =\\\n",
    "                        totaldata[\"text\"].apply(lambda x: pd.Series([len(arrobas(x)),len(hashtags(x)),len(get_links(x))]))"
   ]
  },
  {
   "cell_type": "code",
   "execution_count": 9,
   "metadata": {},
   "outputs": [],
   "source": [
    "############# dominos "
   ]
  },
  {
   "cell_type": "code",
   "execution_count": 10,
   "metadata": {},
   "outputs": [],
   "source": [
    "enlaces_target = pd.read_csv('data_process/enlaces.csv')\n",
    "totaldata = totaldata.merge(enlaces_target,how='left').fillna(0)\n",
    "del enlaces_target"
   ]
  },
  {
   "cell_type": "code",
   "execution_count": 11,
   "metadata": {},
   "outputs": [],
   "source": [
    "############# taggs"
   ]
  },
  {
   "cell_type": "code",
   "execution_count": 12,
   "metadata": {},
   "outputs": [],
   "source": [
    "tagged=pd.read_csv('data_process/tagged.csv')\n",
    "totaldata = pd.concat([totaldata, tagged],axis=1)\n",
    "totaldata.to_csv('data_process/totaldata.csv',index=False)"
   ]
  },
  {
   "cell_type": "code",
   "execution_count": null,
   "metadata": {},
   "outputs": [],
   "source": []
  }
 ],
 "metadata": {
  "kernelspec": {
   "display_name": "Python 3",
   "language": "python",
   "name": "python3"
  },
  "language_info": {
   "codemirror_mode": {
    "name": "ipython",
    "version": 3
   },
   "file_extension": ".py",
   "mimetype": "text/x-python",
   "name": "python",
   "nbconvert_exporter": "python",
   "pygments_lexer": "ipython3",
   "version": "3.7.6"
  }
 },
 "nbformat": 4,
 "nbformat_minor": 4
}
