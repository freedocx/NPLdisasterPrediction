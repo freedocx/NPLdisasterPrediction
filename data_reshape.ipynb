{
 "cells": [
  {
   "cell_type": "code",
   "execution_count": 18,
   "metadata": {},
   "outputs": [],
   "source": [
    "import pandas as pd\n",
    "import numpy as np\n",
    "import re\n",
    "import string"
   ]
  },
  {
   "cell_type": "code",
   "execution_count": 19,
   "metadata": {},
   "outputs": [],
   "source": [
    "train = pd.read_csv('train.csv', low_memory=False)\n",
    "test = pd.read_csv('test.csv', low_memory=False)"
   ]
  },
  {
   "cell_type": "code",
   "execution_count": 20,
   "metadata": {},
   "outputs": [],
   "source": [
    "test['target'] = 2\n",
    "totaldata = pd.concat([train,test])\n",
    "totaldata['textsize'] = totaldata['text'].apply(len)\n",
    "totaldata['punctuation_count'] = totaldata['text'].apply(lambda x: len([c for c in str(x) if c in string.punctuation]))\n",
    "totaldata['word_mean_len'] = totaldata['text'].apply(lambda x: np.mean([len(c) for c in str(x).split()])) \n",
    "totaldata['haslocacion'] = totaldata['location'].notna()\n",
    "totaldata.drop('location',axis=1,inplace=True)"
   ]
  },
  {
   "cell_type": "code",
   "execution_count": 21,
   "metadata": {},
   "outputs": [],
   "source": [
    "############## keyword"
   ]
  },
  {
   "cell_type": "code",
   "execution_count": 22,
   "metadata": {},
   "outputs": [],
   "source": [
    "keyword = pd.read_csv('data_process/keyword.csv')\n",
    "totaldata = totaldata.merge(keyword,how='left')\n",
    "totaldata.drop('keyword',axis=1,inplace=True)\n",
    "del keyword"
   ]
  },
  {
   "cell_type": "code",
   "execution_count": 23,
   "metadata": {},
   "outputs": [],
   "source": [
    "############## links, label, mentions"
   ]
  },
  {
   "cell_type": "code",
   "execution_count": 24,
   "metadata": {},
   "outputs": [],
   "source": [
    "def get_links(x):\n",
    "    l = re.findall(r'(http|ftp|https)://([\\w_-]+(?:(?:\\.[\\w_-]+)+))([\\w.,@?^=%&:/~+#-]*[\\w@?^=%&/~+#-])?',x)\n",
    "    return l\n",
    "def hashtags(x): \n",
    "    return re.findall(r'#[a-zA-z0-9_]{1,}',x)\n",
    "def arrobas(x):\n",
    "    return re.findall(r'@[a-zA-z0-9_]{1,}',x)\n",
    "\n",
    "totaldata[[\"mentions_count\",\"links_count\",\"label_count\"]] =\\\n",
    "                        totaldata[\"text\"].apply(lambda x: pd.Series([len(arrobas(x)),len(hashtags(x)),len(get_links(x))]))"
   ]
  },
  {
   "cell_type": "code",
   "execution_count": 25,
   "metadata": {},
   "outputs": [],
   "source": [
    "############# dominos "
   ]
  },
  {
   "cell_type": "code",
   "execution_count": 26,
   "metadata": {},
   "outputs": [],
   "source": [
    "enlaces_target = pd.read_csv('data_process/enlaces.csv')\n",
    "totaldata = totaldata.merge(enlaces_target,how='left').fillna(0)\n",
    "del enlaces_target"
   ]
  },
  {
   "cell_type": "code",
   "execution_count": 27,
   "metadata": {},
   "outputs": [],
   "source": [
    "############# taggs"
   ]
  },
  {
   "cell_type": "code",
   "execution_count": 28,
   "metadata": {},
   "outputs": [],
   "source": [
    "tagged=pd.read_csv('data_process/tagged.csv')\n",
    "totaldata = pd.concat([totaldata, tagged],axis=1)"
   ]
  },
  {
   "cell_type": "code",
   "execution_count": 29,
   "metadata": {},
   "outputs": [],
   "source": [
    "totaldata.to_csv('data_process/totaldata.csv',index=False)"
   ]
  },
  {
   "cell_type": "code",
   "execution_count": 30,
   "metadata": {},
   "outputs": [
    {
     "data": {
      "text/plain": [
       "Index(['id', 'text', 'target', 'textsize', 'punctuation_count',\n",
       "       'word_mean_len', 'haslocacion', 'keyword_t_count', 'keyword_f_count',\n",
       "       'keyword_metric', 'mentions_count', 'links_count', 'label_count',\n",
       "       'domain_metric_mean', 'domain_metric_std', 'domain_metric_max',\n",
       "       'domain_metric_min', 'PRP$', 'NNS', 'VBP', 'DT', 'NNP', 'IN', 'NN',\n",
       "       'PRP', 'VBD', 'TO', 'VB', 'VBG', 'VBN', 'JJ', 'CC', 'RB', 'VBZ', 'MD',\n",
       "       'EX', 'CD', 'WP', 'RP', 'NNPS', 'JJR', 'WRB', 'JJS', 'WDT', 'RBR',\n",
       "       'RBS', 'FW', 'PDT', 'POS', 'UH', 'SYM', 'WP$', ''''],\n",
       "      dtype='object')"
      ]
     },
     "execution_count": 30,
     "metadata": {},
     "output_type": "execute_result"
    }
   ],
   "source": [
    "totaldata.columns"
   ]
  }
 ],
 "metadata": {
  "kernelspec": {
   "display_name": "Python 3",
   "language": "python",
   "name": "python3"
  },
  "language_info": {
   "codemirror_mode": {
    "name": "ipython",
    "version": 3
   },
   "file_extension": ".py",
   "mimetype": "text/x-python",
   "name": "python",
   "nbconvert_exporter": "python",
   "pygments_lexer": "ipython3",
   "version": "3.7.6"
  }
 },
 "nbformat": 4,
 "nbformat_minor": 4
}
