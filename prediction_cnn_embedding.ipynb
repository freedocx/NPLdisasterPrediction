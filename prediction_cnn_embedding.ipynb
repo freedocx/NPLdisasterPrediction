{
 "cells": [
  {
   "cell_type": "code",
   "execution_count": 1,
   "metadata": {},
   "outputs": [],
   "source": [
    "%matplotlib inline\n",
    "import matplotlib.pyplot as plt\n",
    "import re\n",
    "import pandas as pd\n",
    "import numpy as np\n",
    "import pickle\n",
    "from sklearn.metrics import (\n",
    "    precision_score, \n",
    "    recall_score, \n",
    "    f1_score, \n",
    "    classification_report,\n",
    "    accuracy_score\n",
    ")"
   ]
  },
  {
   "cell_type": "code",
   "execution_count": 2,
   "metadata": {},
   "outputs": [],
   "source": [
    "from keras.models import Model\n",
    "from keras import layers\n",
    "from keras.initializers import Constant\n",
    "from sklearn.model_selection import train_test_split\n",
    "from sklearn.preprocessing import MinMaxScaler\n",
    "from keras.optimizers import Adam, SGD\n",
    "from keras.callbacks import EarlyStopping, ModelCheckpoint, ReduceLROnPlateau\n",
    "from keras import regularizers"
   ]
  },
  {
   "cell_type": "code",
   "execution_count": 3,
   "metadata": {},
   "outputs": [],
   "source": [
    "train = pd.read_csv('train.csv', low_memory=False)\n",
    "train_id = pd.read_csv('train.csv', low_memory=False, usecols = ['id'])\n",
    "test_id  = pd.read_csv('test.csv', low_memory=False, usecols = ['id'])\n",
    "train_target = pd.read_csv('train.csv', usecols = ['target'])\n",
    "embedding_matrix = pd.read_csv('data_process/embedding_matrix200d').values"
   ]
  },
  {
   "cell_type": "code",
   "execution_count": 4,
   "metadata": {},
   "outputs": [],
   "source": [
    "totaldata = pd.read_csv('data_process/totaldata.csv',low_memory=False)"
   ]
  },
  {
   "cell_type": "code",
   "execution_count": 5,
   "metadata": {},
   "outputs": [
    {
     "data": {
      "text/plain": [
       "(10876, 57)"
      ]
     },
     "execution_count": 5,
     "metadata": {},
     "output_type": "execute_result"
    }
   ],
   "source": [
    "totaldata.shape"
   ]
  },
  {
   "cell_type": "code",
   "execution_count": 6,
   "metadata": {},
   "outputs": [],
   "source": [
    "del totaldata['text']\n",
    "del totaldata['keyword']\n",
    "del totaldata['location']\n",
    "del totaldata['id']"
   ]
  },
  {
   "cell_type": "code",
   "execution_count": 7,
   "metadata": {},
   "outputs": [],
   "source": [
    "train = totaldata[totaldata['target'] != 2]\n",
    "test = totaldata[totaldata['target'] == 2]"
   ]
  },
  {
   "cell_type": "code",
   "execution_count": 8,
   "metadata": {},
   "outputs": [],
   "source": [
    "del train['target']\n",
    "del test['target']"
   ]
  },
  {
   "cell_type": "code",
   "execution_count": 9,
   "metadata": {},
   "outputs": [],
   "source": [
    "f_num = train.shape[1]"
   ]
  },
  {
   "cell_type": "code",
   "execution_count": 10,
   "metadata": {},
   "outputs": [],
   "source": [
    "num_words = embedding_matrix.shape[0]\n",
    "e_num = embedding_matrix.shape[1]"
   ]
  },
  {
   "cell_type": "code",
   "execution_count": 11,
   "metadata": {},
   "outputs": [
    {
     "data": {
      "text/plain": [
       "(False, False)"
      ]
     },
     "execution_count": 11,
     "metadata": {},
     "output_type": "execute_result"
    }
   ],
   "source": [
    "test.isna().any().any(), train.isna().any().any()"
   ]
  },
  {
   "cell_type": "code",
   "execution_count": 12,
   "metadata": {},
   "outputs": [
    {
     "data": {
      "text/plain": [
       "Index(['target', 'keyword_metric', 'domain_metric_mean', 'domain_metric_std',\n",
       "       'domain_metric_max', 'domain_metric_min', 'textsize',\n",
       "       'punctuation_count', 'word_mean_len', 'haslocacion', 'word_count',\n",
       "       'upper_count', 'white_count', 'url_count', 'hashtag_count',\n",
       "       'mention_count', 'PRP$', 'NNS', 'VBP', 'DT', 'NNP', 'IN', 'NN', 'PRP',\n",
       "       'VBD', 'TO', 'VB', 'VBG', 'VBN', 'JJ', 'CC', 'RB', 'VBZ', 'MD', 'EX',\n",
       "       'CD', 'WP', 'RP', 'NNPS', 'JJR', 'WRB', 'JJS', 'WDT', 'RBR', 'RBS',\n",
       "       'FW', 'PDT', 'POS', 'UH', 'SYM', 'WP$', '''', 'question_count'],\n",
       "      dtype='object')"
      ]
     },
     "execution_count": 12,
     "metadata": {},
     "output_type": "execute_result"
    }
   ],
   "source": [
    "totaldata.columns"
   ]
  },
  {
   "cell_type": "code",
   "execution_count": 14,
   "metadata": {},
   "outputs": [],
   "source": [
    "pickle_in = open(\"data_process/tweet_pad_200d.pickle\",\"rb\")\n",
    "tweet_pad = pickle.load(pickle_in)"
   ]
  },
  {
   "cell_type": "code",
   "execution_count": 15,
   "metadata": {},
   "outputs": [],
   "source": [
    "embedd_train =tweet_pad[:train.shape[0]]\n",
    "embedd_test=tweet_pad[train.shape[0]:]"
   ]
  },
  {
   "cell_type": "code",
   "execution_count": 16,
   "metadata": {},
   "outputs": [
    {
     "data": {
      "text/plain": [
       "((7613, 100), (3263, 100), (7613, 52), (3263, 52))"
      ]
     },
     "execution_count": 16,
     "metadata": {},
     "output_type": "execute_result"
    }
   ],
   "source": [
    "embedd_train.shape, embedd_test.shape, train.shape, test.shape"
   ]
  },
  {
   "cell_type": "code",
   "execution_count": 17,
   "metadata": {},
   "outputs": [],
   "source": [
    "embedd_test = pd.DataFrame(embedd_test)\n",
    "embedd_train = pd.DataFrame(embedd_train)"
   ]
  },
  {
   "cell_type": "code",
   "execution_count": 19,
   "metadata": {},
   "outputs": [],
   "source": [
    "scaled = MinMaxScaler()\n",
    "train = pd.DataFrame(scaled.fit_transform(train), columns= train.columns)\n",
    "test = pd.DataFrame(scaled.fit_transform(test), columns= test.columns)"
   ]
  },
  {
   "cell_type": "code",
   "execution_count": 21,
   "metadata": {},
   "outputs": [
    {
     "data": {
      "text/plain": [
       "Index(['keyword_metric', 'domain_metric_mean', 'domain_metric_std',\n",
       "       'domain_metric_max', 'domain_metric_min', 'textsize',\n",
       "       'punctuation_count', 'word_mean_len', 'haslocacion', 'word_count',\n",
       "       'upper_count', 'white_count', 'url_count', 'hashtag_count',\n",
       "       'mention_count', 'PRP$', 'NNS', 'VBP', 'DT', 'NNP', 'IN', 'NN', 'PRP',\n",
       "       'VBD', 'TO', 'VB', 'VBG', 'VBN', 'JJ', 'CC', 'RB', 'VBZ', 'MD', 'EX',\n",
       "       'CD', 'WP', 'RP', 'NNPS', 'JJR', 'WRB', 'JJS', 'WDT', 'RBR', 'RBS',\n",
       "       'FW', 'PDT', 'POS', 'UH', 'SYM', 'WP$', '''', 'question_count'],\n",
       "      dtype='object')"
      ]
     },
     "execution_count": 21,
     "metadata": {},
     "output_type": "execute_result"
    }
   ],
   "source": [
    "train.columns"
   ]
  },
  {
   "cell_type": "code",
   "execution_count": 22,
   "metadata": {},
   "outputs": [],
   "source": [
    "test = pd.concat([test,embedd_test],axis=1)\n",
    "train = pd.concat([train,embedd_train],axis=1)"
   ]
  },
  {
   "cell_type": "code",
   "execution_count": 23,
   "metadata": {},
   "outputs": [
    {
     "data": {
      "text/plain": [
       "(False, False)"
      ]
     },
     "execution_count": 23,
     "metadata": {},
     "output_type": "execute_result"
    }
   ],
   "source": [
    "train.isna().any().any() , test.isna().any().any()"
   ]
  },
  {
   "cell_type": "raw",
   "metadata": {},
   "source": [
    "features_input = layers.Input(shape=(f_num,), name=\"features\")\n",
    "x = layers.Dense(512, activation='relu')(features_input)\n",
    "x = layers.Dropout(0.1)(x)\n",
    "features_output = layers.Dropout(0.2)(x)\n",
    "\n",
    "emb_input = layers.Input(shape=(None,), name=\"embedd\")\n",
    "x = layers.Embedding(num_words,e_num,\n",
    "                     embeddings_initializer=Constant(embedding_matrix),\n",
    "                     input_length=e_num,trainable=False)(emb_input)\n",
    "x = layers.SpatialDropout1D(0.08)(x)\n",
    "x = layers.Conv1D(512, 7, padding=\"valid\", activation='relu', strides=4)(x)\n",
    "x = layers.Dropout(0.1)(x)\n",
    "emb_output = layers.GlobalMaxPooling1D()(x)\n",
    "\n",
    "#x = layers.GRU(128,dropout=0.1,recurrent_dropout=0.08,return_sequences=True)(x)\n",
    "\n",
    "x = layers.concatenate([features_output, emb_output])\n",
    "x = layers.Dense(256,activation='relu')(x)\n",
    "x = layers.Dropout(0.1)(x)\n",
    "x = layers.Dense(32,activation='relu')(x)\n",
    "x = layers.Dropout(0.12)(x)\n",
    "x = layers.Dense(6,activation='relu')(x)\n",
    "x = layers.Dropout(0.14)(x)\n",
    "conv1d = layers.Dense(1, activation='sigmoid')(x)\n",
    "\n",
    "model4 = Model(\n",
    "    inputs=[features_input,emb_input],\n",
    "    outputs=[conv1d],\n",
    ")\n",
    "#optimzer = SGD(learning_rate=1e-5, momentum=0.8)\n",
    "optimzer=Adam(learning_rate=1e-5)\n",
    "model4.compile(\n",
    "    loss='binary_crossentropy',\n",
    "    optimizer=optimzer,\n",
    "    metrics=['accuracy']\n",
    ")"
   ]
  },
  {
   "cell_type": "code",
   "execution_count": 31,
   "metadata": {},
   "outputs": [],
   "source": [
    "#features_input = layers.Input(shape=(f_num,), name=\"features\")\n",
    "#x = layers.Dense(256, activation='relu')(features_input)\n",
    "#x = layers.Dropout(0.1)(x)\n",
    "#features_output = layers.Dropout(0.2)(x)\n",
    "\n",
    "emb_input = layers.Input(shape=(None,), name=\"embedd\")\n",
    "x = layers.Embedding(input_dim=embedding_matrix.shape[0], \n",
    "                        output_dim=embedding_matrix.shape[1], \n",
    "                        weights = [embedding_matrix], \n",
    "                        input_length=e_num)(emb_input)\n",
    "x = layers.Bidirectional(layers.LSTM(200, return_sequences = True , recurrent_dropout=0.25, kernel_regularizer=regularizers.l2(0.01)))(x)\n",
    "x = layers.GlobalMaxPool1D()(x)\n",
    "x = layers.BatchNormalization()(x)\n",
    "x = layers.Dense(200,activation='relu')(x)\n",
    "x = layers.Dropout(0.3)(x)\n",
    "#emb_output = layers.Dropout(0.3)(x)\n",
    "\n",
    "#x = layers.GRU(128,dropout=0.1,recurrent_dropout=0.08,return_sequences=True)(x)\n",
    "\n",
    "#x = layers.concatenate([features_output, emb_output])\n",
    "#x = layers.Dense(128,activation='relu')(x)\n",
    "#x = layers.Dropout(0.1)(x)\n",
    "#x = layers.Dense(32,activation='relu')(x)\n",
    "#x = layers.Dropout(0.12)(x)\n",
    "#x = layers.Dense(6,activation='relu')(x)\n",
    "#x = layers.Dropout(0.14)(x)\n",
    "conv1d = layers.Dense(1, activation='sigmoid')(x)\n",
    "\n",
    "model4 = Model(\n",
    "#features_input\n",
    "    inputs=[emb_input],\n",
    "    outputs=[conv1d],\n",
    ")\n",
    "#optimzer = SGD(learning_rate=1e-5, momentum=0.8)\n",
    "optimzer=Adam(learning_rate=1e-5)\n",
    "model4.compile(\n",
    "    loss='binary_crossentropy',\n",
    "    optimizer=optimzer,\n",
    "    metrics=['accuracy']\n",
    ")"
   ]
  },
  {
   "cell_type": "code",
   "execution_count": 32,
   "metadata": {},
   "outputs": [],
   "source": [
    "#model4.summary()"
   ]
  },
  {
   "cell_type": "code",
   "execution_count": 33,
   "metadata": {},
   "outputs": [],
   "source": [
    "#early_stop = EarlyStopping(\n",
    "#    monitor='val_accuracy',\n",
    "#    patience=6)\n",
    "\n",
    "checkpoint = ModelCheckpoint(\n",
    "    'model.h5', \n",
    "    monitor = 'val_loss', \n",
    "    verbose = 1, \n",
    "    save_best_only = True\n",
    ")\n",
    "reduce_lr = ReduceLROnPlateau(\n",
    "    monitor = 'val_loss', \n",
    "    factor = 0.2, \n",
    "    verbose = 1, \n",
    "    patience = 5,                        \n",
    "    min_lr = 0.001\n",
    ")"
   ]
  },
  {
   "cell_type": "code",
   "execution_count": null,
   "metadata": {},
   "outputs": [
    {
     "name": "stdout",
     "output_type": "stream",
     "text": [
      "Epoch 1/100\n",
      "359/435 [=======================>......] - ETA: 37s - loss: 6.9976 - accuracy: 0.5571"
     ]
    }
   ],
   "source": [
    "history=model4.fit( \n",
    "#    {\"features\": train.values[:,:f_num], \"embedd\": train.values[:,f_num:]},\n",
    "    embedd_train.values,\n",
    "    train_target.values,\n",
    "    batch_size=14,\n",
    "    epochs=100,\n",
    "    validation_split=0.2,\n",
    "    verbose=1,\n",
    "   callbacks=[reduce_lr,checkpoint]\n",
    ")"
   ]
  },
  {
   "cell_type": "code",
   "execution_count": 40,
   "metadata": {},
   "outputs": [],
   "source": [
    "def plot_history(history):\n",
    "    hist = pd.DataFrame(history.history)\n",
    "    hist['epoch'] = history.epoch\n",
    "\n",
    "    plt.figure()\n",
    "    plt.xlabel('Epoch')\n",
    "    plt.ylabel('Accuracy')\n",
    "    plt.title('Accuracy over time')\n",
    "    plt.plot(hist['epoch'], hist['accuracy'],\n",
    "           label='Train Error')\n",
    "    plt.plot(hist['epoch'], hist['val_accuracy'],\n",
    "           label = 'Val Error')\n",
    "    plt.ylim([0,1])\n",
    "    plt.legend()\n",
    "    plt.show()"
   ]
  },
  {
   "cell_type": "code",
   "execution_count": 41,
   "metadata": {},
   "outputs": [
    {
     "data": {
      "image/png": "[encoded data removed]",
      "text/plain": [
       "<Figure size 432x288 with 1 Axes>"
      ]
     },
     "metadata": {
      "needs_background": "light"
     },
     "output_type": "display_data"
    }
   ],
   "source": [
    "plot_history(history)"
   ]
  },
  {
   "cell_type": "code",
   "execution_count": 42,
   "metadata": {},
   "outputs": [
    {
     "data": {
      "text/plain": [
       "52"
      ]
     },
     "execution_count": 42,
     "metadata": {},
     "output_type": "execute_result"
    }
   ],
   "source": [
    "f_num"
   ]
  },
  {
   "cell_type": "code",
   "execution_count": 43,
   "metadata": {},
   "outputs": [
    {
     "data": {
      "text/plain": [
       "(3263, 100)"
      ]
     },
     "execution_count": 43,
     "metadata": {},
     "output_type": "execute_result"
    }
   ],
   "source": [
    "test.values[:,f_num:].shape"
   ]
  },
  {
   "cell_type": "code",
   "execution_count": null,
   "metadata": {},
   "outputs": [],
   "source": []
  },
  {
   "cell_type": "code",
   "execution_count": null,
   "metadata": {},
   "outputs": [],
   "source": []
  },
  {
   "cell_type": "code",
   "execution_count": null,
   "metadata": {},
   "outputs": [],
   "source": []
  },
  {
   "cell_type": "code",
   "execution_count": 44,
   "metadata": {},
   "outputs": [
    {
     "data": {
      "text/html": [
       "<div>\n",
       "<style scoped>\n",
       "    .dataframe tbody tr th:only-of-type {\n",
       "        vertical-align: middle;\n",
       "    }\n",
       "\n",
       "    .dataframe tbody tr th {\n",
       "        vertical-align: top;\n",
       "    }\n",
       "\n",
       "    .dataframe thead th {\n",
       "        text-align: right;\n",
       "    }\n",
       "</style>\n",
       "<table border=\"1\" class=\"dataframe\">\n",
       "  <thead>\n",
       "    <tr style=\"text-align: right;\">\n",
       "      <th></th>\n",
       "      <th>0</th>\n",
       "      <th>1</th>\n",
       "      <th>2</th>\n",
       "      <th>3</th>\n",
       "      <th>4</th>\n",
       "      <th>5</th>\n",
       "      <th>6</th>\n",
       "      <th>7</th>\n",
       "      <th>8</th>\n",
       "      <th>9</th>\n",
       "      <th>...</th>\n",
       "      <th>90</th>\n",
       "      <th>91</th>\n",
       "      <th>92</th>\n",
       "      <th>93</th>\n",
       "      <th>94</th>\n",
       "      <th>95</th>\n",
       "      <th>96</th>\n",
       "      <th>97</th>\n",
       "      <th>98</th>\n",
       "      <th>99</th>\n",
       "    </tr>\n",
       "  </thead>\n",
       "  <tbody>\n",
       "    <tr>\n",
       "      <th>0</th>\n",
       "      <td>639</td>\n",
       "      <td>1367</td>\n",
       "      <td>53</td>\n",
       "      <td>27</td>\n",
       "      <td>0</td>\n",
       "      <td>0</td>\n",
       "      <td>0</td>\n",
       "      <td>0</td>\n",
       "      <td>0</td>\n",
       "      <td>0</td>\n",
       "      <td>...</td>\n",
       "      <td>0</td>\n",
       "      <td>0</td>\n",
       "      <td>0</td>\n",
       "      <td>0</td>\n",
       "      <td>0</td>\n",
       "      <td>0</td>\n",
       "      <td>0</td>\n",
       "      <td>0</td>\n",
       "      <td>0</td>\n",
       "      <td>0</td>\n",
       "    </tr>\n",
       "    <tr>\n",
       "      <th>1</th>\n",
       "      <td>278</td>\n",
       "      <td>154</td>\n",
       "      <td>1223</td>\n",
       "      <td>1729</td>\n",
       "      <td>541</td>\n",
       "      <td>1340</td>\n",
       "      <td>150</td>\n",
       "      <td>0</td>\n",
       "      <td>0</td>\n",
       "      <td>0</td>\n",
       "      <td>...</td>\n",
       "      <td>0</td>\n",
       "      <td>0</td>\n",
       "      <td>0</td>\n",
       "      <td>0</td>\n",
       "      <td>0</td>\n",
       "      <td>0</td>\n",
       "      <td>0</td>\n",
       "      <td>0</td>\n",
       "      <td>0</td>\n",
       "      <td>0</td>\n",
       "    </tr>\n",
       "    <tr>\n",
       "      <th>2</th>\n",
       "      <td>83</td>\n",
       "      <td>2</td>\n",
       "      <td>708</td>\n",
       "      <td>2645</td>\n",
       "      <td>16341</td>\n",
       "      <td>4557</td>\n",
       "      <td>769</td>\n",
       "      <td>560</td>\n",
       "      <td>253</td>\n",
       "      <td>0</td>\n",
       "      <td>...</td>\n",
       "      <td>0</td>\n",
       "      <td>0</td>\n",
       "      <td>0</td>\n",
       "      <td>0</td>\n",
       "      <td>0</td>\n",
       "      <td>0</td>\n",
       "      <td>0</td>\n",
       "      <td>0</td>\n",
       "      <td>0</td>\n",
       "      <td>0</td>\n",
       "    </tr>\n",
       "    <tr>\n",
       "      <th>3</th>\n",
       "      <td>271</td>\n",
       "      <td>3251</td>\n",
       "      <td>5619</td>\n",
       "      <td>1241</td>\n",
       "      <td>0</td>\n",
       "      <td>0</td>\n",
       "      <td>0</td>\n",
       "      <td>0</td>\n",
       "      <td>0</td>\n",
       "      <td>0</td>\n",
       "      <td>...</td>\n",
       "      <td>0</td>\n",
       "      <td>0</td>\n",
       "      <td>0</td>\n",
       "      <td>0</td>\n",
       "      <td>0</td>\n",
       "      <td>0</td>\n",
       "      <td>0</td>\n",
       "      <td>0</td>\n",
       "      <td>0</td>\n",
       "      <td>0</td>\n",
       "    </tr>\n",
       "    <tr>\n",
       "      <th>4</th>\n",
       "      <td>121</td>\n",
       "      <td>597</td>\n",
       "      <td>261</td>\n",
       "      <td>227</td>\n",
       "      <td>1165</td>\n",
       "      <td>0</td>\n",
       "      <td>0</td>\n",
       "      <td>0</td>\n",
       "      <td>0</td>\n",
       "      <td>0</td>\n",
       "      <td>...</td>\n",
       "      <td>0</td>\n",
       "      <td>0</td>\n",
       "      <td>0</td>\n",
       "      <td>0</td>\n",
       "      <td>0</td>\n",
       "      <td>0</td>\n",
       "      <td>0</td>\n",
       "      <td>0</td>\n",
       "      <td>0</td>\n",
       "      <td>0</td>\n",
       "    </tr>\n",
       "    <tr>\n",
       "      <th>...</th>\n",
       "      <td>...</td>\n",
       "      <td>...</td>\n",
       "      <td>...</td>\n",
       "      <td>...</td>\n",
       "      <td>...</td>\n",
       "      <td>...</td>\n",
       "      <td>...</td>\n",
       "      <td>...</td>\n",
       "      <td>...</td>\n",
       "      <td>...</td>\n",
       "      <td>...</td>\n",
       "      <td>...</td>\n",
       "      <td>...</td>\n",
       "      <td>...</td>\n",
       "      <td>...</td>\n",
       "      <td>...</td>\n",
       "      <td>...</td>\n",
       "      <td>...</td>\n",
       "      <td>...</td>\n",
       "      <td>...</td>\n",
       "      <td>...</td>\n",
       "    </tr>\n",
       "    <tr>\n",
       "      <th>3258</th>\n",
       "      <td>154</td>\n",
       "      <td>752</td>\n",
       "      <td>1959</td>\n",
       "      <td>2361</td>\n",
       "      <td>752</td>\n",
       "      <td>19917</td>\n",
       "      <td>19918</td>\n",
       "      <td>0</td>\n",
       "      <td>0</td>\n",
       "      <td>0</td>\n",
       "      <td>...</td>\n",
       "      <td>0</td>\n",
       "      <td>0</td>\n",
       "      <td>0</td>\n",
       "      <td>0</td>\n",
       "      <td>0</td>\n",
       "      <td>0</td>\n",
       "      <td>0</td>\n",
       "      <td>0</td>\n",
       "      <td>0</td>\n",
       "      <td>0</td>\n",
       "    </tr>\n",
       "    <tr>\n",
       "      <th>3259</th>\n",
       "      <td>16</td>\n",
       "      <td>5912</td>\n",
       "      <td>1108</td>\n",
       "      <td>58</td>\n",
       "      <td>178</td>\n",
       "      <td>89</td>\n",
       "      <td>772</td>\n",
       "      <td>4559</td>\n",
       "      <td>185</td>\n",
       "      <td>3232</td>\n",
       "      <td>...</td>\n",
       "      <td>0</td>\n",
       "      <td>0</td>\n",
       "      <td>0</td>\n",
       "      <td>0</td>\n",
       "      <td>0</td>\n",
       "      <td>0</td>\n",
       "      <td>0</td>\n",
       "      <td>0</td>\n",
       "      <td>0</td>\n",
       "      <td>0</td>\n",
       "    </tr>\n",
       "    <tr>\n",
       "      <th>3260</th>\n",
       "      <td>667</td>\n",
       "      <td>443</td>\n",
       "      <td>341</td>\n",
       "      <td>721</td>\n",
       "      <td>0</td>\n",
       "      <td>0</td>\n",
       "      <td>0</td>\n",
       "      <td>0</td>\n",
       "      <td>0</td>\n",
       "      <td>0</td>\n",
       "      <td>...</td>\n",
       "      <td>0</td>\n",
       "      <td>0</td>\n",
       "      <td>0</td>\n",
       "      <td>0</td>\n",
       "      <td>0</td>\n",
       "      <td>0</td>\n",
       "      <td>0</td>\n",
       "      <td>0</td>\n",
       "      <td>0</td>\n",
       "      <td>0</td>\n",
       "    </tr>\n",
       "    <tr>\n",
       "      <th>3261</th>\n",
       "      <td>4156</td>\n",
       "      <td>517</td>\n",
       "      <td>323</td>\n",
       "      <td>81</td>\n",
       "      <td>1663</td>\n",
       "      <td>1796</td>\n",
       "      <td>0</td>\n",
       "      <td>0</td>\n",
       "      <td>0</td>\n",
       "      <td>0</td>\n",
       "      <td>...</td>\n",
       "      <td>0</td>\n",
       "      <td>0</td>\n",
       "      <td>0</td>\n",
       "      <td>0</td>\n",
       "      <td>0</td>\n",
       "      <td>0</td>\n",
       "      <td>0</td>\n",
       "      <td>0</td>\n",
       "      <td>0</td>\n",
       "      <td>0</td>\n",
       "    </tr>\n",
       "    <tr>\n",
       "      <th>3262</th>\n",
       "      <td>89</td>\n",
       "      <td>177</td>\n",
       "      <td>2589</td>\n",
       "      <td>1443</td>\n",
       "      <td>11</td>\n",
       "      <td>162</td>\n",
       "      <td>177</td>\n",
       "      <td>16</td>\n",
       "      <td>0</td>\n",
       "      <td>0</td>\n",
       "      <td>...</td>\n",
       "      <td>0</td>\n",
       "      <td>0</td>\n",
       "      <td>0</td>\n",
       "      <td>0</td>\n",
       "      <td>0</td>\n",
       "      <td>0</td>\n",
       "      <td>0</td>\n",
       "      <td>0</td>\n",
       "      <td>0</td>\n",
       "      <td>0</td>\n",
       "    </tr>\n",
       "  </tbody>\n",
       "</table>\n",
       "<p>3263 rows × 100 columns</p>\n",
       "</div>"
      ],
      "text/plain": [
       "        0     1     2     3      4      5      6     7    8     9   ...  90  \\\n",
       "0      639  1367    53    27      0      0      0     0    0     0  ...   0   \n",
       "1      278   154  1223  1729    541   1340    150     0    0     0  ...   0   \n",
       "2       83     2   708  2645  16341   4557    769   560  253     0  ...   0   \n",
       "3      271  3251  5619  1241      0      0      0     0    0     0  ...   0   \n",
       "4      121   597   261   227   1165      0      0     0    0     0  ...   0   \n",
       "...    ...   ...   ...   ...    ...    ...    ...   ...  ...   ...  ...  ..   \n",
       "3258   154   752  1959  2361    752  19917  19918     0    0     0  ...   0   \n",
       "3259    16  5912  1108    58    178     89    772  4559  185  3232  ...   0   \n",
       "3260   667   443   341   721      0      0      0     0    0     0  ...   0   \n",
       "3261  4156   517   323    81   1663   1796      0     0    0     0  ...   0   \n",
       "3262    89   177  2589  1443     11    162    177    16    0     0  ...   0   \n",
       "\n",
       "      91  92  93  94  95  96  97  98  99  \n",
       "0      0   0   0   0   0   0   0   0   0  \n",
       "1      0   0   0   0   0   0   0   0   0  \n",
       "2      0   0   0   0   0   0   0   0   0  \n",
       "3      0   0   0   0   0   0   0   0   0  \n",
       "4      0   0   0   0   0   0   0   0   0  \n",
       "...   ..  ..  ..  ..  ..  ..  ..  ..  ..  \n",
       "3258   0   0   0   0   0   0   0   0   0  \n",
       "3259   0   0   0   0   0   0   0   0   0  \n",
       "3260   0   0   0   0   0   0   0   0   0  \n",
       "3261   0   0   0   0   0   0   0   0   0  \n",
       "3262   0   0   0   0   0   0   0   0   0  \n",
       "\n",
       "[3263 rows x 100 columns]"
      ]
     },
     "execution_count": 44,
     "metadata": {},
     "output_type": "execute_result"
    }
   ],
   "source": [
    "embedd_test"
   ]
  },
  {
   "cell_type": "code",
   "execution_count": 51,
   "metadata": {},
   "outputs": [],
   "source": [
    "#predict = model4.predict([test.values[:,:f_num],embedd_test.values])\n",
    "predict = model4.predict(embedd_test.values)\n",
    "predict=np.round(predict).astype(int).reshape(3263)\n",
    "submit = pd.read_csv('test.csv', usecols= ['id'])\n",
    "submit['target'] = predict\n",
    "submit.to_csv('submits/200dTw-BRNN.csv',index=False)"
   ]
  },
  {
   "cell_type": "code",
   "execution_count": 52,
   "metadata": {},
   "outputs": [
    {
     "data": {
      "text/plain": [
       "0    2072\n",
       "1    1191\n",
       "Name: target, dtype: int64"
      ]
     },
     "execution_count": 52,
     "metadata": {},
     "output_type": "execute_result"
    }
   ],
   "source": [
    "submit['target'].value_counts()"
   ]
  },
  {
   "cell_type": "code",
   "execution_count": null,
   "metadata": {},
   "outputs": [],
   "source": []
  },
  {
   "cell_type": "code",
   "execution_count": null,
   "metadata": {},
   "outputs": [],
   "source": []
  }
 ],
 "metadata": {
  "kernelspec": {
   "display_name": "Python 3",
   "language": "python",
   "name": "python3"
  },
  "language_info": {
   "codemirror_mode": {
    "name": "ipython",
    "version": 3
   },
   "file_extension": ".py",
   "mimetype": "text/x-python",
   "name": "python",
   "nbconvert_exporter": "python",
   "pygments_lexer": "ipython3",
   "version": "3.7.6"
  }
 },
 "nbformat": 4,
 "nbformat_minor": 4
}
