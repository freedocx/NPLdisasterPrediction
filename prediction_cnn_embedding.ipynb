{
 "cells": [
  {
   "cell_type": "code",
   "execution_count": 95,
   "metadata": {},
   "outputs": [],
   "source": [
    "%matplotlib inline\n",
    "import matplotlib.pyplot as plt\n",
    "import re\n",
    "import pandas as pd\n",
    "import numpy as np\n",
    "import pickle"
   ]
  },
  {
   "cell_type": "code",
   "execution_count": 96,
   "metadata": {},
   "outputs": [],
   "source": [
    "from keras.models import Model\n",
    "from keras import layers\n",
    "from keras.initializers import Constant\n",
    "from sklearn.model_selection import train_test_split\n",
    "from sklearn.preprocessing import MinMaxScaler\n",
    "from keras.optimizers import Adam"
   ]
  },
  {
   "cell_type": "code",
   "execution_count": 98,
   "metadata": {},
   "outputs": [],
   "source": [
    "train = pd.read_csv('train.csv', low_memory=False)\n",
    "train_id = pd.read_csv('train.csv', low_memory=False, usecols = ['id'])\n",
    "test_id  = pd.read_csv('test.csv', low_memory=False, usecols = ['id'])\n",
    "embedding_matrix = pd.read_csv('data_process/embedding_matrix').values"
   ]
  },
  {
   "cell_type": "code",
   "execution_count": 50,
   "metadata": {},
   "outputs": [],
   "source": [
    "totaldata = pd.read_csv('totaldata.csv',low_memory=False)"
   ]
  },
  {
   "cell_type": "code",
   "execution_count": 51,
   "metadata": {},
   "outputs": [
    {
     "data": {
      "text/plain": [
       "(10766, 51)"
      ]
     },
     "execution_count": 51,
     "metadata": {},
     "output_type": "execute_result"
    }
   ],
   "source": [
    "totaldata.shape"
   ]
  },
  {
   "cell_type": "code",
   "execution_count": 52,
   "metadata": {},
   "outputs": [],
   "source": [
    "train = totaldata[totaldata['target'] != 2]\n",
    "test = totaldata[totaldata['target'] == 2]"
   ]
  },
  {
   "cell_type": "code",
   "execution_count": 53,
   "metadata": {},
   "outputs": [],
   "source": [
    "train_target = train.loc[train['text'].drop_duplicates().index,'target']"
   ]
  },
  {
   "cell_type": "code",
   "execution_count": 54,
   "metadata": {},
   "outputs": [],
   "source": [
    "del totaldata['id']\n",
    "del train['id']\n",
    "del test['id']\n",
    "del train['target']\n",
    "del test['target']\n",
    "del train['text']\n",
    "del test['text']\n",
    "del totaldata['text']"
   ]
  },
  {
   "cell_type": "code",
   "execution_count": 55,
   "metadata": {},
   "outputs": [],
   "source": [
    "scaled = MinMaxScaler()"
   ]
  },
  {
   "cell_type": "code",
   "execution_count": 56,
   "metadata": {},
   "outputs": [],
   "source": [
    "scaled_train = scaled.fit_transform(train)\n",
    "scaled_test = scaled.fit_transform(test)"
   ]
  },
  {
   "cell_type": "code",
   "execution_count": 57,
   "metadata": {},
   "outputs": [],
   "source": [
    "train_features = pd.DataFrame(scaled_train, columns= train.columns)\n",
    "test_features = pd.DataFrame(scaled_test, columns= test.columns)"
   ]
  },
  {
   "cell_type": "code",
   "execution_count": 58,
   "metadata": {},
   "outputs": [],
   "source": [
    "num_words = embedding_matrix.shape[0]"
   ]
  },
  {
   "cell_type": "code",
   "execution_count": 73,
   "metadata": {},
   "outputs": [],
   "source": [
    "features_input = layers.Input(shape=(48,), name=\"features\")\n",
    "x = layers.Dense(128, activation='relu')(features_input)\n",
    "x = layers.Dropout(0.2)(x)\n",
    "x = layers.Dense(128, activation='relu')(features_input)\n",
    "features_output = layers.Dropout(0.2)(x)\n",
    "\n",
    "emb_input = layers.Input(shape=(None,), name=\"embedd\")\n",
    "x= layers.Embedding(num_words,100,embeddings_initializer=Constant(embedding_matrix),\n",
    "                   input_length=100,trainable=False)(emb_input)\n",
    "x = layers.SpatialDropout1D(0.08)(x)\n",
    "x = layers.Conv1D(128, 7, padding=\"valid\", activation='relu', strides=4)(x)\n",
    "x = layers.Dropout(0.08)(x)\n",
    "x = layers.Conv1D(128, 7, padding=\"valid\", activation='relu', strides=4)(x)\n",
    "emb_output = layers.Dropout(0.1)(x)\n",
    "emb_output = layers.GlobalMaxPooling1D()(x)\n",
    "\n",
    "x = layers.concatenate([features_output, emb_output])\n",
    "x = layers.Dense(64,activation='relu')(x)\n",
    "x = layers.Dropout(0.12)(x)\n",
    "x = layers.Dense(16,activation='relu')(x)\n",
    "Tx = layers.Dropout(0.2)(x)\n",
    "conv1d = layers.Dense(1, activation='sigmoid')(x)\n",
    "\n",
    "model4 = Model(\n",
    "    inputs=[features_input, emb_input],\n",
    "    outputs=[conv1d],\n",
    ")\n",
    "optimzer=Adam(learning_rate=1e-5)\n",
    "model4.compile(loss='binary_crossentropy',optimizer=optimzer,metrics=['accuracy'])"
   ]
  },
  {
   "cell_type": "code",
   "execution_count": 99,
   "metadata": {},
   "outputs": [],
   "source": [
    "pickle_in = open(\"data_process/tweet_pad.pickle\",\"rb\")\n",
    "tweet_pad = pickle.load(pickle_in)"
   ]
  },
  {
   "cell_type": "code",
   "execution_count": 75,
   "metadata": {},
   "outputs": [],
   "source": [
    "embedd_train =tweet_pad[:train.shape[0]]\n",
    "embedd_test=tweet_pad[train.shape[0]:]"
   ]
  },
  {
   "cell_type": "code",
   "execution_count": 76,
   "metadata": {},
   "outputs": [
    {
     "data": {
      "text/plain": [
       "((7503, 100), (3263, 100), (7503, 48), (3263, 48))"
      ]
     },
     "execution_count": 76,
     "metadata": {},
     "output_type": "execute_result"
    }
   ],
   "source": [
    "embedd_train.shape, embedd_test.shape, train_features.shape, test_features.shape"
   ]
  },
  {
   "cell_type": "code",
   "execution_count": 77,
   "metadata": {},
   "outputs": [],
   "source": [
    "embedd_test = pd.DataFrame(embedd_test)\n",
    "embedd_train = pd.DataFrame(embedd_train)"
   ]
  },
  {
   "cell_type": "code",
   "execution_count": 78,
   "metadata": {},
   "outputs": [],
   "source": [
    "test = pd.concat([embedd_test,test_features],axis=1)\n",
    "train = pd.concat([embedd_train,train_features],axis=1)"
   ]
  },
  {
   "cell_type": "code",
   "execution_count": 79,
   "metadata": {},
   "outputs": [
    {
     "data": {
      "text/plain": [
       "(False, False)"
      ]
     },
     "execution_count": 79,
     "metadata": {},
     "output_type": "execute_result"
    }
   ],
   "source": [
    "train.isna().any().any() , test.isna().any().any()"
   ]
  },
  {
   "cell_type": "code",
   "execution_count": 80,
   "metadata": {},
   "outputs": [
    {
     "data": {
      "text/plain": [
       "(7503, 148)"
      ]
     },
     "execution_count": 80,
     "metadata": {},
     "output_type": "execute_result"
    }
   ],
   "source": [
    "train.shape"
   ]
  },
  {
   "cell_type": "code",
   "execution_count": 81,
   "metadata": {},
   "outputs": [],
   "source": [
    "X_train,X_test,y_train,y_test=train_test_split(train.values,train_target.values,test_size=0.30)"
   ]
  },
  {
   "cell_type": "code",
   "execution_count": 82,
   "metadata": {},
   "outputs": [
    {
     "data": {
      "text/plain": [
       "(5252, 148)"
      ]
     },
     "execution_count": 82,
     "metadata": {},
     "output_type": "execute_result"
    }
   ],
   "source": [
    "X_train.shape"
   ]
  },
  {
   "cell_type": "code",
   "execution_count": 83,
   "metadata": {},
   "outputs": [
    {
     "data": {
      "text/plain": [
       "(5252, 48)"
      ]
     },
     "execution_count": 83,
     "metadata": {},
     "output_type": "execute_result"
    }
   ],
   "source": [
    "X_train[:,100:].shape"
   ]
  },
  {
   "cell_type": "code",
   "execution_count": 84,
   "metadata": {},
   "outputs": [
    {
     "name": "stdout",
     "output_type": "stream",
     "text": [
      "Epoch 1/30\n",
      "526/526 [==============================] - 3s 6ms/step - loss: 0.6791 - accuracy: 0.6061 - val_loss: 0.6658 - val_accuracy: 0.6797\n",
      "Epoch 2/30\n",
      "526/526 [==============================] - 3s 6ms/step - loss: 0.6549 - accuracy: 0.6847 - val_loss: 0.6386 - val_accuracy: 0.7410\n",
      "Epoch 3/30\n",
      "526/526 [==============================] - 3s 6ms/step - loss: 0.6207 - accuracy: 0.7399 - val_loss: 0.5964 - val_accuracy: 0.7752\n",
      "Epoch 4/30\n",
      "526/526 [==============================] - 3s 6ms/step - loss: 0.5738 - accuracy: 0.7713 - val_loss: 0.5434 - val_accuracy: 0.7850\n",
      "Epoch 5/30\n",
      "526/526 [==============================] - 3s 6ms/step - loss: 0.5214 - accuracy: 0.7850 - val_loss: 0.4987 - val_accuracy: 0.7912\n",
      "Epoch 6/30\n",
      "526/526 [==============================] - 3s 6ms/step - loss: 0.4871 - accuracy: 0.7942 - val_loss: 0.4732 - val_accuracy: 0.7961\n",
      "Epoch 7/30\n",
      "526/526 [==============================] - 3s 6ms/step - loss: 0.4671 - accuracy: 0.8005 - val_loss: 0.4565 - val_accuracy: 0.7996\n",
      "Epoch 8/30\n",
      "526/526 [==============================] - 3s 6ms/step - loss: 0.4485 - accuracy: 0.8077 - val_loss: 0.4489 - val_accuracy: 0.8054\n",
      "Epoch 9/30\n",
      "526/526 [==============================] - 3s 7ms/step - loss: 0.4400 - accuracy: 0.8092 - val_loss: 0.4393 - val_accuracy: 0.8005\n",
      "Epoch 10/30\n",
      "526/526 [==============================] - 4s 7ms/step - loss: 0.4297 - accuracy: 0.8149 - val_loss: 0.4335 - val_accuracy: 0.8059\n",
      "Epoch 11/30\n",
      "526/526 [==============================] - 4s 7ms/step - loss: 0.4192 - accuracy: 0.8185 - val_loss: 0.4291 - val_accuracy: 0.8090\n",
      "Epoch 12/30\n",
      "526/526 [==============================] - 4s 7ms/step - loss: 0.4114 - accuracy: 0.8244 - val_loss: 0.4259 - val_accuracy: 0.8085\n",
      "Epoch 13/30\n",
      "526/526 [==============================] - 4s 7ms/step - loss: 0.4058 - accuracy: 0.8229 - val_loss: 0.4234 - val_accuracy: 0.8094\n",
      "Epoch 14/30\n",
      "526/526 [==============================] - 4s 7ms/step - loss: 0.4028 - accuracy: 0.8271 - val_loss: 0.4221 - val_accuracy: 0.8099\n",
      "Epoch 15/30\n",
      "526/526 [==============================] - 4s 7ms/step - loss: 0.3957 - accuracy: 0.8284 - val_loss: 0.4206 - val_accuracy: 0.8125\n",
      "Epoch 16/30\n",
      "526/526 [==============================] - 4s 7ms/step - loss: 0.3897 - accuracy: 0.8372 - val_loss: 0.4197 - val_accuracy: 0.8130\n",
      "Epoch 17/30\n",
      "526/526 [==============================] - 4s 7ms/step - loss: 0.3864 - accuracy: 0.8383 - val_loss: 0.4199 - val_accuracy: 0.8156\n",
      "Epoch 18/30\n",
      "526/526 [==============================] - 4s 7ms/step - loss: 0.3796 - accuracy: 0.8422 - val_loss: 0.4184 - val_accuracy: 0.8121\n",
      "Epoch 19/30\n",
      "526/526 [==============================] - 4s 7ms/step - loss: 0.3745 - accuracy: 0.8433 - val_loss: 0.4198 - val_accuracy: 0.8134\n",
      "Epoch 20/30\n",
      "526/526 [==============================] - 4s 7ms/step - loss: 0.3719 - accuracy: 0.8454 - val_loss: 0.4187 - val_accuracy: 0.8143\n",
      "Epoch 21/30\n",
      "526/526 [==============================] - 4s 7ms/step - loss: 0.3679 - accuracy: 0.8458 - val_loss: 0.4192 - val_accuracy: 0.8161\n",
      "Epoch 22/30\n",
      "526/526 [==============================] - 4s 7ms/step - loss: 0.3587 - accuracy: 0.8511 - val_loss: 0.4193 - val_accuracy: 0.8170\n",
      "Epoch 23/30\n",
      "526/526 [==============================] - 4s 7ms/step - loss: 0.3583 - accuracy: 0.8490 - val_loss: 0.4198 - val_accuracy: 0.8161\n",
      "Epoch 24/30\n",
      "526/526 [==============================] - 4s 7ms/step - loss: 0.3548 - accuracy: 0.8519 - val_loss: 0.4201 - val_accuracy: 0.8165\n",
      "Epoch 25/30\n",
      "526/526 [==============================] - 3s 6ms/step - loss: 0.3449 - accuracy: 0.8580 - val_loss: 0.4216 - val_accuracy: 0.8161\n",
      "Epoch 26/30\n",
      "526/526 [==============================] - 3s 6ms/step - loss: 0.3450 - accuracy: 0.8593 - val_loss: 0.4225 - val_accuracy: 0.8165\n",
      "Epoch 27/30\n",
      "526/526 [==============================] - 4s 7ms/step - loss: 0.3399 - accuracy: 0.8581 - val_loss: 0.4233 - val_accuracy: 0.8147\n",
      "Epoch 28/30\n",
      "526/526 [==============================] - 4s 7ms/step - loss: 0.3284 - accuracy: 0.8696 - val_loss: 0.4253 - val_accuracy: 0.8143\n",
      "Epoch 29/30\n",
      "526/526 [==============================] - 4s 7ms/step - loss: 0.3320 - accuracy: 0.8675 - val_loss: 0.4273 - val_accuracy: 0.8143\n",
      "Epoch 30/30\n",
      "526/526 [==============================] - 4s 7ms/step - loss: 0.3270 - accuracy: 0.8660 - val_loss: 0.4286 - val_accuracy: 0.8143\n"
     ]
    }
   ],
   "source": [
    "history=model4.fit(\n",
    "    {\"features\": X_train[:,100:], \"embedd\": X_train[:,:100]},\n",
    "    y_train,\n",
    "    batch_size=10,\n",
    "    epochs=30,\n",
    "    validation_data=(\n",
    "        {\"features\": X_test[:,100:], \"embedd\": X_test[:,:100]},\n",
    "        y_test\n",
    "    ),\n",
    "    verbose=1\n",
    ")"
   ]
  },
  {
   "cell_type": "code",
   "execution_count": 85,
   "metadata": {},
   "outputs": [
    {
     "name": "stdout",
     "output_type": "stream",
     "text": [
      "Model: \"functional_5\"\n",
      "__________________________________________________________________________________________________\n",
      "Layer (type)                    Output Shape         Param #     Connected to                     \n",
      "==================================================================================================\n",
      "embedd (InputLayer)             [(None, None)]       0                                            \n",
      "__________________________________________________________________________________________________\n",
      "embedding_2 (Embedding)         (None, None, 100)    1991900     embedd[0][0]                     \n",
      "__________________________________________________________________________________________________\n",
      "spatial_dropout1d_2 (SpatialDro (None, None, 100)    0           embedding_2[0][0]                \n",
      "__________________________________________________________________________________________________\n",
      "conv1d_4 (Conv1D)               (None, None, 128)    89728       spatial_dropout1d_2[0][0]        \n",
      "__________________________________________________________________________________________________\n",
      "features (InputLayer)           [(None, 48)]         0                                            \n",
      "__________________________________________________________________________________________________\n",
      "dropout_14 (Dropout)            (None, None, 128)    0           conv1d_4[0][0]                   \n",
      "__________________________________________________________________________________________________\n",
      "dense_11 (Dense)                (None, 128)          6272        features[0][0]                   \n",
      "__________________________________________________________________________________________________\n",
      "conv1d_5 (Conv1D)               (None, None, 128)    114816      dropout_14[0][0]                 \n",
      "__________________________________________________________________________________________________\n",
      "dropout_13 (Dropout)            (None, 128)          0           dense_11[0][0]                   \n",
      "__________________________________________________________________________________________________\n",
      "global_max_pooling1d_2 (GlobalM (None, 128)          0           conv1d_5[0][0]                   \n",
      "__________________________________________________________________________________________________\n",
      "concatenate_2 (Concatenate)     (None, 256)          0           dropout_13[0][0]                 \n",
      "                                                                 global_max_pooling1d_2[0][0]     \n",
      "__________________________________________________________________________________________________\n",
      "dense_12 (Dense)                (None, 64)           16448       concatenate_2[0][0]              \n",
      "__________________________________________________________________________________________________\n",
      "dropout_16 (Dropout)            (None, 64)           0           dense_12[0][0]                   \n",
      "__________________________________________________________________________________________________\n",
      "dense_13 (Dense)                (None, 16)           1040        dropout_16[0][0]                 \n",
      "__________________________________________________________________________________________________\n",
      "dense_14 (Dense)                (None, 1)            17          dense_13[0][0]                   \n",
      "==================================================================================================\n",
      "Total params: 2,220,221\n",
      "Trainable params: 228,321\n",
      "Non-trainable params: 1,991,900\n",
      "__________________________________________________________________________________________________\n"
     ]
    }
   ],
   "source": [
    "model4.summary()"
   ]
  },
  {
   "cell_type": "code",
   "execution_count": 100,
   "metadata": {},
   "outputs": [],
   "source": [
    "predict = model4.predict([test_features,embedd_test])\n",
    "predict=np.round(predict).astype(int).reshape(3263)\n",
    "submit = pd.read_csv('test.csv', usecols= ['id'])\n",
    "submit['target'] = predict\n",
    "submit.to_csv('submits/submit7.csv',index=False)"
   ]
  },
  {
   "cell_type": "code",
   "execution_count": 94,
   "metadata": {},
   "outputs": [
    {
     "data": {
      "text/plain": [
       "0    2007\n",
       "1    1256\n",
       "Name: target, dtype: int64"
      ]
     },
     "execution_count": 94,
     "metadata": {},
     "output_type": "execute_result"
    }
   ],
   "source": [
    "submit['target'].value_counts()"
   ]
  }
 ],
 "metadata": {
  "kernelspec": {
   "display_name": "Python 3",
   "language": "python",
   "name": "python3"
  },
  "language_info": {
   "codemirror_mode": {
    "name": "ipython",
    "version": 3
   },
   "file_extension": ".py",
   "mimetype": "text/x-python",
   "name": "python",
   "nbconvert_exporter": "python",
   "pygments_lexer": "ipython3",
   "version": "3.7.6"
  }
 },
 "nbformat": 4,
 "nbformat_minor": 4
}
