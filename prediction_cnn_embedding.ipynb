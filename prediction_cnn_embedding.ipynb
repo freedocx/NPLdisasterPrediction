{
 "cells": [
  {
   "cell_type": "code",
   "execution_count": 1,
   "metadata": {},
   "outputs": [],
   "source": [
    "%matplotlib inline\n",
    "import matplotlib.pyplot as plt\n",
    "import re\n",
    "import pandas as pd\n",
    "import numpy as np\n",
    "import pickle"
   ]
  },
  {
   "cell_type": "code",
   "execution_count": 48,
   "metadata": {},
   "outputs": [],
   "source": [
    "from keras.models import Model\n",
    "from keras import layers\n",
    "from keras.initializers import Constant\n",
    "from sklearn.model_selection import train_test_split\n",
    "from sklearn.preprocessing import MinMaxScaler\n",
    "from keras.optimizers import Adam\n",
    "from keras.callbacks import EarlyStopping, ModelCheckpoint\n",
    "from keras import backend\n",
    "from sklearn.metrics import classification_report"
   ]
  },
  {
   "cell_type": "code",
   "execution_count": 49,
   "metadata": {},
   "outputs": [],
   "source": [
    "train = pd.read_csv('train.csv', low_memory=False)\n",
    "train_id = pd.read_csv('train.csv', low_memory=False, usecols = ['id'])\n",
    "test_id  = pd.read_csv('test.csv', low_memory=False, usecols = ['id'])\n",
    "train_target = pd.read_csv('train.csv', usecols = ['target'])\n",
    "embedding_matrix = pd.read_csv('data_process/embedding_matrix').values"
   ]
  },
  {
   "cell_type": "code",
   "execution_count": 50,
   "metadata": {},
   "outputs": [],
   "source": [
    "totaldata = pd.read_csv('data_process/totaldata.csv',low_memory=False)"
   ]
  },
  {
   "cell_type": "code",
   "execution_count": 51,
   "metadata": {},
   "outputs": [
    {
     "data": {
      "text/plain": [
       "(10876, 53)"
      ]
     },
     "execution_count": 51,
     "metadata": {},
     "output_type": "execute_result"
    }
   ],
   "source": [
    "totaldata.shape"
   ]
  },
  {
   "cell_type": "code",
   "execution_count": 52,
   "metadata": {},
   "outputs": [],
   "source": [
    "f_num = totaldata.shape[1]"
   ]
  },
  {
   "cell_type": "code",
   "execution_count": 53,
   "metadata": {},
   "outputs": [],
   "source": [
    "train = totaldata[totaldata['target'] != 2]\n",
    "test = totaldata[totaldata['target'] == 2]"
   ]
  },
  {
   "cell_type": "code",
   "execution_count": 54,
   "metadata": {},
   "outputs": [],
   "source": [
    "del totaldata['id']\n",
    "del train['id']\n",
    "del test['id']\n",
    "del train['target']\n",
    "del test['target']\n",
    "del train['text']\n",
    "del test['text']\n",
    "del totaldata['text']"
   ]
  },
  {
   "cell_type": "code",
   "execution_count": 55,
   "metadata": {},
   "outputs": [],
   "source": [
    "scaled = MinMaxScaler()"
   ]
  },
  {
   "cell_type": "code",
   "execution_count": 56,
   "metadata": {},
   "outputs": [],
   "source": [
    "scaled_train = scaled.fit_transform(train)\n",
    "scaled_test = scaled.fit_transform(test)"
   ]
  },
  {
   "cell_type": "code",
   "execution_count": 57,
   "metadata": {},
   "outputs": [],
   "source": [
    "train_features = pd.DataFrame(scaled_train, columns= train.columns)\n",
    "test_features = pd.DataFrame(scaled_test, columns= test.columns)"
   ]
  },
  {
   "cell_type": "code",
   "execution_count": 58,
   "metadata": {},
   "outputs": [
    {
     "data": {
      "text/plain": [
       "(7613, 50)"
      ]
     },
     "execution_count": 58,
     "metadata": {},
     "output_type": "execute_result"
    }
   ],
   "source": [
    "train_features.shape"
   ]
  },
  {
   "cell_type": "code",
   "execution_count": 59,
   "metadata": {},
   "outputs": [],
   "source": [
    "f_num = train_features.shape[1]"
   ]
  },
  {
   "cell_type": "code",
   "execution_count": 60,
   "metadata": {},
   "outputs": [],
   "source": [
    "num_words = embedding_matrix.shape[0]"
   ]
  },
  {
   "cell_type": "code",
   "execution_count": 61,
   "metadata": {},
   "outputs": [
    {
     "data": {
      "text/plain": [
       "(10876, 51)"
      ]
     },
     "execution_count": 61,
     "metadata": {},
     "output_type": "execute_result"
    }
   ],
   "source": [
    "totaldata.shape"
   ]
  },
  {
   "cell_type": "code",
   "execution_count": null,
   "metadata": {},
   "outputs": [],
   "source": []
  },
  {
   "cell_type": "code",
   "execution_count": 62,
   "metadata": {},
   "outputs": [
    {
     "data": {
      "text/plain": [
       "(19919, 100)"
      ]
     },
     "execution_count": 62,
     "metadata": {},
     "output_type": "execute_result"
    }
   ],
   "source": [
    "embedding_matrix.shape"
   ]
  },
  {
   "cell_type": "code",
   "execution_count": 63,
   "metadata": {},
   "outputs": [
    {
     "data": {
      "text/plain": [
       "(10876, 51)"
      ]
     },
     "execution_count": 63,
     "metadata": {},
     "output_type": "execute_result"
    }
   ],
   "source": [
    "totaldata.shape"
   ]
  },
  {
   "cell_type": "code",
   "execution_count": 64,
   "metadata": {},
   "outputs": [
    {
     "data": {
      "text/plain": [
       "50"
      ]
     },
     "execution_count": 64,
     "metadata": {},
     "output_type": "execute_result"
    }
   ],
   "source": [
    "f_num"
   ]
  },
  {
   "cell_type": "code",
   "execution_count": null,
   "metadata": {},
   "outputs": [],
   "source": []
  },
  {
   "cell_type": "code",
   "execution_count": null,
   "metadata": {},
   "outputs": [],
   "source": []
  },
  {
   "cell_type": "code",
   "execution_count": 65,
   "metadata": {},
   "outputs": [
    {
     "data": {
      "text/plain": [
       "Index(['target', 'textsize', 'punctuation_count', 'word_mean_len',\n",
       "       'haslocacion', 'keyword_t_count', 'keyword_f_count', 'keyword_metric',\n",
       "       'mentions_count', 'links_count', 'label_count', 'domain_metric_mean',\n",
       "       'domain_metric_std', 'domain_metric_max', 'domain_metric_min', 'PRP$',\n",
       "       'NNS', 'VBP', 'DT', 'NNP', 'IN', 'NN', 'PRP', 'VBD', 'TO', 'VB', 'VBG',\n",
       "       'VBN', 'JJ', 'CC', 'RB', 'VBZ', 'MD', 'EX', 'CD', 'WP', 'RP', 'NNPS',\n",
       "       'JJR', 'WRB', 'JJS', 'WDT', 'RBR', 'RBS', 'FW', 'PDT', 'POS', 'UH',\n",
       "       'SYM', 'WP$', ''''],\n",
       "      dtype='object')"
      ]
     },
     "execution_count": 65,
     "metadata": {},
     "output_type": "execute_result"
    }
   ],
   "source": [
    "totaldata.columns"
   ]
  },
  {
   "cell_type": "code",
   "execution_count": null,
   "metadata": {},
   "outputs": [],
   "source": []
  },
  {
   "cell_type": "code",
   "execution_count": 66,
   "metadata": {},
   "outputs": [],
   "source": [
    "features_input = layers.Input(shape=(f_num,), name=\"features\")\n",
    "x = layers.Dense(1024, activation='relu')(features_input)\n",
    "x = layers.Dropout(0.1)(x)\n",
    "features_output = layers.Dropout(0.2)(x)\n",
    "\n",
    "emb_input = layers.Input(shape=(None,), name=\"embedd\")\n",
    "x = layers.Embedding(num_words,100,\n",
    "                     embeddings_initializer=Constant(embedding_matrix),\n",
    "                     input_length=100,trainable=False)(emb_input)\n",
    "x = layers.SpatialDropout1D(0.08)(x)\n",
    "x = layers.Conv1D(1024, 7, padding=\"valid\", activation='relu', strides=4)(x)\n",
    "x = layers.Dropout(0.1)(x)\n",
    "emb_output = layers.GlobalMaxPooling1D()(x)\n",
    "\n",
    "#x = layers.GRU(128,dropout=0.1,recurrent_dropout=0.08,return_sequences=True)(x)\n",
    "\n",
    "x = layers.concatenate([features_output, emb_output])\n",
    "x = layers.Dense(256,activation='relu')(x)\n",
    "x = layers.Dropout(0.1)(x)\n",
    "x = layers.Dense(64,activation='relu')(x)\n",
    "x = layers.Dropout(0.12)(x)\n",
    "x = layers.Dense(6,activation='relu')(x)\n",
    "x = layers.Dropout(0.14)(x)\n",
    "conv1d = layers.Dense(1, activation='sigmoid')(x)\n",
    "\n",
    "model4 = Model(\n",
    "    inputs=[features_input, emb_input],\n",
    "    outputs=[conv1d],\n",
    ")\n",
    "optimzer=Adam(learning_rate=1e-5)\n",
    "model4.compile(\n",
    "    loss='binary_crossentropy',\n",
    "    optimizer=optimzer,\n",
    "    metrics=['accuracy']\n",
    ")"
   ]
  },
  {
   "cell_type": "code",
   "execution_count": 67,
   "metadata": {},
   "outputs": [],
   "source": [
    "pickle_in = open(\"data_process/tweet_pad.pickle\",\"rb\")\n",
    "tweet_pad = pickle.load(pickle_in)"
   ]
  },
  {
   "cell_type": "code",
   "execution_count": 68,
   "metadata": {},
   "outputs": [],
   "source": [
    "embedd_train =tweet_pad[:train.shape[0]]\n",
    "embedd_test=tweet_pad[train.shape[0]:]"
   ]
  },
  {
   "cell_type": "code",
   "execution_count": 69,
   "metadata": {},
   "outputs": [
    {
     "data": {
      "text/plain": [
       "((7613, 100), (3263, 100), (7613, 50), (3263, 50))"
      ]
     },
     "execution_count": 69,
     "metadata": {},
     "output_type": "execute_result"
    }
   ],
   "source": [
    "embedd_train.shape, embedd_test.shape, train_features.shape, test_features.shape"
   ]
  },
  {
   "cell_type": "code",
   "execution_count": 70,
   "metadata": {},
   "outputs": [],
   "source": [
    "embedd_test = pd.DataFrame(embedd_test)\n",
    "embedd_train = pd.DataFrame(embedd_train)"
   ]
  },
  {
   "cell_type": "code",
   "execution_count": 71,
   "metadata": {},
   "outputs": [],
   "source": [
    "test = pd.concat([embedd_test,test_features],axis=1)\n",
    "train = pd.concat([embedd_train,train_features],axis=1)"
   ]
  },
  {
   "cell_type": "code",
   "execution_count": 72,
   "metadata": {},
   "outputs": [
    {
     "data": {
      "text/plain": [
       "(False, False)"
      ]
     },
     "execution_count": 72,
     "metadata": {},
     "output_type": "execute_result"
    }
   ],
   "source": [
    "train.isna().any().any() , test.isna().any().any()"
   ]
  },
  {
   "cell_type": "code",
   "execution_count": 73,
   "metadata": {},
   "outputs": [],
   "source": [
    "early_stop = EarlyStopping(monitor='val_accuracy', patience=6)\n",
    "mcp_save = ModelCheckpoint('.mdl_wts.hdf5', save_best_only=True, monitor='val_loss', mode='min')"
   ]
  },
  {
   "cell_type": "code",
   "execution_count": 74,
   "metadata": {},
   "outputs": [
    {
     "name": "stdout",
     "output_type": "stream",
     "text": [
      "Epoch 1/100\n",
      "305/305 [==============================] - 9s 28ms/step - loss: 0.6636 - accuracy: 0.6159 - val_loss: 0.5923 - val_accuracy: 0.7866\n",
      "Epoch 2/100\n",
      "305/305 [==============================] - 8s 28ms/step - loss: 0.5676 - accuracy: 0.7450 - val_loss: 0.5017 - val_accuracy: 0.8030\n",
      "Epoch 3/100\n",
      "305/305 [==============================] - 9s 29ms/step - loss: 0.5100 - accuracy: 0.7711 - val_loss: 0.4537 - val_accuracy: 0.8155\n",
      "Epoch 4/100\n",
      "305/305 [==============================] - 10s 32ms/step - loss: 0.4835 - accuracy: 0.7877 - val_loss: 0.4324 - val_accuracy: 0.8247\n",
      "Epoch 5/100\n",
      "305/305 [==============================] - 10s 33ms/step - loss: 0.4598 - accuracy: 0.8031 - val_loss: 0.4173 - val_accuracy: 0.8253\n",
      "Epoch 6/100\n",
      "305/305 [==============================] - 10s 32ms/step - loss: 0.4486 - accuracy: 0.8082 - val_loss: 0.4136 - val_accuracy: 0.8372\n",
      "Epoch 7/100\n",
      "305/305 [==============================] - 10s 34ms/step - loss: 0.4406 - accuracy: 0.8144 - val_loss: 0.4065 - val_accuracy: 0.8299\n",
      "Epoch 8/100\n",
      "305/305 [==============================] - 10s 33ms/step - loss: 0.4259 - accuracy: 0.8264 - val_loss: 0.4035 - val_accuracy: 0.8359\n",
      "Epoch 9/100\n",
      "305/305 [==============================] - 10s 33ms/step - loss: 0.4142 - accuracy: 0.8340 - val_loss: 0.4020 - val_accuracy: 0.8378\n",
      "Epoch 10/100\n",
      "305/305 [==============================] - 10s 32ms/step - loss: 0.4107 - accuracy: 0.8315 - val_loss: 0.3958 - val_accuracy: 0.8332\n",
      "Epoch 11/100\n",
      "305/305 [==============================] - 10s 32ms/step - loss: 0.3972 - accuracy: 0.8420 - val_loss: 0.3946 - val_accuracy: 0.8385\n",
      "Epoch 12/100\n",
      "305/305 [==============================] - 10s 33ms/step - loss: 0.3952 - accuracy: 0.8396 - val_loss: 0.3945 - val_accuracy: 0.8391\n",
      "Epoch 13/100\n",
      "305/305 [==============================] - 10s 32ms/step - loss: 0.3864 - accuracy: 0.8452 - val_loss: 0.3928 - val_accuracy: 0.8398\n",
      "Epoch 14/100\n",
      "305/305 [==============================] - 10s 32ms/step - loss: 0.3725 - accuracy: 0.8553 - val_loss: 0.3922 - val_accuracy: 0.8365\n",
      "Epoch 15/100\n",
      "305/305 [==============================] - 10s 33ms/step - loss: 0.3655 - accuracy: 0.8603 - val_loss: 0.3908 - val_accuracy: 0.8359\n",
      "Epoch 16/100\n",
      "305/305 [==============================] - 10s 32ms/step - loss: 0.3629 - accuracy: 0.8611 - val_loss: 0.3930 - val_accuracy: 0.8391\n",
      "Epoch 17/100\n",
      "305/305 [==============================] - 10s 32ms/step - loss: 0.3579 - accuracy: 0.8644 - val_loss: 0.3915 - val_accuracy: 0.8345\n",
      "Epoch 18/100\n",
      "305/305 [==============================] - 11s 36ms/step - loss: 0.3446 - accuracy: 0.8688 - val_loss: 0.3915 - val_accuracy: 0.8306\n",
      "Epoch 19/100\n",
      "305/305 [==============================] - 10s 32ms/step - loss: 0.3430 - accuracy: 0.8647 - val_loss: 0.3920 - val_accuracy: 0.8293\n"
     ]
    }
   ],
   "source": [
    "history=model4.fit(\n",
    "    {\"features\": train.values[:,100:], \"embedd\": train.values[:,:100]},\n",
    "    train_target.values,\n",
    "    batch_size=20,\n",
    "    epochs=100,\n",
    "    validation_split=0.2,\n",
    "    verbose=1,\n",
    "    callbacks=early_stop\n",
    ")"
   ]
  },
  {
   "cell_type": "code",
   "execution_count": 75,
   "metadata": {},
   "outputs": [],
   "source": [
    "def plot_history(history):\n",
    "    hist = pd.DataFrame(history.history)\n",
    "    hist['epoch'] = history.epoch\n",
    "\n",
    "    plt.figure()\n",
    "    plt.xlabel('Epoch')\n",
    "    plt.ylabel('Accuracy')\n",
    "    plt.title('Accuracy over time')\n",
    "    plt.plot(hist['epoch'], hist['accuracy'],\n",
    "           label='Train Error')\n",
    "    plt.plot(hist['epoch'], hist['val_accuracy'],\n",
    "           label = 'Val Error')\n",
    "    plt.ylim([0,1])\n",
    "    plt.legend()\n",
    "    plt.show()"
   ]
  },
  {
   "cell_type": "code",
   "execution_count": 76,
   "metadata": {},
   "outputs": [
    {
     "data": {
      "image/png": "[encoded data removed]",
      "text/plain": [
       "<Figure size 432x288 with 1 Axes>"
      ]
     },
     "metadata": {
      "needs_background": "light"
     },
     "output_type": "display_data"
    }
   ],
   "source": [
    "plot_history(history)"
   ]
  },
  {
   "cell_type": "code",
   "execution_count": 168,
   "metadata": {},
   "outputs": [],
   "source": [
    "predict = model4.predict([test_features,embedd_test])\n",
    "predict=np.round(predict).astype(int).reshape(3263)\n",
    "submit = pd.read_csv('test.csv', usecols= ['id'])\n",
    "submit['target'] = predict\n",
    "submit.to_csv('submits/submit9.csv',index=False)"
   ]
  },
  {
   "cell_type": "code",
   "execution_count": 169,
   "metadata": {},
   "outputs": [
    {
     "data": {
      "text/plain": [
       "0    2031\n",
       "1    1232\n",
       "Name: target, dtype: int64"
      ]
     },
     "execution_count": 169,
     "metadata": {},
     "output_type": "execute_result"
    }
   ],
   "source": [
    "submit['target'].value_counts()"
   ]
  },
  {
   "cell_type": "code",
   "execution_count": null,
   "metadata": {},
   "outputs": [],
   "source": []
  }
 ],
 "metadata": {
  "kernelspec": {
   "display_name": "Python 3",
   "language": "python",
   "name": "python3"
  },
  "language_info": {
   "codemirror_mode": {
    "name": "ipython",
    "version": 3
   },
   "file_extension": ".py",
   "mimetype": "text/x-python",
   "name": "python",
   "nbconvert_exporter": "python",
   "pygments_lexer": "ipython3",
   "version": "3.7.6"
  }
 },
 "nbformat": 4,
 "nbformat_minor": 4
}
