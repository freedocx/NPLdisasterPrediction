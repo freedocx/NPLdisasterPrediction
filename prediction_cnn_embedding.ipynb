{
 "cells": [
  {
   "cell_type": "code",
   "execution_count": 6,
   "metadata": {},
   "outputs": [],
   "source": [
    "%matplotlib inline\n",
    "import matplotlib.pyplot as plt\n",
    "import re\n",
    "import pandas as pd\n",
    "import numpy as np\n",
    "import pickle"
   ]
  },
  {
   "cell_type": "code",
   "execution_count": 8,
   "metadata": {},
   "outputs": [],
   "source": [
    "from keras.models import Model\n",
    "from keras import layers\n",
    "from keras.initializers import Constant\n",
    "from sklearn.model_selection import train_test_split\n",
    "from sklearn.preprocessing import MinMaxScaler\n",
    "from keras.optimizers import Adam\n",
    "from keras.callbacks import EarlyStopping, ModelCheckpoint, ReduceLROnPlateau\n",
    "from keras import regularizers\n",
    "from keras.utils import plot_model"
   ]
  },
  {
   "cell_type": "code",
   "execution_count": 9,
   "metadata": {},
   "outputs": [],
   "source": [
    "train = pd.read_csv('train.csv', low_memory=False)\n",
    "train_id = pd.read_csv('train.csv', low_memory=False, usecols = ['id'])\n",
    "test_id  = pd.read_csv('test.csv', low_memory=False, usecols = ['id'])\n",
    "train_target = pd.read_csv('train.csv', usecols = ['target'])\n",
    "embedding_matrix = pd.read_csv('data_process/embedding_matrix_200d').values"
   ]
  },
  {
   "cell_type": "code",
   "execution_count": 10,
   "metadata": {},
   "outputs": [],
   "source": [
    "totaldata = pd.read_csv('data_process/totaldata.csv',low_memory=False)"
   ]
  },
  {
   "cell_type": "code",
   "execution_count": 11,
   "metadata": {},
   "outputs": [
    {
     "data": {
      "text/plain": [
       "(10876, 57)"
      ]
     },
     "execution_count": 11,
     "metadata": {},
     "output_type": "execute_result"
    }
   ],
   "source": [
    "totaldata.shape"
   ]
  },
  {
   "cell_type": "code",
   "execution_count": 12,
   "metadata": {},
   "outputs": [
    {
     "data": {
      "text/plain": [
       "Index(['id', 'keyword', 'location', 'text', 'target', 'keyword_metric',\n",
       "       'domain_metric_mean', 'domain_metric_std', 'domain_metric_max',\n",
       "       'domain_metric_min', 'textsize', 'punctuation_count', 'word_mean_len',\n",
       "       'haslocacion', 'word_count', 'upper_count', 'white_count', 'url_count',\n",
       "       'hashtag_count', 'mention_count', 'PRP$', 'NNS', 'VBP', 'DT', 'NNP',\n",
       "       'IN', 'NN', 'PRP', 'VBD', 'TO', 'VB', 'VBG', 'VBN', 'JJ', 'CC', 'RB',\n",
       "       'VBZ', 'MD', 'EX', 'CD', 'WP', 'RP', 'NNPS', 'JJR', 'WRB', 'JJS', 'WDT',\n",
       "       'RBR', 'RBS', 'FW', 'PDT', 'POS', 'UH', 'SYM', 'WP$', '''',\n",
       "       'question_count'],\n",
       "      dtype='object')"
      ]
     },
     "execution_count": 12,
     "metadata": {},
     "output_type": "execute_result"
    }
   ],
   "source": [
    "totaldata.columns"
   ]
  },
  {
   "cell_type": "code",
   "execution_count": null,
   "metadata": {},
   "outputs": [],
   "source": []
  },
  {
   "cell_type": "code",
   "execution_count": 13,
   "metadata": {},
   "outputs": [],
   "source": [
    "del totaldata['text']\n",
    "del totaldata['keyword']\n",
    "del totaldata['location']\n",
    "del totaldata['id']"
   ]
  },
  {
   "cell_type": "code",
   "execution_count": 14,
   "metadata": {},
   "outputs": [],
   "source": [
    "train = totaldata[totaldata['target'] != 2]\n",
    "test = totaldata[totaldata['target'] == 2]"
   ]
  },
  {
   "cell_type": "code",
   "execution_count": 15,
   "metadata": {},
   "outputs": [],
   "source": [
    "del train['target']\n",
    "del test['target']"
   ]
  },
  {
   "cell_type": "code",
   "execution_count": 16,
   "metadata": {},
   "outputs": [],
   "source": [
    "f_num = train.shape[1]"
   ]
  },
  {
   "cell_type": "code",
   "execution_count": 17,
   "metadata": {},
   "outputs": [],
   "source": [
    "num_words = embedding_matrix.shape[0]\n",
    "e_num = embedding_matrix.shape[1]"
   ]
  },
  {
   "cell_type": "code",
   "execution_count": 18,
   "metadata": {},
   "outputs": [
    {
     "data": {
      "text/plain": [
       "(False, False)"
      ]
     },
     "execution_count": 18,
     "metadata": {},
     "output_type": "execute_result"
    }
   ],
   "source": [
    "test.isna().any().any(), train.isna().any().any()"
   ]
  },
  {
   "cell_type": "code",
   "execution_count": 19,
   "metadata": {},
   "outputs": [
    {
     "data": {
      "text/plain": [
       "Index(['target', 'keyword_metric', 'domain_metric_mean', 'domain_metric_std',\n",
       "       'domain_metric_max', 'domain_metric_min', 'textsize',\n",
       "       'punctuation_count', 'word_mean_len', 'haslocacion', 'word_count',\n",
       "       'upper_count', 'white_count', 'url_count', 'hashtag_count',\n",
       "       'mention_count', 'PRP$', 'NNS', 'VBP', 'DT', 'NNP', 'IN', 'NN', 'PRP',\n",
       "       'VBD', 'TO', 'VB', 'VBG', 'VBN', 'JJ', 'CC', 'RB', 'VBZ', 'MD', 'EX',\n",
       "       'CD', 'WP', 'RP', 'NNPS', 'JJR', 'WRB', 'JJS', 'WDT', 'RBR', 'RBS',\n",
       "       'FW', 'PDT', 'POS', 'UH', 'SYM', 'WP$', '''', 'question_count'],\n",
       "      dtype='object')"
      ]
     },
     "execution_count": 19,
     "metadata": {},
     "output_type": "execute_result"
    }
   ],
   "source": [
    "totaldata.columns"
   ]
  },
  {
   "cell_type": "code",
   "execution_count": 20,
   "metadata": {},
   "outputs": [],
   "source": [
    "pickle_in = open(\"data_process/tweet_pad_200d.pickle\",\"rb\")\n",
    "tweet_pad = pickle.load(pickle_in)"
   ]
  },
  {
   "cell_type": "code",
   "execution_count": 21,
   "metadata": {},
   "outputs": [],
   "source": [
    "embedd_train =tweet_pad[:train.shape[0]]\n",
    "embedd_test=tweet_pad[train.shape[0]:]"
   ]
  },
  {
   "cell_type": "code",
   "execution_count": 23,
   "metadata": {},
   "outputs": [
    {
     "data": {
      "text/plain": [
       "((7613, 100), (3263, 100), (7613, 52), (3263, 52))"
      ]
     },
     "execution_count": 23,
     "metadata": {},
     "output_type": "execute_result"
    }
   ],
   "source": [
    "embedd_train.shape, embedd_test.shape, train.shape, test.shape"
   ]
  },
  {
   "cell_type": "code",
   "execution_count": 24,
   "metadata": {},
   "outputs": [],
   "source": [
    "embedd_test = pd.DataFrame(embedd_test)\n",
    "embedd_train = pd.DataFrame(embedd_train)"
   ]
  },
  {
   "cell_type": "code",
   "execution_count": 25,
   "metadata": {},
   "outputs": [],
   "source": [
    "scaled = MinMaxScaler()\n",
    "train = pd.DataFrame(scaled.fit_transform(train), columns= train.columns)\n",
    "test = pd.DataFrame(scaled.fit_transform(test), columns= test.columns)"
   ]
  },
  {
   "cell_type": "code",
   "execution_count": 26,
   "metadata": {},
   "outputs": [
    {
     "data": {
      "text/plain": [
       "Index(['keyword_metric', 'domain_metric_mean', 'domain_metric_std',\n",
       "       'domain_metric_max', 'domain_metric_min', 'textsize',\n",
       "       'punctuation_count', 'word_mean_len', 'haslocacion', 'word_count',\n",
       "       'upper_count', 'white_count', 'url_count', 'hashtag_count',\n",
       "       'mention_count', 'PRP$', 'NNS', 'VBP', 'DT', 'NNP', 'IN', 'NN', 'PRP',\n",
       "       'VBD', 'TO', 'VB', 'VBG', 'VBN', 'JJ', 'CC', 'RB', 'VBZ', 'MD', 'EX',\n",
       "       'CD', 'WP', 'RP', 'NNPS', 'JJR', 'WRB', 'JJS', 'WDT', 'RBR', 'RBS',\n",
       "       'FW', 'PDT', 'POS', 'UH', 'SYM', 'WP$', '''', 'question_count'],\n",
       "      dtype='object')"
      ]
     },
     "execution_count": 26,
     "metadata": {},
     "output_type": "execute_result"
    }
   ],
   "source": [
    "train.columns"
   ]
  },
  {
   "cell_type": "code",
   "execution_count": 27,
   "metadata": {},
   "outputs": [],
   "source": [
    "test = pd.concat([test,embedd_test],axis=1)\n",
    "train = pd.concat([train,embedd_train],axis=1)"
   ]
  },
  {
   "cell_type": "code",
   "execution_count": 23,
   "metadata": {},
   "outputs": [
    {
     "data": {
      "text/plain": [
       "(False, False)"
      ]
     },
     "execution_count": 23,
     "metadata": {},
     "output_type": "execute_result"
    }
   ],
   "source": [
    "train.isna().any().any() , test.isna().any().any()"
   ]
  },
  {
   "cell_type": "code",
   "execution_count": 72,
   "metadata": {},
   "outputs": [],
   "source": [
    "#features_input = layers.Input(shape=(f_num,), name=\"features\")\n",
    "#x = layers.Dense(128, activation='relu')(features_input)\n",
    "#eatures_output = layers.Dropout(0.5)(x)\n",
    "\n",
    "emb_input = layers.Input(shape=(None,), name=\"embedd\")\n",
    "x = layers.Embedding(input_dim=embedding_matrix.shape[0], \n",
    "                        output_dim=embedding_matrix.shape[1], \n",
    "                        weights = [embedding_matrix], \n",
    "                        input_length=e_num)(emb_input)\n",
    "x = layers.Conv1D(256 , 5 , activation = 'relu')(x)\n",
    "#x = layers.Dropout(0.2)(x)\n",
    "#x = layers.Conv1D(256 , 5 , activation = 'relu')(x)\n",
    "x = layers.GlobalMaxPool1D()(x)\n",
    "emb_output = layers.Dropout(0.5)(x)\n",
    "\n",
    "#x = layers.concatenate([features_output, emb_output])\n",
    "x = layers.Dense(128,activation='relu')(emb_output)\n",
    "x = layers.Dropout(0.5)(x)\n",
    "x = layers.Dense(32,activation='relu')(x)\n",
    "x = layers.Dropout(0.5)(x)\n",
    "conv1d = layers.Dense(1, activation='sigmoid')(x)\n",
    "\n",
    "model4 = Model(\n",
    "    inputs=[emb_input],\n",
    "    outputs=[conv1d],\n",
    ")\n",
    "#optimzer = SGD(learning_rate=1e-5, momentum=0.8)\n",
    "optimzer=Adam(learning_rate=1e-5)\n",
    "model4.compile(\n",
    "    loss='binary_crossentropy',\n",
    "    optimizer=optimzer,\n",
    "    metrics=['accuracy']\n",
    ")"
   ]
  },
  {
   "cell_type": "code",
   "execution_count": 73,
   "metadata": {},
   "outputs": [
    {
     "data": {
      "image/png": "[encoded data removed]",
      "text/plain": [
       "<IPython.core.display.Image object>"
      ]
     },
     "execution_count": 73,
     "metadata": {},
     "output_type": "execute_result"
    }
   ],
   "source": [
    "plot_model(model4, \"my_first_model.png\")"
   ]
  },
  {
   "cell_type": "code",
   "execution_count": 32,
   "metadata": {},
   "outputs": [],
   "source": [
    "#model4.summary()"
   ]
  },
  {
   "cell_type": "code",
   "execution_count": 35,
   "metadata": {},
   "outputs": [],
   "source": [
    "#early_stop = EarlyStopping(\n",
    "#    monitor='val_accuracy',\n",
    "#    patience=6)"
   ]
  },
  {
   "cell_type": "code",
   "execution_count": 46,
   "metadata": {},
   "outputs": [
    {
     "name": "stdout",
     "output_type": "stream",
     "text": [
      "Epoch 1/10\n",
      "609/609 [==============================] - 128s 211ms/step - loss: 6.0553 - accuracy: 0.4484 - val_loss: 5.6619 - val_accuracy: 0.5384\n",
      "Epoch 2/10\n",
      "609/609 [==============================] - 125s 205ms/step - loss: 5.5824 - accuracy: 0.5205 - val_loss: 5.2746 - val_accuracy: 0.6743\n",
      "Epoch 3/10\n",
      "609/609 [==============================] - 122s 201ms/step - loss: 5.1899 - accuracy: 0.5888 - val_loss: 4.9245 - val_accuracy: 0.7498\n",
      "Epoch 4/10\n",
      "609/609 [==============================] - 122s 200ms/step - loss: 4.8410 - accuracy: 0.6360 - val_loss: 4.5993 - val_accuracy: 0.7551\n",
      "Epoch 5/10\n",
      "609/609 [==============================] - 114s 187ms/step - loss: 4.5231 - accuracy: 0.6729 - val_loss: 4.2941 - val_accuracy: 0.7676\n",
      "Epoch 6/10\n",
      "609/609 [==============================] - 115s 188ms/step - loss: 4.2263 - accuracy: 0.7018 - val_loss: 4.0105 - val_accuracy: 0.7741\n",
      "Epoch 7/10\n",
      "609/609 [==============================] - 116s 190ms/step - loss: 3.9631 - accuracy: 0.7100 - val_loss: 3.7501 - val_accuracy: 0.7820\n",
      "Epoch 8/10\n",
      "609/609 [==============================] - 114s 187ms/step - loss: 3.7097 - accuracy: 0.7284 - val_loss: 3.5108 - val_accuracy: 0.7879\n",
      "Epoch 9/10\n",
      "609/609 [==============================] - 116s 190ms/step - loss: 3.4886 - accuracy: 0.7348 - val_loss: 3.2935 - val_accuracy: 0.7932\n",
      "Epoch 10/10\n",
      "609/609 [==============================] - 114s 188ms/step - loss: 3.2822 - accuracy: 0.7530 - val_loss: 3.0997 - val_accuracy: 0.7971\n"
     ]
    }
   ],
   "source": [
    "history=model4.fit( \n",
    "    {\"features\": train.values[:,:f_num], \"embedd\": train.values[:,f_num:]},\n",
    "    train_target.values,\n",
    "    batch_size=10,\n",
    "    epochs=10,\n",
    "    validation_split = 0.3,\n",
    "    verbose = 1\n",
    ")"
   ]
  },
  {
   "cell_type": "code",
   "execution_count": 47,
   "metadata": {},
   "outputs": [],
   "source": [
    "def plot_history(history):\n",
    "    hist = pd.DataFrame(history.history)\n",
    "    hist['epoch'] = history.epoch\n",
    "\n",
    "    plt.figure()\n",
    "    plt.xlabel('Epoch')\n",
    "    plt.ylabel('Accuracy')\n",
    "    plt.title('Accuracy over time')\n",
    "    plt.plot(hist['epoch'], hist['accuracy'],\n",
    "           label='Train Error')\n",
    "    plt.plot(hist['epoch'], hist['val_accuracy'],\n",
    "           label = 'Val Error')\n",
    "    plt.ylim([0,1])\n",
    "    plt.legend()\n",
    "    plt.show()"
   ]
  },
  {
   "cell_type": "code",
   "execution_count": 42,
   "metadata": {},
   "outputs": [
    {
     "data": {
      "text/plain": [
       "52"
      ]
     },
     "execution_count": 42,
     "metadata": {},
     "output_type": "execute_result"
    }
   ],
   "source": [
    "f_num"
   ]
  },
  {
   "cell_type": "code",
   "execution_count": 43,
   "metadata": {},
   "outputs": [
    {
     "data": {
      "text/plain": [
       "(3263, 100)"
      ]
     },
     "execution_count": 43,
     "metadata": {},
     "output_type": "execute_result"
    }
   ],
   "source": [
    "test.values[:,f_num:].shape"
   ]
  },
  {
   "cell_type": "code",
   "execution_count": 51,
   "metadata": {},
   "outputs": [],
   "source": [
    "#predict = model4.predict([test.values[:,:f_num],embedd_test.values])\n",
    "predict = model4.predict(embedd_test.values)\n",
    "predict=np.round(predict).astype(int).reshape(3263)\n",
    "submit = pd.read_csv('test.csv', usecols= ['id'])\n",
    "submit['target'] = predict\n",
    "submit.to_csv('submits/200dTw-BRNN.csv',index=False)"
   ]
  },
  {
   "cell_type": "code",
   "execution_count": 52,
   "metadata": {},
   "outputs": [
    {
     "data": {
      "text/plain": [
       "0    2072\n",
       "1    1191\n",
       "Name: target, dtype: int64"
      ]
     },
     "execution_count": 52,
     "metadata": {},
     "output_type": "execute_result"
    }
   ],
   "source": [
    "submit['target'].value_counts()"
   ]
  }
 ],
 "metadata": {
  "kernelspec": {
   "display_name": "Python 3",
   "language": "python",
   "name": "python3"
  },
  "language_info": {
   "codemirror_mode": {
    "name": "ipython",
    "version": 3
   },
   "file_extension": ".py",
   "mimetype": "text/x-python",
   "name": "python",
   "nbconvert_exporter": "python",
   "pygments_lexer": "ipython3",
   "version": "3.7.6"
  }
 },
 "nbformat": 4,
 "nbformat_minor": 4
}
