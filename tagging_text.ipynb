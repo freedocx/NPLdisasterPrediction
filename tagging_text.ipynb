{
 "cells": [
  {
   "cell_type": "code",
   "execution_count": 4,
   "metadata": {},
   "outputs": [],
   "source": [
    "import pandas as pd\n",
    "import re\n",
    "from nltk.tokenize import TweetTokenizer\n",
    "from nltk import pos_tag\n",
    "from nltk import FreqDist\n",
    "tweettk=TweetTokenizer()"
   ]
  },
  {
   "cell_type": "code",
   "execution_count": 5,
   "metadata": {},
   "outputs": [],
   "source": [
    "emotions = ['love','fear','sad','trust','surprise','horror','happy','shame','pity','anger','hate','calm']\n",
    "trashwords = ['https','co','http','t','s']"
   ]
  },
  {
   "cell_type": "code",
   "execution_count": 6,
   "metadata": {},
   "outputs": [],
   "source": [
    "tagged = pd.read_csv('data_process/textcleaned.csv')\n",
    "tagged = tagged['text']"
   ]
  },
  {
   "cell_type": "code",
   "execution_count": 7,
   "metadata": {},
   "outputs": [],
   "source": [
    "def tagging(s):\n",
    "    s = s.lstrip()\n",
    "    s = re.sub(r'[^a-zA-Z]', ' ',  s)\n",
    "    s = re.sub(r' +', ' ',  s)\n",
    "    s = tweettk.tokenize(s)\n",
    "    s = [i for i in s if i not in trashwords]\n",
    "    s= pos_tag(s)\n",
    "    return(s)\n",
    "tagged = tagged.apply(tagging)\n",
    "tagged = tagged.apply(lambda x: FreqDist([i[1] for i in x]))"
   ]
  },
  {
   "cell_type": "code",
   "execution_count": 8,
   "metadata": {},
   "outputs": [],
   "source": [
    "tagged = pd.DataFrame(tagged.tolist()).fillna(0)\n",
    "tagged.to_csv('data_process/tagged.csv',index=False)"
   ]
  },
  {
   "cell_type": "code",
   "execution_count": null,
   "metadata": {},
   "outputs": [],
   "source": []
  }
 ],
 "metadata": {
  "kernelspec": {
   "display_name": "Python 3",
   "language": "python",
   "name": "python3"
  },
  "language_info": {
   "codemirror_mode": {
    "name": "ipython",
    "version": 3
   },
   "file_extension": ".py",
   "mimetype": "text/x-python",
   "name": "python",
   "nbconvert_exporter": "python",
   "pygments_lexer": "ipython3",
   "version": "3.7.6"
  }
 },
 "nbformat": 4,
 "nbformat_minor": 4
}
