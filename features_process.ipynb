{
 "cells": [
  {
   "cell_type": "code",
   "execution_count": 1,
   "metadata": {},
   "outputs": [],
   "source": [
    "import pandas as pd\n",
    "import numpy as np\n",
    "from sklearn.preprocessing import MinMaxScaler\n",
    "import math\n",
    "import string\n",
    "import re\n",
    "from nltk.corpus import stopwords\n",
    "stopw=set(stopwords.words('english'))\n",
    "from nltk import FreqDist\n",
    "from nltk.tokenize import TweetTokenizer\n",
    "from nltk import pos_tag\n",
    "tweettk=TweetTokenizer()"
   ]
  },
  {
   "cell_type": "code",
   "execution_count": 2,
   "metadata": {},
   "outputs": [],
   "source": [
    "links = pd.read_csv(\"data_process/redirected_links.csv\",names=[\"Enlace Real\"],  converters={'Enlace Real': eval})\n",
    "train = pd.read_csv('train.csv')\n",
    "test = pd.read_csv('test.csv')\n",
    "text = pd.read_csv('train.csv',usecols =['text'],encoding=\"utf-8\")"
   ]
  },
  {
   "cell_type": "code",
   "execution_count": 3,
   "metadata": {},
   "outputs": [],
   "source": [
    "test['target'] = 2\n",
    "totaldata = pd.concat([train,test])"
   ]
  },
  {
   "cell_type": "code",
   "execution_count": 4,
   "metadata": {},
   "outputs": [
    {
     "data": {
      "text/plain": [
       "(10876, 5)"
      ]
     },
     "execution_count": 4,
     "metadata": {},
     "output_type": "execute_result"
    }
   ],
   "source": [
    "totaldata.shape"
   ]
  },
  {
   "cell_type": "code",
   "execution_count": 5,
   "metadata": {},
   "outputs": [],
   "source": [
    "train = pd.merge(links, train, right_index=True, left_index=True)"
   ]
  },
  {
   "cell_type": "code",
   "execution_count": 6,
   "metadata": {},
   "outputs": [],
   "source": [
    "######################### KEYWORDS"
   ]
  },
  {
   "cell_type": "code",
   "execution_count": 7,
   "metadata": {},
   "outputs": [],
   "source": [
    "tkeyword = train[train['target']==1][['id','keyword']].groupby('keyword').agg('count')\n",
    "tkeyword.columns = ['keyword_t_count']\n",
    "tkeyword.reset_index(inplace=True)"
   ]
  },
  {
   "cell_type": "code",
   "execution_count": 8,
   "metadata": {},
   "outputs": [],
   "source": [
    "fkeyword = train[train['target']==0][['id','keyword']].groupby('keyword').agg('count')\n",
    "fkeyword.columns = ['keyword_f_count']\n",
    "fkeyword.reset_index(inplace=True)"
   ]
  },
  {
   "cell_type": "code",
   "execution_count": 9,
   "metadata": {},
   "outputs": [],
   "source": [
    "keyword = tkeyword.merge(fkeyword)"
   ]
  },
  {
   "cell_type": "code",
   "execution_count": 10,
   "metadata": {},
   "outputs": [],
   "source": [
    "keyword['keyword_metric']= keyword['keyword_t_count'] - keyword['keyword_f_count']\n",
    "keyword['keyword_total']= keyword['keyword_t_count'] + keyword['keyword_f_count']\n",
    "keyword['keyword_metric'] = keyword['keyword_metric']/keyword['keyword_total']\n",
    "keyword = keyword.sort_values(by='keyword_total')\n",
    "keyword['keyword_total'] = keyword['keyword_total'].apply(lambda x: 1 if x<20 else math.log(x+10,20))\n",
    "scaler = MinMaxScaler()\n",
    "x = keyword['keyword_total'].values.reshape(-1, 1)\n",
    "keyword['keyword_total'] = scaler.fit_transform(x)\n",
    "keyword['keyword_metric'] = keyword['keyword_metric'] * keyword['keyword_total']"
   ]
  },
  {
   "cell_type": "code",
   "execution_count": 11,
   "metadata": {},
   "outputs": [],
   "source": [
    "keyword.drop('keyword_total',axis=1,inplace=True)"
   ]
  },
  {
   "cell_type": "code",
   "execution_count": 12,
   "metadata": {},
   "outputs": [
    {
     "data": {
      "text/plain": [
       "(0.8604936840518713, -0.8802189264555614)"
      ]
     },
     "execution_count": 12,
     "metadata": {},
     "output_type": "execute_result"
    }
   ],
   "source": [
    "keyword['keyword_metric'].max(),keyword['keyword_metric'].min()"
   ]
  },
  {
   "cell_type": "code",
   "execution_count": 13,
   "metadata": {},
   "outputs": [
    {
     "data": {
      "text/html": [
       "<div>\n",
       "<style scoped>\n",
       "    .dataframe tbody tr th:only-of-type {\n",
       "        vertical-align: middle;\n",
       "    }\n",
       "\n",
       "    .dataframe tbody tr th {\n",
       "        vertical-align: top;\n",
       "    }\n",
       "\n",
       "    .dataframe thead th {\n",
       "        text-align: right;\n",
       "    }\n",
       "</style>\n",
       "<table border=\"1\" class=\"dataframe\">\n",
       "  <thead>\n",
       "    <tr style=\"text-align: right;\">\n",
       "      <th></th>\n",
       "      <th>keyword</th>\n",
       "      <th>keyword_t_count</th>\n",
       "      <th>keyword_f_count</th>\n",
       "      <th>keyword_metric</th>\n",
       "    </tr>\n",
       "  </thead>\n",
       "  <tbody>\n",
       "    <tr>\n",
       "      <th>150</th>\n",
       "      <td>outbreak</td>\n",
       "      <td>39</td>\n",
       "      <td>1</td>\n",
       "      <td>0.860494</td>\n",
       "    </tr>\n",
       "    <tr>\n",
       "      <th>202</th>\n",
       "      <td>typhoon</td>\n",
       "      <td>37</td>\n",
       "      <td>1</td>\n",
       "      <td>0.819880</td>\n",
       "    </tr>\n",
       "    <tr>\n",
       "      <th>149</th>\n",
       "      <td>oil%20spill</td>\n",
       "      <td>37</td>\n",
       "      <td>1</td>\n",
       "      <td>0.819880</td>\n",
       "    </tr>\n",
       "    <tr>\n",
       "      <th>184</th>\n",
       "      <td>suicide%20bombing</td>\n",
       "      <td>32</td>\n",
       "      <td>1</td>\n",
       "      <td>0.710830</td>\n",
       "    </tr>\n",
       "    <tr>\n",
       "      <th>163</th>\n",
       "      <td>rescuers</td>\n",
       "      <td>32</td>\n",
       "      <td>3</td>\n",
       "      <td>0.664208</td>\n",
       "    </tr>\n",
       "    <tr>\n",
       "      <th>182</th>\n",
       "      <td>suicide%20bomb</td>\n",
       "      <td>32</td>\n",
       "      <td>3</td>\n",
       "      <td>0.664208</td>\n",
       "    </tr>\n",
       "    <tr>\n",
       "      <th>183</th>\n",
       "      <td>suicide%20bomber</td>\n",
       "      <td>30</td>\n",
       "      <td>1</td>\n",
       "      <td>0.663827</td>\n",
       "    </tr>\n",
       "    <tr>\n",
       "      <th>144</th>\n",
       "      <td>nuclear%20disaster</td>\n",
       "      <td>31</td>\n",
       "      <td>3</td>\n",
       "      <td>0.641872</td>\n",
       "    </tr>\n",
       "    <tr>\n",
       "      <th>93</th>\n",
       "      <td>evacuated</td>\n",
       "      <td>32</td>\n",
       "      <td>4</td>\n",
       "      <td>0.640389</td>\n",
       "    </tr>\n",
       "    <tr>\n",
       "      <th>159</th>\n",
       "      <td>razed</td>\n",
       "      <td>31</td>\n",
       "      <td>4</td>\n",
       "      <td>0.618401</td>\n",
       "    </tr>\n",
       "  </tbody>\n",
       "</table>\n",
       "</div>"
      ],
      "text/plain": [
       "                keyword  keyword_t_count  keyword_f_count  keyword_metric\n",
       "150            outbreak               39                1        0.860494\n",
       "202             typhoon               37                1        0.819880\n",
       "149         oil%20spill               37                1        0.819880\n",
       "184   suicide%20bombing               32                1        0.710830\n",
       "163            rescuers               32                3        0.664208\n",
       "182      suicide%20bomb               32                3        0.664208\n",
       "183    suicide%20bomber               30                1        0.663827\n",
       "144  nuclear%20disaster               31                3        0.641872\n",
       "93            evacuated               32                4        0.640389\n",
       "159               razed               31                4        0.618401"
      ]
     },
     "execution_count": 13,
     "metadata": {},
     "output_type": "execute_result"
    }
   ],
   "source": [
    "keyword.nlargest(10,columns='keyword_metric')"
   ]
  },
  {
   "cell_type": "code",
   "execution_count": 14,
   "metadata": {},
   "outputs": [
    {
     "data": {
      "text/html": [
       "<div>\n",
       "<style scoped>\n",
       "    .dataframe tbody tr th:only-of-type {\n",
       "        vertical-align: middle;\n",
       "    }\n",
       "\n",
       "    .dataframe tbody tr th {\n",
       "        vertical-align: top;\n",
       "    }\n",
       "\n",
       "    .dataframe thead th {\n",
       "        text-align: right;\n",
       "    }\n",
       "</style>\n",
       "<table border=\"1\" class=\"dataframe\">\n",
       "  <thead>\n",
       "    <tr style=\"text-align: right;\">\n",
       "      <th></th>\n",
       "      <th>keyword</th>\n",
       "      <th>keyword_t_count</th>\n",
       "      <th>keyword_f_count</th>\n",
       "      <th>keyword_metric</th>\n",
       "    </tr>\n",
       "  </thead>\n",
       "  <tbody>\n",
       "    <tr>\n",
       "      <th>28</th>\n",
       "      <td>body%20bags</td>\n",
       "      <td>1</td>\n",
       "      <td>40</td>\n",
       "      <td>-0.880219</td>\n",
       "    </tr>\n",
       "    <tr>\n",
       "      <th>167</th>\n",
       "      <td>ruin</td>\n",
       "      <td>1</td>\n",
       "      <td>36</td>\n",
       "      <td>-0.798962</td>\n",
       "    </tr>\n",
       "    <tr>\n",
       "      <th>120</th>\n",
       "      <td>hellfire</td>\n",
       "      <td>2</td>\n",
       "      <td>37</td>\n",
       "      <td>-0.794959</td>\n",
       "    </tr>\n",
       "    <tr>\n",
       "      <th>216</th>\n",
       "      <td>wrecked</td>\n",
       "      <td>3</td>\n",
       "      <td>36</td>\n",
       "      <td>-0.749533</td>\n",
       "    </tr>\n",
       "    <tr>\n",
       "      <th>116</th>\n",
       "      <td>harm</td>\n",
       "      <td>4</td>\n",
       "      <td>37</td>\n",
       "      <td>-0.744801</td>\n",
       "    </tr>\n",
       "    <tr>\n",
       "      <th>18</th>\n",
       "      <td>blazing</td>\n",
       "      <td>1</td>\n",
       "      <td>33</td>\n",
       "      <td>-0.733567</td>\n",
       "    </tr>\n",
       "    <tr>\n",
       "      <th>170</th>\n",
       "      <td>screaming</td>\n",
       "      <td>2</td>\n",
       "      <td>34</td>\n",
       "      <td>-0.731873</td>\n",
       "    </tr>\n",
       "    <tr>\n",
       "      <th>95</th>\n",
       "      <td>explode</td>\n",
       "      <td>3</td>\n",
       "      <td>35</td>\n",
       "      <td>-0.728782</td>\n",
       "    </tr>\n",
       "    <tr>\n",
       "      <th>7</th>\n",
       "      <td>armageddon</td>\n",
       "      <td>5</td>\n",
       "      <td>37</td>\n",
       "      <td>-0.719660</td>\n",
       "    </tr>\n",
       "    <tr>\n",
       "      <th>26</th>\n",
       "      <td>body%20bag</td>\n",
       "      <td>1</td>\n",
       "      <td>32</td>\n",
       "      <td>-0.710830</td>\n",
       "    </tr>\n",
       "  </tbody>\n",
       "</table>\n",
       "</div>"
      ],
      "text/plain": [
       "         keyword  keyword_t_count  keyword_f_count  keyword_metric\n",
       "28   body%20bags                1               40       -0.880219\n",
       "167         ruin                1               36       -0.798962\n",
       "120     hellfire                2               37       -0.794959\n",
       "216      wrecked                3               36       -0.749533\n",
       "116         harm                4               37       -0.744801\n",
       "18       blazing                1               33       -0.733567\n",
       "170    screaming                2               34       -0.731873\n",
       "95       explode                3               35       -0.728782\n",
       "7     armageddon                5               37       -0.719660\n",
       "26    body%20bag                1               32       -0.710830"
      ]
     },
     "execution_count": 14,
     "metadata": {},
     "output_type": "execute_result"
    }
   ],
   "source": [
    "keyword.nsmallest(10,columns='keyword_metric')"
   ]
  },
  {
   "cell_type": "code",
   "execution_count": 15,
   "metadata": {},
   "outputs": [],
   "source": [
    "keyword=keyword[['keyword','keyword_metric']]\n",
    "keyword.to_csv('data_process/keyword.csv',index=False)\n",
    "totaldata = totaldata.merge(keyword, how='left')"
   ]
  },
  {
   "cell_type": "code",
   "execution_count": 16,
   "metadata": {},
   "outputs": [
    {
     "data": {
      "text/plain": [
       "(10876, 6)"
      ]
     },
     "execution_count": 16,
     "metadata": {},
     "output_type": "execute_result"
    }
   ],
   "source": [
    "totaldata.shape"
   ]
  },
  {
   "cell_type": "code",
   "execution_count": 17,
   "metadata": {},
   "outputs": [
    {
     "data": {
      "text/plain": [
       "id                False\n",
       "keyword            True\n",
       "location           True\n",
       "text              False\n",
       "target            False\n",
       "keyword_metric     True\n",
       "dtype: bool"
      ]
     },
     "execution_count": 17,
     "metadata": {},
     "output_type": "execute_result"
    }
   ],
   "source": [
    "totaldata.isna().any()"
   ]
  },
  {
   "cell_type": "code",
   "execution_count": null,
   "metadata": {},
   "outputs": [],
   "source": []
  },
  {
   "cell_type": "code",
   "execution_count": 18,
   "metadata": {},
   "outputs": [],
   "source": [
    "######################### DOMINIOS"
   ]
  },
  {
   "cell_type": "code",
   "execution_count": 19,
   "metadata": {},
   "outputs": [],
   "source": [
    "lista = list()\n",
    "def get_domain(string):\n",
    "    if len(string)==0:\n",
    "        return(' ')\n",
    "    for s in string.split(\"/\"):\n",
    "        if \".\" in s:\n",
    "            return s.replace(\"www.\",\"\")\n",
    "for index,row in train.loc[train[\"Enlace Real\"].str.len()>0].iterrows():\n",
    "    for url in row[\"Enlace Real\"]:\n",
    "        lista.append([index, url, row[\"target\"],get_domain(url)])"
   ]
  },
  {
   "cell_type": "code",
   "execution_count": 20,
   "metadata": {},
   "outputs": [],
   "source": [
    "enlaces_target = pd.DataFrame(data=lista,columns=[\"id\",\"Enlace\",\"target\",\"Dominio\"])"
   ]
  },
  {
   "cell_type": "code",
   "execution_count": 21,
   "metadata": {},
   "outputs": [
    {
     "data": {
      "text/html": [
       "<div>\n",
       "<style scoped>\n",
       "    .dataframe tbody tr th:only-of-type {\n",
       "        vertical-align: middle;\n",
       "    }\n",
       "\n",
       "    .dataframe tbody tr th {\n",
       "        vertical-align: top;\n",
       "    }\n",
       "\n",
       "    .dataframe thead th {\n",
       "        text-align: right;\n",
       "    }\n",
       "</style>\n",
       "<table border=\"1\" class=\"dataframe\">\n",
       "  <thead>\n",
       "    <tr style=\"text-align: right;\">\n",
       "      <th></th>\n",
       "      <th>Dominio</th>\n",
       "      <th>cant_verdaderos</th>\n",
       "      <th>cant_falsos</th>\n",
       "    </tr>\n",
       "  </thead>\n",
       "  <tbody>\n",
       "    <tr>\n",
       "      <th>0</th>\n",
       "      <td>twitter.com</td>\n",
       "      <td>481</td>\n",
       "      <td>600</td>\n",
       "    </tr>\n",
       "    <tr>\n",
       "      <th>1</th>\n",
       "      <td>bbc.co.uk</td>\n",
       "      <td>62</td>\n",
       "      <td>2</td>\n",
       "    </tr>\n",
       "    <tr>\n",
       "      <th>2</th>\n",
       "      <td>youtube.com</td>\n",
       "      <td>55</td>\n",
       "      <td>110</td>\n",
       "    </tr>\n",
       "    <tr>\n",
       "      <th>3</th>\n",
       "      <td>abcnews.go.com</td>\n",
       "      <td>49</td>\n",
       "      <td>5</td>\n",
       "    </tr>\n",
       "    <tr>\n",
       "      <th>4</th>\n",
       "      <td>facebook.com</td>\n",
       "      <td>40</td>\n",
       "      <td>51</td>\n",
       "    </tr>\n",
       "  </tbody>\n",
       "</table>\n",
       "</div>"
      ],
      "text/plain": [
       "          Dominio  cant_verdaderos  cant_falsos\n",
       "0     twitter.com              481          600\n",
       "1       bbc.co.uk               62            2\n",
       "2     youtube.com               55          110\n",
       "3  abcnews.go.com               49            5\n",
       "4    facebook.com               40           51"
      ]
     },
     "execution_count": 21,
     "metadata": {},
     "output_type": "execute_result"
    }
   ],
   "source": [
    "enlaces_t = enlaces_target.loc[enlaces_target.target == 1]['Dominio'].value_counts()\n",
    "enlaces_t = pd.DataFrame({'Dominio': enlaces_t.index, 'cant_verdaderos': enlaces_t.values})\n",
    "enlaces_f = enlaces_target.loc[enlaces_target.target == 0]['Dominio'].value_counts()\n",
    "enlaces_f = pd.DataFrame({'Dominio': enlaces_f.index, 'cant_falsos': enlaces_f.values})\n",
    "\n",
    "enlaces = pd.merge(enlaces_t, enlaces_f, how='inner', on='Dominio')\n",
    "enlaces.head(5)"
   ]
  },
  {
   "cell_type": "code",
   "execution_count": 22,
   "metadata": {},
   "outputs": [],
   "source": [
    "enlaces['domain_metric'] = enlaces['cant_verdaderos'] - enlaces['cant_falsos']\n",
    "enlaces['cant_total'] = enlaces['cant_verdaderos'] + enlaces['cant_falsos']\n",
    "enlaces['domain_metric'] = enlaces['domain_metric']/enlaces['cant_total']\n",
    "enlaces = enlaces.sort_values(by='cant_total')\n",
    "enlaces['cant_total'] = enlaces['cant_total'].apply(lambda x: 1 if x<20 else math.log(x+10,20))\n",
    "scaler = MinMaxScaler()\n",
    "x = enlaces['cant_total'].values.reshape(-1, 1)\n",
    "enlaces['cant_total'] = scaler.fit_transform(x)\n",
    "enlaces['domain_metric'] = enlaces['domain_metric'] * enlaces['cant_total']"
   ]
  },
  {
   "cell_type": "code",
   "execution_count": 23,
   "metadata": {},
   "outputs": [],
   "source": [
    "enlaces = enlaces[['Dominio','domain_metric']]\n",
    "enlaces_target = enlaces_target.merge(enlaces).groupby('id').agg({'domain_metric':['mean','std','max','min']})\n",
    "enlaces_target.columns =enlaces_target.columns.get_level_values(0) + '_' + enlaces_target.columns.get_level_values(1)\n",
    "enlaces_target.reset_index(inplace=True)"
   ]
  },
  {
   "cell_type": "code",
   "execution_count": 24,
   "metadata": {},
   "outputs": [],
   "source": [
    "enlaces_target.to_csv('data_process/enlaces.csv',index=False)"
   ]
  },
  {
   "cell_type": "code",
   "execution_count": 25,
   "metadata": {},
   "outputs": [],
   "source": [
    "totaldata = totaldata.merge(enlaces_target,how='left')"
   ]
  },
  {
   "cell_type": "code",
   "execution_count": 26,
   "metadata": {},
   "outputs": [],
   "source": [
    "############################# "
   ]
  },
  {
   "cell_type": "code",
   "execution_count": 27,
   "metadata": {},
   "outputs": [],
   "source": [
    "totaldata['textsize'] = totaldata['text'].apply(len) #### textsize\n",
    "totaldata['punctuation_count'] = totaldata['text'].apply(lambda x: len([c for c in str(x) if c in string.punctuation]))\n",
    "totaldata['word_mean_len'] = totaldata['text'].apply(lambda x: np.mean([len(c) for c in str(x).split()])) \n",
    "totaldata['haslocacion'] = totaldata['location'].notna()\n",
    "totaldata['word_count'] = totaldata['text'].apply(lambda x: len(str(x).split()))\n",
    "totaldata['upper_count'] = totaldata['text'].apply(lambda x: len(re.findall(\"[ A-Z ]\",x)))\n",
    "totaldata['white_count'] = totaldata['text'].apply(lambda x: len(re.findall(r'\\s+',x)))\n",
    "totaldata['url_count'] = totaldata['text'].apply(lambda x: len([w for w in str(x).lower().split() if 'http' in w or 'https' in w]))\n",
    "totaldata['hashtag_count'] = totaldata['text'].apply(lambda x: len([c for c in str(x) if c == '#']))\n",
    "totaldata['mention_count'] = totaldata['text'].apply(lambda x: len([c for c in str(x) if c == '@']))"
   ]
  },
  {
   "cell_type": "code",
   "execution_count": 28,
   "metadata": {},
   "outputs": [
    {
     "data": {
      "text/plain": [
       "Index(['id', 'keyword', 'location', 'text', 'target', 'keyword_metric',\n",
       "       'domain_metric_mean', 'domain_metric_std', 'domain_metric_max',\n",
       "       'domain_metric_min', 'textsize', 'punctuation_count', 'word_mean_len',\n",
       "       'haslocacion', 'word_count', 'upper_count', 'white_count', 'url_count',\n",
       "       'hashtag_count', 'mention_count'],\n",
       "      dtype='object')"
      ]
     },
     "execution_count": 28,
     "metadata": {},
     "output_type": "execute_result"
    }
   ],
   "source": [
    "totaldata.columns"
   ]
  },
  {
   "cell_type": "code",
   "execution_count": 29,
   "metadata": {},
   "outputs": [],
   "source": [
    "############################ TAGGING"
   ]
  },
  {
   "cell_type": "code",
   "execution_count": 30,
   "metadata": {},
   "outputs": [],
   "source": [
    "tagged = pd.read_csv('data_process/textcleaned.csv')\n",
    "tagged = tagged['text']\n",
    "trashwords = ['https','co','http','t','s']"
   ]
  },
  {
   "cell_type": "code",
   "execution_count": 31,
   "metadata": {},
   "outputs": [],
   "source": [
    "def tagging(s):\n",
    "    s = s.lstrip()\n",
    "    s = re.sub(r'[^a-zA-Z]', ' ',  s)\n",
    "    s = re.sub(r' +', ' ',  s)\n",
    "    s = tweettk.tokenize(s)\n",
    "    s = [i for i in s if i not in trashwords]\n",
    "    s= pos_tag(s)\n",
    "    return(s)\n",
    "tagged = tagged.apply(tagging)\n",
    "tagged = tagged.apply(lambda x: FreqDist([i[1] for i in x]))"
   ]
  },
  {
   "cell_type": "code",
   "execution_count": 32,
   "metadata": {},
   "outputs": [],
   "source": [
    "tagged = pd.DataFrame(tagged.tolist()).fillna(0)\n",
    "tagged.to_csv('data_process/tagged.csv',index=False)"
   ]
  },
  {
   "cell_type": "code",
   "execution_count": 33,
   "metadata": {},
   "outputs": [
    {
     "data": {
      "text/html": [
       "<div>\n",
       "<style scoped>\n",
       "    .dataframe tbody tr th:only-of-type {\n",
       "        vertical-align: middle;\n",
       "    }\n",
       "\n",
       "    .dataframe tbody tr th {\n",
       "        vertical-align: top;\n",
       "    }\n",
       "\n",
       "    .dataframe thead th {\n",
       "        text-align: right;\n",
       "    }\n",
       "</style>\n",
       "<table border=\"1\" class=\"dataframe\">\n",
       "  <thead>\n",
       "    <tr style=\"text-align: right;\">\n",
       "      <th></th>\n",
       "      <th>PRP$</th>\n",
       "      <th>NNS</th>\n",
       "      <th>VBP</th>\n",
       "      <th>DT</th>\n",
       "      <th>NNP</th>\n",
       "      <th>IN</th>\n",
       "      <th>NN</th>\n",
       "      <th>PRP</th>\n",
       "      <th>VBD</th>\n",
       "      <th>TO</th>\n",
       "      <th>...</th>\n",
       "      <th>WDT</th>\n",
       "      <th>RBR</th>\n",
       "      <th>RBS</th>\n",
       "      <th>FW</th>\n",
       "      <th>PDT</th>\n",
       "      <th>POS</th>\n",
       "      <th>UH</th>\n",
       "      <th>SYM</th>\n",
       "      <th>WP$</th>\n",
       "      <th>''</th>\n",
       "    </tr>\n",
       "  </thead>\n",
       "  <tbody>\n",
       "    <tr>\n",
       "      <th>0</th>\n",
       "      <td>1.0</td>\n",
       "      <td>1.0</td>\n",
       "      <td>1.0</td>\n",
       "      <td>3.0</td>\n",
       "      <td>4.0</td>\n",
       "      <td>1.0</td>\n",
       "      <td>1.0</td>\n",
       "      <td>1.0</td>\n",
       "      <td>0.0</td>\n",
       "      <td>0.0</td>\n",
       "      <td>...</td>\n",
       "      <td>0.0</td>\n",
       "      <td>0.0</td>\n",
       "      <td>0.0</td>\n",
       "      <td>0.0</td>\n",
       "      <td>0.0</td>\n",
       "      <td>0.0</td>\n",
       "      <td>0.0</td>\n",
       "      <td>0.0</td>\n",
       "      <td>0.0</td>\n",
       "      <td>0.0</td>\n",
       "    </tr>\n",
       "    <tr>\n",
       "      <th>1</th>\n",
       "      <td>0.0</td>\n",
       "      <td>0.0</td>\n",
       "      <td>0.0</td>\n",
       "      <td>0.0</td>\n",
       "      <td>5.0</td>\n",
       "      <td>1.0</td>\n",
       "      <td>1.0</td>\n",
       "      <td>0.0</td>\n",
       "      <td>0.0</td>\n",
       "      <td>0.0</td>\n",
       "      <td>...</td>\n",
       "      <td>0.0</td>\n",
       "      <td>0.0</td>\n",
       "      <td>0.0</td>\n",
       "      <td>0.0</td>\n",
       "      <td>0.0</td>\n",
       "      <td>0.0</td>\n",
       "      <td>0.0</td>\n",
       "      <td>0.0</td>\n",
       "      <td>0.0</td>\n",
       "      <td>0.0</td>\n",
       "    </tr>\n",
       "    <tr>\n",
       "      <th>2</th>\n",
       "      <td>0.0</td>\n",
       "      <td>3.0</td>\n",
       "      <td>2.0</td>\n",
       "      <td>1.0</td>\n",
       "      <td>1.0</td>\n",
       "      <td>3.0</td>\n",
       "      <td>4.0</td>\n",
       "      <td>0.0</td>\n",
       "      <td>1.0</td>\n",
       "      <td>1.0</td>\n",
       "      <td>...</td>\n",
       "      <td>0.0</td>\n",
       "      <td>0.0</td>\n",
       "      <td>0.0</td>\n",
       "      <td>0.0</td>\n",
       "      <td>0.0</td>\n",
       "      <td>0.0</td>\n",
       "      <td>0.0</td>\n",
       "      <td>0.0</td>\n",
       "      <td>0.0</td>\n",
       "      <td>0.0</td>\n",
       "    </tr>\n",
       "    <tr>\n",
       "      <th>3</th>\n",
       "      <td>0.0</td>\n",
       "      <td>3.0</td>\n",
       "      <td>1.0</td>\n",
       "      <td>0.0</td>\n",
       "      <td>1.0</td>\n",
       "      <td>1.0</td>\n",
       "      <td>0.0</td>\n",
       "      <td>0.0</td>\n",
       "      <td>0.0</td>\n",
       "      <td>0.0</td>\n",
       "      <td>...</td>\n",
       "      <td>0.0</td>\n",
       "      <td>0.0</td>\n",
       "      <td>0.0</td>\n",
       "      <td>0.0</td>\n",
       "      <td>0.0</td>\n",
       "      <td>0.0</td>\n",
       "      <td>0.0</td>\n",
       "      <td>0.0</td>\n",
       "      <td>0.0</td>\n",
       "      <td>0.0</td>\n",
       "    </tr>\n",
       "    <tr>\n",
       "      <th>4</th>\n",
       "      <td>0.0</td>\n",
       "      <td>1.0</td>\n",
       "      <td>1.0</td>\n",
       "      <td>2.0</td>\n",
       "      <td>2.0</td>\n",
       "      <td>4.0</td>\n",
       "      <td>3.0</td>\n",
       "      <td>0.0</td>\n",
       "      <td>1.0</td>\n",
       "      <td>0.0</td>\n",
       "      <td>...</td>\n",
       "      <td>0.0</td>\n",
       "      <td>0.0</td>\n",
       "      <td>0.0</td>\n",
       "      <td>0.0</td>\n",
       "      <td>0.0</td>\n",
       "      <td>0.0</td>\n",
       "      <td>0.0</td>\n",
       "      <td>0.0</td>\n",
       "      <td>0.0</td>\n",
       "      <td>0.0</td>\n",
       "    </tr>\n",
       "    <tr>\n",
       "      <th>...</th>\n",
       "      <td>...</td>\n",
       "      <td>...</td>\n",
       "      <td>...</td>\n",
       "      <td>...</td>\n",
       "      <td>...</td>\n",
       "      <td>...</td>\n",
       "      <td>...</td>\n",
       "      <td>...</td>\n",
       "      <td>...</td>\n",
       "      <td>...</td>\n",
       "      <td>...</td>\n",
       "      <td>...</td>\n",
       "      <td>...</td>\n",
       "      <td>...</td>\n",
       "      <td>...</td>\n",
       "      <td>...</td>\n",
       "      <td>...</td>\n",
       "      <td>...</td>\n",
       "      <td>...</td>\n",
       "      <td>...</td>\n",
       "      <td>...</td>\n",
       "    </tr>\n",
       "    <tr>\n",
       "      <th>10871</th>\n",
       "      <td>0.0</td>\n",
       "      <td>0.0</td>\n",
       "      <td>0.0</td>\n",
       "      <td>0.0</td>\n",
       "      <td>7.0</td>\n",
       "      <td>0.0</td>\n",
       "      <td>0.0</td>\n",
       "      <td>0.0</td>\n",
       "      <td>0.0</td>\n",
       "      <td>0.0</td>\n",
       "      <td>...</td>\n",
       "      <td>0.0</td>\n",
       "      <td>0.0</td>\n",
       "      <td>0.0</td>\n",
       "      <td>0.0</td>\n",
       "      <td>0.0</td>\n",
       "      <td>0.0</td>\n",
       "      <td>0.0</td>\n",
       "      <td>0.0</td>\n",
       "      <td>0.0</td>\n",
       "      <td>0.0</td>\n",
       "    </tr>\n",
       "    <tr>\n",
       "      <th>10872</th>\n",
       "      <td>0.0</td>\n",
       "      <td>1.0</td>\n",
       "      <td>1.0</td>\n",
       "      <td>0.0</td>\n",
       "      <td>4.0</td>\n",
       "      <td>5.0</td>\n",
       "      <td>3.0</td>\n",
       "      <td>1.0</td>\n",
       "      <td>1.0</td>\n",
       "      <td>0.0</td>\n",
       "      <td>...</td>\n",
       "      <td>0.0</td>\n",
       "      <td>0.0</td>\n",
       "      <td>0.0</td>\n",
       "      <td>0.0</td>\n",
       "      <td>0.0</td>\n",
       "      <td>0.0</td>\n",
       "      <td>0.0</td>\n",
       "      <td>0.0</td>\n",
       "      <td>0.0</td>\n",
       "      <td>0.0</td>\n",
       "    </tr>\n",
       "    <tr>\n",
       "      <th>10873</th>\n",
       "      <td>0.0</td>\n",
       "      <td>0.0</td>\n",
       "      <td>0.0</td>\n",
       "      <td>0.0</td>\n",
       "      <td>2.0</td>\n",
       "      <td>1.0</td>\n",
       "      <td>1.0</td>\n",
       "      <td>0.0</td>\n",
       "      <td>0.0</td>\n",
       "      <td>0.0</td>\n",
       "      <td>...</td>\n",
       "      <td>0.0</td>\n",
       "      <td>0.0</td>\n",
       "      <td>0.0</td>\n",
       "      <td>0.0</td>\n",
       "      <td>0.0</td>\n",
       "      <td>0.0</td>\n",
       "      <td>0.0</td>\n",
       "      <td>0.0</td>\n",
       "      <td>0.0</td>\n",
       "      <td>0.0</td>\n",
       "    </tr>\n",
       "    <tr>\n",
       "      <th>10874</th>\n",
       "      <td>0.0</td>\n",
       "      <td>1.0</td>\n",
       "      <td>0.0</td>\n",
       "      <td>0.0</td>\n",
       "      <td>5.0</td>\n",
       "      <td>0.0</td>\n",
       "      <td>0.0</td>\n",
       "      <td>0.0</td>\n",
       "      <td>0.0</td>\n",
       "      <td>0.0</td>\n",
       "      <td>...</td>\n",
       "      <td>0.0</td>\n",
       "      <td>0.0</td>\n",
       "      <td>0.0</td>\n",
       "      <td>0.0</td>\n",
       "      <td>0.0</td>\n",
       "      <td>0.0</td>\n",
       "      <td>0.0</td>\n",
       "      <td>0.0</td>\n",
       "      <td>0.0</td>\n",
       "      <td>0.0</td>\n",
       "    </tr>\n",
       "    <tr>\n",
       "      <th>10875</th>\n",
       "      <td>1.0</td>\n",
       "      <td>0.0</td>\n",
       "      <td>0.0</td>\n",
       "      <td>0.0</td>\n",
       "      <td>7.0</td>\n",
       "      <td>1.0</td>\n",
       "      <td>0.0</td>\n",
       "      <td>0.0</td>\n",
       "      <td>0.0</td>\n",
       "      <td>0.0</td>\n",
       "      <td>...</td>\n",
       "      <td>0.0</td>\n",
       "      <td>0.0</td>\n",
       "      <td>0.0</td>\n",
       "      <td>0.0</td>\n",
       "      <td>0.0</td>\n",
       "      <td>0.0</td>\n",
       "      <td>0.0</td>\n",
       "      <td>0.0</td>\n",
       "      <td>0.0</td>\n",
       "      <td>0.0</td>\n",
       "    </tr>\n",
       "  </tbody>\n",
       "</table>\n",
       "<p>10876 rows × 36 columns</p>\n",
       "</div>"
      ],
      "text/plain": [
       "       PRP$  NNS  VBP   DT  NNP   IN   NN  PRP  VBD   TO  ...  WDT  RBR  RBS  \\\n",
       "0       1.0  1.0  1.0  3.0  4.0  1.0  1.0  1.0  0.0  0.0  ...  0.0  0.0  0.0   \n",
       "1       0.0  0.0  0.0  0.0  5.0  1.0  1.0  0.0  0.0  0.0  ...  0.0  0.0  0.0   \n",
       "2       0.0  3.0  2.0  1.0  1.0  3.0  4.0  0.0  1.0  1.0  ...  0.0  0.0  0.0   \n",
       "3       0.0  3.0  1.0  0.0  1.0  1.0  0.0  0.0  0.0  0.0  ...  0.0  0.0  0.0   \n",
       "4       0.0  1.0  1.0  2.0  2.0  4.0  3.0  0.0  1.0  0.0  ...  0.0  0.0  0.0   \n",
       "...     ...  ...  ...  ...  ...  ...  ...  ...  ...  ...  ...  ...  ...  ...   \n",
       "10871   0.0  0.0  0.0  0.0  7.0  0.0  0.0  0.0  0.0  0.0  ...  0.0  0.0  0.0   \n",
       "10872   0.0  1.0  1.0  0.0  4.0  5.0  3.0  1.0  1.0  0.0  ...  0.0  0.0  0.0   \n",
       "10873   0.0  0.0  0.0  0.0  2.0  1.0  1.0  0.0  0.0  0.0  ...  0.0  0.0  0.0   \n",
       "10874   0.0  1.0  0.0  0.0  5.0  0.0  0.0  0.0  0.0  0.0  ...  0.0  0.0  0.0   \n",
       "10875   1.0  0.0  0.0  0.0  7.0  1.0  0.0  0.0  0.0  0.0  ...  0.0  0.0  0.0   \n",
       "\n",
       "        FW  PDT  POS   UH  SYM  WP$   ''  \n",
       "0      0.0  0.0  0.0  0.0  0.0  0.0  0.0  \n",
       "1      0.0  0.0  0.0  0.0  0.0  0.0  0.0  \n",
       "2      0.0  0.0  0.0  0.0  0.0  0.0  0.0  \n",
       "3      0.0  0.0  0.0  0.0  0.0  0.0  0.0  \n",
       "4      0.0  0.0  0.0  0.0  0.0  0.0  0.0  \n",
       "...    ...  ...  ...  ...  ...  ...  ...  \n",
       "10871  0.0  0.0  0.0  0.0  0.0  0.0  0.0  \n",
       "10872  0.0  0.0  0.0  0.0  0.0  0.0  0.0  \n",
       "10873  0.0  0.0  0.0  0.0  0.0  0.0  0.0  \n",
       "10874  0.0  0.0  0.0  0.0  0.0  0.0  0.0  \n",
       "10875  0.0  0.0  0.0  0.0  0.0  0.0  0.0  \n",
       "\n",
       "[10876 rows x 36 columns]"
      ]
     },
     "execution_count": 33,
     "metadata": {},
     "output_type": "execute_result"
    }
   ],
   "source": [
    "tagged"
   ]
  },
  {
   "cell_type": "code",
   "execution_count": 34,
   "metadata": {},
   "outputs": [],
   "source": [
    "#tagged = tagged[['NN','IN','RB','VBP','VB','PRP','CC','PRP$']]"
   ]
  },
  {
   "cell_type": "code",
   "execution_count": null,
   "metadata": {},
   "outputs": [],
   "source": []
  },
  {
   "cell_type": "code",
   "execution_count": 34,
   "metadata": {},
   "outputs": [],
   "source": [
    "totaldata = pd.concat([totaldata,tagged],axis=1).fillna(0)"
   ]
  },
  {
   "cell_type": "code",
   "execution_count": 35,
   "metadata": {},
   "outputs": [],
   "source": [
    "totaldata.to_csv('data_process/totaldata.csv',index=False)"
   ]
  },
  {
   "cell_type": "code",
   "execution_count": 36,
   "metadata": {},
   "outputs": [
    {
     "data": {
      "text/plain": [
       "(10876, 56)"
      ]
     },
     "execution_count": 36,
     "metadata": {},
     "output_type": "execute_result"
    }
   ],
   "source": [
    "totaldata.shape"
   ]
  },
  {
   "cell_type": "code",
   "execution_count": null,
   "metadata": {},
   "outputs": [],
   "source": []
  }
 ],
 "metadata": {
  "kernelspec": {
   "display_name": "Python 3",
   "language": "python",
   "name": "python3"
  },
  "language_info": {
   "codemirror_mode": {
    "name": "ipython",
    "version": 3
   },
   "file_extension": ".py",
   "mimetype": "text/x-python",
   "name": "python",
   "nbconvert_exporter": "python",
   "pygments_lexer": "ipython3",
   "version": "3.7.6"
  }
 },
 "nbformat": 4,
 "nbformat_minor": 4
}
